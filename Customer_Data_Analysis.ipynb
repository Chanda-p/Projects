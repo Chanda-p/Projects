{
  "cells": [
    {
      "cell_type": "markdown",
      "id": "e356b851-f7a9-4f12-ae70-93d26dee453b",
      "metadata": {
        "id": "e356b851-f7a9-4f12-ae70-93d26dee453b"
      },
      "source": [
        "## Exploratory Data Analysis on Customer Bookings data for British Airways"
      ]
    },
    {
      "cell_type": "markdown",
      "id": "d7d67fea-8f6b-4e3c-a414-2e821ca8b442",
      "metadata": {
        "id": "d7d67fea-8f6b-4e3c-a414-2e821ca8b442"
      },
      "source": [
        "We will explore the customer data first to get to know it better in depth.\n"
      ]
    },
    {
      "cell_type": "code",
      "source": [
        "# Import the libraries\n",
        "import pandas as pd\n",
        "import numpy as np\n",
        "import matplotlib.pyplot as plt\n",
        "import seaborn as sns\n",
        "\n",
        "from sklearn.preprocessing import OneHotEncoder, StandardScaler\n",
        "from sklearn.model_selection import train_test_split\n",
        "from sklearn.ensemble import RandomForestClassifier\n",
        "from sklearn.linear_model import LogisticRegression\n",
        "from sklearn.metrics import accuracy_score, f1_score, precision_score, recall_score\n",
        "from sklearn.inspection import permutation_importance\n",
        "from sklearn.metrics import classification_report, confusion_matrix\n",
        "from yellowbrick.classifier import ConfusionMatrix\n",
        "from sklearn.model_selection import GridSearchCV,  RepeatedStratifiedKFold"
      ],
      "metadata": {
        "id": "oTGRgO2kPtGv"
      },
      "id": "oTGRgO2kPtGv",
      "execution_count": 2,
      "outputs": []
    },
    {
      "cell_type": "code",
      "source": [
        "# Read the file and specify the correct encoding as we got a 'UnicodeDecodeError'\n",
        "df = pd.read_csv(\"customer_booking.csv\", encoding='ISO-8859-1')"
      ],
      "metadata": {
        "id": "rvYfGziVP2y5"
      },
      "id": "rvYfGziVP2y5",
      "execution_count": 3,
      "outputs": []
    },
    {
      "cell_type": "code",
      "source": [
        "# Display the first few rows of the DataFrame\n",
        "df.head()"
      ],
      "metadata": {
        "colab": {
          "base_uri": "https://localhost:8080/",
          "height": 226
        },
        "id": "yllmsbpNmWOe",
        "outputId": "b4966837-a41e-4c39-9164-8d387309be2f"
      },
      "id": "yllmsbpNmWOe",
      "execution_count": 4,
      "outputs": [
        {
          "output_type": "execute_result",
          "data": {
            "text/plain": [
              "   num_passengers sales_channel  trip_type  purchase_lead  length_of_stay  \\\n",
              "0               2      Internet  RoundTrip            262              19   \n",
              "1               1      Internet  RoundTrip            112              20   \n",
              "2               2      Internet  RoundTrip            243              22   \n",
              "3               1      Internet  RoundTrip             96              31   \n",
              "4               2      Internet  RoundTrip             68              22   \n",
              "\n",
              "   flight_hour flight_day   route booking_origin  wants_extra_baggage  \\\n",
              "0            7        Sat  AKLDEL    New Zealand                    1   \n",
              "1            3        Sat  AKLDEL    New Zealand                    0   \n",
              "2           17        Wed  AKLDEL          India                    1   \n",
              "3            4        Sat  AKLDEL    New Zealand                    0   \n",
              "4           15        Wed  AKLDEL          India                    1   \n",
              "\n",
              "   wants_preferred_seat  wants_in_flight_meals  flight_duration  \\\n",
              "0                     0                      0             5.52   \n",
              "1                     0                      0             5.52   \n",
              "2                     1                      0             5.52   \n",
              "3                     0                      1             5.52   \n",
              "4                     0                      1             5.52   \n",
              "\n",
              "   booking_complete  \n",
              "0                 0  \n",
              "1                 0  \n",
              "2                 0  \n",
              "3                 0  \n",
              "4                 0  "
            ],
            "text/html": [
              "\n",
              "  <div id=\"df-709a2587-6604-45c4-8d30-c364fd6ea661\" class=\"colab-df-container\">\n",
              "    <div>\n",
              "<style scoped>\n",
              "    .dataframe tbody tr th:only-of-type {\n",
              "        vertical-align: middle;\n",
              "    }\n",
              "\n",
              "    .dataframe tbody tr th {\n",
              "        vertical-align: top;\n",
              "    }\n",
              "\n",
              "    .dataframe thead th {\n",
              "        text-align: right;\n",
              "    }\n",
              "</style>\n",
              "<table border=\"1\" class=\"dataframe\">\n",
              "  <thead>\n",
              "    <tr style=\"text-align: right;\">\n",
              "      <th></th>\n",
              "      <th>num_passengers</th>\n",
              "      <th>sales_channel</th>\n",
              "      <th>trip_type</th>\n",
              "      <th>purchase_lead</th>\n",
              "      <th>length_of_stay</th>\n",
              "      <th>flight_hour</th>\n",
              "      <th>flight_day</th>\n",
              "      <th>route</th>\n",
              "      <th>booking_origin</th>\n",
              "      <th>wants_extra_baggage</th>\n",
              "      <th>wants_preferred_seat</th>\n",
              "      <th>wants_in_flight_meals</th>\n",
              "      <th>flight_duration</th>\n",
              "      <th>booking_complete</th>\n",
              "    </tr>\n",
              "  </thead>\n",
              "  <tbody>\n",
              "    <tr>\n",
              "      <th>0</th>\n",
              "      <td>2</td>\n",
              "      <td>Internet</td>\n",
              "      <td>RoundTrip</td>\n",
              "      <td>262</td>\n",
              "      <td>19</td>\n",
              "      <td>7</td>\n",
              "      <td>Sat</td>\n",
              "      <td>AKLDEL</td>\n",
              "      <td>New Zealand</td>\n",
              "      <td>1</td>\n",
              "      <td>0</td>\n",
              "      <td>0</td>\n",
              "      <td>5.52</td>\n",
              "      <td>0</td>\n",
              "    </tr>\n",
              "    <tr>\n",
              "      <th>1</th>\n",
              "      <td>1</td>\n",
              "      <td>Internet</td>\n",
              "      <td>RoundTrip</td>\n",
              "      <td>112</td>\n",
              "      <td>20</td>\n",
              "      <td>3</td>\n",
              "      <td>Sat</td>\n",
              "      <td>AKLDEL</td>\n",
              "      <td>New Zealand</td>\n",
              "      <td>0</td>\n",
              "      <td>0</td>\n",
              "      <td>0</td>\n",
              "      <td>5.52</td>\n",
              "      <td>0</td>\n",
              "    </tr>\n",
              "    <tr>\n",
              "      <th>2</th>\n",
              "      <td>2</td>\n",
              "      <td>Internet</td>\n",
              "      <td>RoundTrip</td>\n",
              "      <td>243</td>\n",
              "      <td>22</td>\n",
              "      <td>17</td>\n",
              "      <td>Wed</td>\n",
              "      <td>AKLDEL</td>\n",
              "      <td>India</td>\n",
              "      <td>1</td>\n",
              "      <td>1</td>\n",
              "      <td>0</td>\n",
              "      <td>5.52</td>\n",
              "      <td>0</td>\n",
              "    </tr>\n",
              "    <tr>\n",
              "      <th>3</th>\n",
              "      <td>1</td>\n",
              "      <td>Internet</td>\n",
              "      <td>RoundTrip</td>\n",
              "      <td>96</td>\n",
              "      <td>31</td>\n",
              "      <td>4</td>\n",
              "      <td>Sat</td>\n",
              "      <td>AKLDEL</td>\n",
              "      <td>New Zealand</td>\n",
              "      <td>0</td>\n",
              "      <td>0</td>\n",
              "      <td>1</td>\n",
              "      <td>5.52</td>\n",
              "      <td>0</td>\n",
              "    </tr>\n",
              "    <tr>\n",
              "      <th>4</th>\n",
              "      <td>2</td>\n",
              "      <td>Internet</td>\n",
              "      <td>RoundTrip</td>\n",
              "      <td>68</td>\n",
              "      <td>22</td>\n",
              "      <td>15</td>\n",
              "      <td>Wed</td>\n",
              "      <td>AKLDEL</td>\n",
              "      <td>India</td>\n",
              "      <td>1</td>\n",
              "      <td>0</td>\n",
              "      <td>1</td>\n",
              "      <td>5.52</td>\n",
              "      <td>0</td>\n",
              "    </tr>\n",
              "  </tbody>\n",
              "</table>\n",
              "</div>\n",
              "    <div class=\"colab-df-buttons\">\n",
              "\n",
              "  <div class=\"colab-df-container\">\n",
              "    <button class=\"colab-df-convert\" onclick=\"convertToInteractive('df-709a2587-6604-45c4-8d30-c364fd6ea661')\"\n",
              "            title=\"Convert this dataframe to an interactive table.\"\n",
              "            style=\"display:none;\">\n",
              "\n",
              "  <svg xmlns=\"http://www.w3.org/2000/svg\" height=\"24px\" viewBox=\"0 -960 960 960\">\n",
              "    <path d=\"M120-120v-720h720v720H120Zm60-500h600v-160H180v160Zm220 220h160v-160H400v160Zm0 220h160v-160H400v160ZM180-400h160v-160H180v160Zm440 0h160v-160H620v160ZM180-180h160v-160H180v160Zm440 0h160v-160H620v160Z\"/>\n",
              "  </svg>\n",
              "    </button>\n",
              "\n",
              "  <style>\n",
              "    .colab-df-container {\n",
              "      display:flex;\n",
              "      gap: 12px;\n",
              "    }\n",
              "\n",
              "    .colab-df-convert {\n",
              "      background-color: #E8F0FE;\n",
              "      border: none;\n",
              "      border-radius: 50%;\n",
              "      cursor: pointer;\n",
              "      display: none;\n",
              "      fill: #1967D2;\n",
              "      height: 32px;\n",
              "      padding: 0 0 0 0;\n",
              "      width: 32px;\n",
              "    }\n",
              "\n",
              "    .colab-df-convert:hover {\n",
              "      background-color: #E2EBFA;\n",
              "      box-shadow: 0px 1px 2px rgba(60, 64, 67, 0.3), 0px 1px 3px 1px rgba(60, 64, 67, 0.15);\n",
              "      fill: #174EA6;\n",
              "    }\n",
              "\n",
              "    .colab-df-buttons div {\n",
              "      margin-bottom: 4px;\n",
              "    }\n",
              "\n",
              "    [theme=dark] .colab-df-convert {\n",
              "      background-color: #3B4455;\n",
              "      fill: #D2E3FC;\n",
              "    }\n",
              "\n",
              "    [theme=dark] .colab-df-convert:hover {\n",
              "      background-color: #434B5C;\n",
              "      box-shadow: 0px 1px 3px 1px rgba(0, 0, 0, 0.15);\n",
              "      filter: drop-shadow(0px 1px 2px rgba(0, 0, 0, 0.3));\n",
              "      fill: #FFFFFF;\n",
              "    }\n",
              "  </style>\n",
              "\n",
              "    <script>\n",
              "      const buttonEl =\n",
              "        document.querySelector('#df-709a2587-6604-45c4-8d30-c364fd6ea661 button.colab-df-convert');\n",
              "      buttonEl.style.display =\n",
              "        google.colab.kernel.accessAllowed ? 'block' : 'none';\n",
              "\n",
              "      async function convertToInteractive(key) {\n",
              "        const element = document.querySelector('#df-709a2587-6604-45c4-8d30-c364fd6ea661');\n",
              "        const dataTable =\n",
              "          await google.colab.kernel.invokeFunction('convertToInteractive',\n",
              "                                                    [key], {});\n",
              "        if (!dataTable) return;\n",
              "\n",
              "        const docLinkHtml = 'Like what you see? Visit the ' +\n",
              "          '<a target=\"_blank\" href=https://colab.research.google.com/notebooks/data_table.ipynb>data table notebook</a>'\n",
              "          + ' to learn more about interactive tables.';\n",
              "        element.innerHTML = '';\n",
              "        dataTable['output_type'] = 'display_data';\n",
              "        await google.colab.output.renderOutput(dataTable, element);\n",
              "        const docLink = document.createElement('div');\n",
              "        docLink.innerHTML = docLinkHtml;\n",
              "        element.appendChild(docLink);\n",
              "      }\n",
              "    </script>\n",
              "  </div>\n",
              "\n",
              "\n",
              "<div id=\"df-398f68df-ecdc-46f3-a5c9-5a39cdc3cc2f\">\n",
              "  <button class=\"colab-df-quickchart\" onclick=\"quickchart('df-398f68df-ecdc-46f3-a5c9-5a39cdc3cc2f')\"\n",
              "            title=\"Suggest charts.\"\n",
              "            style=\"display:none;\">\n",
              "\n",
              "<svg xmlns=\"http://www.w3.org/2000/svg\" height=\"24px\"viewBox=\"0 0 24 24\"\n",
              "     width=\"24px\">\n",
              "    <g>\n",
              "        <path d=\"M19 3H5c-1.1 0-2 .9-2 2v14c0 1.1.9 2 2 2h14c1.1 0 2-.9 2-2V5c0-1.1-.9-2-2-2zM9 17H7v-7h2v7zm4 0h-2V7h2v10zm4 0h-2v-4h2v4z\"/>\n",
              "    </g>\n",
              "</svg>\n",
              "  </button>\n",
              "\n",
              "<style>\n",
              "  .colab-df-quickchart {\n",
              "      --bg-color: #E8F0FE;\n",
              "      --fill-color: #1967D2;\n",
              "      --hover-bg-color: #E2EBFA;\n",
              "      --hover-fill-color: #174EA6;\n",
              "      --disabled-fill-color: #AAA;\n",
              "      --disabled-bg-color: #DDD;\n",
              "  }\n",
              "\n",
              "  [theme=dark] .colab-df-quickchart {\n",
              "      --bg-color: #3B4455;\n",
              "      --fill-color: #D2E3FC;\n",
              "      --hover-bg-color: #434B5C;\n",
              "      --hover-fill-color: #FFFFFF;\n",
              "      --disabled-bg-color: #3B4455;\n",
              "      --disabled-fill-color: #666;\n",
              "  }\n",
              "\n",
              "  .colab-df-quickchart {\n",
              "    background-color: var(--bg-color);\n",
              "    border: none;\n",
              "    border-radius: 50%;\n",
              "    cursor: pointer;\n",
              "    display: none;\n",
              "    fill: var(--fill-color);\n",
              "    height: 32px;\n",
              "    padding: 0;\n",
              "    width: 32px;\n",
              "  }\n",
              "\n",
              "  .colab-df-quickchart:hover {\n",
              "    background-color: var(--hover-bg-color);\n",
              "    box-shadow: 0 1px 2px rgba(60, 64, 67, 0.3), 0 1px 3px 1px rgba(60, 64, 67, 0.15);\n",
              "    fill: var(--button-hover-fill-color);\n",
              "  }\n",
              "\n",
              "  .colab-df-quickchart-complete:disabled,\n",
              "  .colab-df-quickchart-complete:disabled:hover {\n",
              "    background-color: var(--disabled-bg-color);\n",
              "    fill: var(--disabled-fill-color);\n",
              "    box-shadow: none;\n",
              "  }\n",
              "\n",
              "  .colab-df-spinner {\n",
              "    border: 2px solid var(--fill-color);\n",
              "    border-color: transparent;\n",
              "    border-bottom-color: var(--fill-color);\n",
              "    animation:\n",
              "      spin 1s steps(1) infinite;\n",
              "  }\n",
              "\n",
              "  @keyframes spin {\n",
              "    0% {\n",
              "      border-color: transparent;\n",
              "      border-bottom-color: var(--fill-color);\n",
              "      border-left-color: var(--fill-color);\n",
              "    }\n",
              "    20% {\n",
              "      border-color: transparent;\n",
              "      border-left-color: var(--fill-color);\n",
              "      border-top-color: var(--fill-color);\n",
              "    }\n",
              "    30% {\n",
              "      border-color: transparent;\n",
              "      border-left-color: var(--fill-color);\n",
              "      border-top-color: var(--fill-color);\n",
              "      border-right-color: var(--fill-color);\n",
              "    }\n",
              "    40% {\n",
              "      border-color: transparent;\n",
              "      border-right-color: var(--fill-color);\n",
              "      border-top-color: var(--fill-color);\n",
              "    }\n",
              "    60% {\n",
              "      border-color: transparent;\n",
              "      border-right-color: var(--fill-color);\n",
              "    }\n",
              "    80% {\n",
              "      border-color: transparent;\n",
              "      border-right-color: var(--fill-color);\n",
              "      border-bottom-color: var(--fill-color);\n",
              "    }\n",
              "    90% {\n",
              "      border-color: transparent;\n",
              "      border-bottom-color: var(--fill-color);\n",
              "    }\n",
              "  }\n",
              "</style>\n",
              "\n",
              "  <script>\n",
              "    async function quickchart(key) {\n",
              "      const quickchartButtonEl =\n",
              "        document.querySelector('#' + key + ' button');\n",
              "      quickchartButtonEl.disabled = true;  // To prevent multiple clicks.\n",
              "      quickchartButtonEl.classList.add('colab-df-spinner');\n",
              "      try {\n",
              "        const charts = await google.colab.kernel.invokeFunction(\n",
              "            'suggestCharts', [key], {});\n",
              "      } catch (error) {\n",
              "        console.error('Error during call to suggestCharts:', error);\n",
              "      }\n",
              "      quickchartButtonEl.classList.remove('colab-df-spinner');\n",
              "      quickchartButtonEl.classList.add('colab-df-quickchart-complete');\n",
              "    }\n",
              "    (() => {\n",
              "      let quickchartButtonEl =\n",
              "        document.querySelector('#df-398f68df-ecdc-46f3-a5c9-5a39cdc3cc2f button');\n",
              "      quickchartButtonEl.style.display =\n",
              "        google.colab.kernel.accessAllowed ? 'block' : 'none';\n",
              "    })();\n",
              "  </script>\n",
              "</div>\n",
              "    </div>\n",
              "  </div>\n"
            ]
          },
          "metadata": {},
          "execution_count": 4
        }
      ]
    },
    {
      "cell_type": "code",
      "source": [
        "# Disply unique values in categorical columns\n",
        "\n",
        "unique_sales_channels = df['sales_channel'].unique()\n",
        "unique_trip_types = df['trip_type'].unique()\n",
        "\n",
        "print(\"Unique Sales Channels:\", unique_sales_channels)\n",
        "print(\"Unique Trip Types:\", unique_trip_types)"
      ],
      "metadata": {
        "colab": {
          "base_uri": "https://localhost:8080/"
        },
        "id": "KUGgLxsfb8rj",
        "outputId": "86913496-3064-439a-fd43-4257e632ba9d"
      },
      "id": "KUGgLxsfb8rj",
      "execution_count": 5,
      "outputs": [
        {
          "output_type": "stream",
          "name": "stdout",
          "text": [
            "Unique Sales Channels: ['Internet' 'Mobile']\n",
            "Unique Trip Types: ['RoundTrip' 'CircleTrip' 'OneWay']\n"
          ]
        }
      ]
    },
    {
      "cell_type": "code",
      "source": [
        "# Display summary statistics for numerical columns\n",
        "df.describe()"
      ],
      "metadata": {
        "colab": {
          "base_uri": "https://localhost:8080/",
          "height": 320
        },
        "id": "vNdjLOSQmWJR",
        "outputId": "e36c0973-090d-4d30-9f35-fdd423ac61d4"
      },
      "id": "vNdjLOSQmWJR",
      "execution_count": 6,
      "outputs": [
        {
          "output_type": "execute_result",
          "data": {
            "text/plain": [
              "       num_passengers  purchase_lead  length_of_stay  flight_hour  \\\n",
              "count    50000.000000   50000.000000     50000.00000  50000.00000   \n",
              "mean         1.591240      84.940480        23.04456      9.06634   \n",
              "std          1.020165      90.451378        33.88767      5.41266   \n",
              "min          1.000000       0.000000         0.00000      0.00000   \n",
              "25%          1.000000      21.000000         5.00000      5.00000   \n",
              "50%          1.000000      51.000000        17.00000      9.00000   \n",
              "75%          2.000000     115.000000        28.00000     13.00000   \n",
              "max          9.000000     867.000000       778.00000     23.00000   \n",
              "\n",
              "       wants_extra_baggage  wants_preferred_seat  wants_in_flight_meals  \\\n",
              "count         50000.000000          50000.000000           50000.000000   \n",
              "mean              0.668780              0.296960               0.427140   \n",
              "std               0.470657              0.456923               0.494668   \n",
              "min               0.000000              0.000000               0.000000   \n",
              "25%               0.000000              0.000000               0.000000   \n",
              "50%               1.000000              0.000000               0.000000   \n",
              "75%               1.000000              1.000000               1.000000   \n",
              "max               1.000000              1.000000               1.000000   \n",
              "\n",
              "       flight_duration  booking_complete  \n",
              "count     50000.000000      50000.000000  \n",
              "mean          7.277561          0.149560  \n",
              "std           1.496863          0.356643  \n",
              "min           4.670000          0.000000  \n",
              "25%           5.620000          0.000000  \n",
              "50%           7.570000          0.000000  \n",
              "75%           8.830000          0.000000  \n",
              "max           9.500000          1.000000  "
            ],
            "text/html": [
              "\n",
              "  <div id=\"df-9af26e4d-a0b6-440e-92da-a0637caa89d1\" class=\"colab-df-container\">\n",
              "    <div>\n",
              "<style scoped>\n",
              "    .dataframe tbody tr th:only-of-type {\n",
              "        vertical-align: middle;\n",
              "    }\n",
              "\n",
              "    .dataframe tbody tr th {\n",
              "        vertical-align: top;\n",
              "    }\n",
              "\n",
              "    .dataframe thead th {\n",
              "        text-align: right;\n",
              "    }\n",
              "</style>\n",
              "<table border=\"1\" class=\"dataframe\">\n",
              "  <thead>\n",
              "    <tr style=\"text-align: right;\">\n",
              "      <th></th>\n",
              "      <th>num_passengers</th>\n",
              "      <th>purchase_lead</th>\n",
              "      <th>length_of_stay</th>\n",
              "      <th>flight_hour</th>\n",
              "      <th>wants_extra_baggage</th>\n",
              "      <th>wants_preferred_seat</th>\n",
              "      <th>wants_in_flight_meals</th>\n",
              "      <th>flight_duration</th>\n",
              "      <th>booking_complete</th>\n",
              "    </tr>\n",
              "  </thead>\n",
              "  <tbody>\n",
              "    <tr>\n",
              "      <th>count</th>\n",
              "      <td>50000.000000</td>\n",
              "      <td>50000.000000</td>\n",
              "      <td>50000.00000</td>\n",
              "      <td>50000.00000</td>\n",
              "      <td>50000.000000</td>\n",
              "      <td>50000.000000</td>\n",
              "      <td>50000.000000</td>\n",
              "      <td>50000.000000</td>\n",
              "      <td>50000.000000</td>\n",
              "    </tr>\n",
              "    <tr>\n",
              "      <th>mean</th>\n",
              "      <td>1.591240</td>\n",
              "      <td>84.940480</td>\n",
              "      <td>23.04456</td>\n",
              "      <td>9.06634</td>\n",
              "      <td>0.668780</td>\n",
              "      <td>0.296960</td>\n",
              "      <td>0.427140</td>\n",
              "      <td>7.277561</td>\n",
              "      <td>0.149560</td>\n",
              "    </tr>\n",
              "    <tr>\n",
              "      <th>std</th>\n",
              "      <td>1.020165</td>\n",
              "      <td>90.451378</td>\n",
              "      <td>33.88767</td>\n",
              "      <td>5.41266</td>\n",
              "      <td>0.470657</td>\n",
              "      <td>0.456923</td>\n",
              "      <td>0.494668</td>\n",
              "      <td>1.496863</td>\n",
              "      <td>0.356643</td>\n",
              "    </tr>\n",
              "    <tr>\n",
              "      <th>min</th>\n",
              "      <td>1.000000</td>\n",
              "      <td>0.000000</td>\n",
              "      <td>0.00000</td>\n",
              "      <td>0.00000</td>\n",
              "      <td>0.000000</td>\n",
              "      <td>0.000000</td>\n",
              "      <td>0.000000</td>\n",
              "      <td>4.670000</td>\n",
              "      <td>0.000000</td>\n",
              "    </tr>\n",
              "    <tr>\n",
              "      <th>25%</th>\n",
              "      <td>1.000000</td>\n",
              "      <td>21.000000</td>\n",
              "      <td>5.00000</td>\n",
              "      <td>5.00000</td>\n",
              "      <td>0.000000</td>\n",
              "      <td>0.000000</td>\n",
              "      <td>0.000000</td>\n",
              "      <td>5.620000</td>\n",
              "      <td>0.000000</td>\n",
              "    </tr>\n",
              "    <tr>\n",
              "      <th>50%</th>\n",
              "      <td>1.000000</td>\n",
              "      <td>51.000000</td>\n",
              "      <td>17.00000</td>\n",
              "      <td>9.00000</td>\n",
              "      <td>1.000000</td>\n",
              "      <td>0.000000</td>\n",
              "      <td>0.000000</td>\n",
              "      <td>7.570000</td>\n",
              "      <td>0.000000</td>\n",
              "    </tr>\n",
              "    <tr>\n",
              "      <th>75%</th>\n",
              "      <td>2.000000</td>\n",
              "      <td>115.000000</td>\n",
              "      <td>28.00000</td>\n",
              "      <td>13.00000</td>\n",
              "      <td>1.000000</td>\n",
              "      <td>1.000000</td>\n",
              "      <td>1.000000</td>\n",
              "      <td>8.830000</td>\n",
              "      <td>0.000000</td>\n",
              "    </tr>\n",
              "    <tr>\n",
              "      <th>max</th>\n",
              "      <td>9.000000</td>\n",
              "      <td>867.000000</td>\n",
              "      <td>778.00000</td>\n",
              "      <td>23.00000</td>\n",
              "      <td>1.000000</td>\n",
              "      <td>1.000000</td>\n",
              "      <td>1.000000</td>\n",
              "      <td>9.500000</td>\n",
              "      <td>1.000000</td>\n",
              "    </tr>\n",
              "  </tbody>\n",
              "</table>\n",
              "</div>\n",
              "    <div class=\"colab-df-buttons\">\n",
              "\n",
              "  <div class=\"colab-df-container\">\n",
              "    <button class=\"colab-df-convert\" onclick=\"convertToInteractive('df-9af26e4d-a0b6-440e-92da-a0637caa89d1')\"\n",
              "            title=\"Convert this dataframe to an interactive table.\"\n",
              "            style=\"display:none;\">\n",
              "\n",
              "  <svg xmlns=\"http://www.w3.org/2000/svg\" height=\"24px\" viewBox=\"0 -960 960 960\">\n",
              "    <path d=\"M120-120v-720h720v720H120Zm60-500h600v-160H180v160Zm220 220h160v-160H400v160Zm0 220h160v-160H400v160ZM180-400h160v-160H180v160Zm440 0h160v-160H620v160ZM180-180h160v-160H180v160Zm440 0h160v-160H620v160Z\"/>\n",
              "  </svg>\n",
              "    </button>\n",
              "\n",
              "  <style>\n",
              "    .colab-df-container {\n",
              "      display:flex;\n",
              "      gap: 12px;\n",
              "    }\n",
              "\n",
              "    .colab-df-convert {\n",
              "      background-color: #E8F0FE;\n",
              "      border: none;\n",
              "      border-radius: 50%;\n",
              "      cursor: pointer;\n",
              "      display: none;\n",
              "      fill: #1967D2;\n",
              "      height: 32px;\n",
              "      padding: 0 0 0 0;\n",
              "      width: 32px;\n",
              "    }\n",
              "\n",
              "    .colab-df-convert:hover {\n",
              "      background-color: #E2EBFA;\n",
              "      box-shadow: 0px 1px 2px rgba(60, 64, 67, 0.3), 0px 1px 3px 1px rgba(60, 64, 67, 0.15);\n",
              "      fill: #174EA6;\n",
              "    }\n",
              "\n",
              "    .colab-df-buttons div {\n",
              "      margin-bottom: 4px;\n",
              "    }\n",
              "\n",
              "    [theme=dark] .colab-df-convert {\n",
              "      background-color: #3B4455;\n",
              "      fill: #D2E3FC;\n",
              "    }\n",
              "\n",
              "    [theme=dark] .colab-df-convert:hover {\n",
              "      background-color: #434B5C;\n",
              "      box-shadow: 0px 1px 3px 1px rgba(0, 0, 0, 0.15);\n",
              "      filter: drop-shadow(0px 1px 2px rgba(0, 0, 0, 0.3));\n",
              "      fill: #FFFFFF;\n",
              "    }\n",
              "  </style>\n",
              "\n",
              "    <script>\n",
              "      const buttonEl =\n",
              "        document.querySelector('#df-9af26e4d-a0b6-440e-92da-a0637caa89d1 button.colab-df-convert');\n",
              "      buttonEl.style.display =\n",
              "        google.colab.kernel.accessAllowed ? 'block' : 'none';\n",
              "\n",
              "      async function convertToInteractive(key) {\n",
              "        const element = document.querySelector('#df-9af26e4d-a0b6-440e-92da-a0637caa89d1');\n",
              "        const dataTable =\n",
              "          await google.colab.kernel.invokeFunction('convertToInteractive',\n",
              "                                                    [key], {});\n",
              "        if (!dataTable) return;\n",
              "\n",
              "        const docLinkHtml = 'Like what you see? Visit the ' +\n",
              "          '<a target=\"_blank\" href=https://colab.research.google.com/notebooks/data_table.ipynb>data table notebook</a>'\n",
              "          + ' to learn more about interactive tables.';\n",
              "        element.innerHTML = '';\n",
              "        dataTable['output_type'] = 'display_data';\n",
              "        await google.colab.output.renderOutput(dataTable, element);\n",
              "        const docLink = document.createElement('div');\n",
              "        docLink.innerHTML = docLinkHtml;\n",
              "        element.appendChild(docLink);\n",
              "      }\n",
              "    </script>\n",
              "  </div>\n",
              "\n",
              "\n",
              "<div id=\"df-bfa60ade-24b4-4e6c-a66e-987bbf37864b\">\n",
              "  <button class=\"colab-df-quickchart\" onclick=\"quickchart('df-bfa60ade-24b4-4e6c-a66e-987bbf37864b')\"\n",
              "            title=\"Suggest charts.\"\n",
              "            style=\"display:none;\">\n",
              "\n",
              "<svg xmlns=\"http://www.w3.org/2000/svg\" height=\"24px\"viewBox=\"0 0 24 24\"\n",
              "     width=\"24px\">\n",
              "    <g>\n",
              "        <path d=\"M19 3H5c-1.1 0-2 .9-2 2v14c0 1.1.9 2 2 2h14c1.1 0 2-.9 2-2V5c0-1.1-.9-2-2-2zM9 17H7v-7h2v7zm4 0h-2V7h2v10zm4 0h-2v-4h2v4z\"/>\n",
              "    </g>\n",
              "</svg>\n",
              "  </button>\n",
              "\n",
              "<style>\n",
              "  .colab-df-quickchart {\n",
              "      --bg-color: #E8F0FE;\n",
              "      --fill-color: #1967D2;\n",
              "      --hover-bg-color: #E2EBFA;\n",
              "      --hover-fill-color: #174EA6;\n",
              "      --disabled-fill-color: #AAA;\n",
              "      --disabled-bg-color: #DDD;\n",
              "  }\n",
              "\n",
              "  [theme=dark] .colab-df-quickchart {\n",
              "      --bg-color: #3B4455;\n",
              "      --fill-color: #D2E3FC;\n",
              "      --hover-bg-color: #434B5C;\n",
              "      --hover-fill-color: #FFFFFF;\n",
              "      --disabled-bg-color: #3B4455;\n",
              "      --disabled-fill-color: #666;\n",
              "  }\n",
              "\n",
              "  .colab-df-quickchart {\n",
              "    background-color: var(--bg-color);\n",
              "    border: none;\n",
              "    border-radius: 50%;\n",
              "    cursor: pointer;\n",
              "    display: none;\n",
              "    fill: var(--fill-color);\n",
              "    height: 32px;\n",
              "    padding: 0;\n",
              "    width: 32px;\n",
              "  }\n",
              "\n",
              "  .colab-df-quickchart:hover {\n",
              "    background-color: var(--hover-bg-color);\n",
              "    box-shadow: 0 1px 2px rgba(60, 64, 67, 0.3), 0 1px 3px 1px rgba(60, 64, 67, 0.15);\n",
              "    fill: var(--button-hover-fill-color);\n",
              "  }\n",
              "\n",
              "  .colab-df-quickchart-complete:disabled,\n",
              "  .colab-df-quickchart-complete:disabled:hover {\n",
              "    background-color: var(--disabled-bg-color);\n",
              "    fill: var(--disabled-fill-color);\n",
              "    box-shadow: none;\n",
              "  }\n",
              "\n",
              "  .colab-df-spinner {\n",
              "    border: 2px solid var(--fill-color);\n",
              "    border-color: transparent;\n",
              "    border-bottom-color: var(--fill-color);\n",
              "    animation:\n",
              "      spin 1s steps(1) infinite;\n",
              "  }\n",
              "\n",
              "  @keyframes spin {\n",
              "    0% {\n",
              "      border-color: transparent;\n",
              "      border-bottom-color: var(--fill-color);\n",
              "      border-left-color: var(--fill-color);\n",
              "    }\n",
              "    20% {\n",
              "      border-color: transparent;\n",
              "      border-left-color: var(--fill-color);\n",
              "      border-top-color: var(--fill-color);\n",
              "    }\n",
              "    30% {\n",
              "      border-color: transparent;\n",
              "      border-left-color: var(--fill-color);\n",
              "      border-top-color: var(--fill-color);\n",
              "      border-right-color: var(--fill-color);\n",
              "    }\n",
              "    40% {\n",
              "      border-color: transparent;\n",
              "      border-right-color: var(--fill-color);\n",
              "      border-top-color: var(--fill-color);\n",
              "    }\n",
              "    60% {\n",
              "      border-color: transparent;\n",
              "      border-right-color: var(--fill-color);\n",
              "    }\n",
              "    80% {\n",
              "      border-color: transparent;\n",
              "      border-right-color: var(--fill-color);\n",
              "      border-bottom-color: var(--fill-color);\n",
              "    }\n",
              "    90% {\n",
              "      border-color: transparent;\n",
              "      border-bottom-color: var(--fill-color);\n",
              "    }\n",
              "  }\n",
              "</style>\n",
              "\n",
              "  <script>\n",
              "    async function quickchart(key) {\n",
              "      const quickchartButtonEl =\n",
              "        document.querySelector('#' + key + ' button');\n",
              "      quickchartButtonEl.disabled = true;  // To prevent multiple clicks.\n",
              "      quickchartButtonEl.classList.add('colab-df-spinner');\n",
              "      try {\n",
              "        const charts = await google.colab.kernel.invokeFunction(\n",
              "            'suggestCharts', [key], {});\n",
              "      } catch (error) {\n",
              "        console.error('Error during call to suggestCharts:', error);\n",
              "      }\n",
              "      quickchartButtonEl.classList.remove('colab-df-spinner');\n",
              "      quickchartButtonEl.classList.add('colab-df-quickchart-complete');\n",
              "    }\n",
              "    (() => {\n",
              "      let quickchartButtonEl =\n",
              "        document.querySelector('#df-bfa60ade-24b4-4e6c-a66e-987bbf37864b button');\n",
              "      quickchartButtonEl.style.display =\n",
              "        google.colab.kernel.accessAllowed ? 'block' : 'none';\n",
              "    })();\n",
              "  </script>\n",
              "</div>\n",
              "    </div>\n",
              "  </div>\n"
            ]
          },
          "metadata": {},
          "execution_count": 6
        }
      ]
    },
    {
      "cell_type": "markdown",
      "source": [
        "**Insights from the data:**\n",
        "\n",
        "* The average purchase lead time is 84.9 days, with a standard deviation of 90.5 days. This suggests that there is a wide range of purchase lead times, with some customers booking very early and others booking closer to their travel date.\n",
        "\n",
        "* The average length of stay is 23 days, with a standard deviation of 33.9 days. This suggests that customers are booking a variety of length of stays, from short weekend trips to longer vacations.\n",
        "\n",
        "* Approximately 67% of customers want extra baggage, 30% want a preferred seat, and 43% want in-flight meals. This suggests that customers are willing to pay for additional amenities.\n",
        "\n",
        "* The booking complete status is not available for all of the bookings in the dataset. This suggests that some customers may be abandoning their bookings before they are completed."
      ],
      "metadata": {
        "id": "DxpvWrdPtS1K"
      },
      "id": "DxpvWrdPtS1K"
    },
    {
      "cell_type": "code",
      "source": [
        "# Check data types and missing values\n",
        "df.info()"
      ],
      "metadata": {
        "colab": {
          "base_uri": "https://localhost:8080/"
        },
        "id": "zDjIQkPVmrcV",
        "outputId": "077b41a7-dfb5-4fb1-871f-23b7d3b005ad"
      },
      "id": "zDjIQkPVmrcV",
      "execution_count": 7,
      "outputs": [
        {
          "output_type": "stream",
          "name": "stdout",
          "text": [
            "<class 'pandas.core.frame.DataFrame'>\n",
            "RangeIndex: 50000 entries, 0 to 49999\n",
            "Data columns (total 14 columns):\n",
            " #   Column                 Non-Null Count  Dtype  \n",
            "---  ------                 --------------  -----  \n",
            " 0   num_passengers         50000 non-null  int64  \n",
            " 1   sales_channel          50000 non-null  object \n",
            " 2   trip_type              50000 non-null  object \n",
            " 3   purchase_lead          50000 non-null  int64  \n",
            " 4   length_of_stay         50000 non-null  int64  \n",
            " 5   flight_hour            50000 non-null  int64  \n",
            " 6   flight_day             50000 non-null  object \n",
            " 7   route                  50000 non-null  object \n",
            " 8   booking_origin         50000 non-null  object \n",
            " 9   wants_extra_baggage    50000 non-null  int64  \n",
            " 10  wants_preferred_seat   50000 non-null  int64  \n",
            " 11  wants_in_flight_meals  50000 non-null  int64  \n",
            " 12  flight_duration        50000 non-null  float64\n",
            " 13  booking_complete       50000 non-null  int64  \n",
            "dtypes: float64(1), int64(8), object(5)\n",
            "memory usage: 5.3+ MB\n"
          ]
        }
      ]
    },
    {
      "cell_type": "markdown",
      "source": [
        "The DataFrame contains 50,000 rows (entries) and 14 columns (features).\n",
        "It's also a positive sign that there are no missing values, which simplifies the initial data preparation steps."
      ],
      "metadata": {
        "id": "0VjOuvr7nNga"
      },
      "id": "0VjOuvr7nNga"
    },
    {
      "cell_type": "markdown",
      "source": [
        "## **Visualizing Categorical Variables:**"
      ],
      "metadata": {
        "id": "9CNI2zO2nxn6"
      },
      "id": "9CNI2zO2nxn6"
    },
    {
      "cell_type": "code",
      "source": [
        "# Calculate the distribution of sales channels in percentage\n",
        "sales_channel_counts = df['sales_channel'].value_counts()\n",
        "sales_channel_percentage = (sales_channel_counts / sales_channel_counts.sum()) * 100\n",
        "\n",
        "# Create a pie chart with percentage values\n",
        "plt.figure(figsize=(4, 4))\n",
        "plt.pie(sales_channel_percentage, labels=sales_channel_percentage.index, autopct='%1.1f%%', startangle=90)\n",
        "plt.title('Distribution of Sales Channels')\n",
        "plt.show()"
      ],
      "metadata": {
        "colab": {
          "base_uri": "https://localhost:8080/",
          "height": 365
        },
        "id": "NK1B4GyumrTu",
        "outputId": "98b9a31e-9112-4743-867e-e2f85cd8947f"
      },
      "id": "NK1B4GyumrTu",
      "execution_count": 8,
      "outputs": [
        {
          "output_type": "display_data",
          "data": {
            "text/plain": [
              "<Figure size 400x400 with 1 Axes>"
            ],
            "image/png": "[encoded data removed]"
          },
          "metadata": {}
        }
      ]
    },
    {
      "cell_type": "markdown",
      "source": [
        "Categorical features like sales channel insights into how customers make bookings, with 88.8% using the Internet channel and 11.2% using the mobile channel."
      ],
      "metadata": {
        "id": "2c7Mf60Rq9rg"
      },
      "id": "2c7Mf60Rq9rg"
    },
    {
      "cell_type": "code",
      "source": [
        "# Calculate the distribution of trip types in percentage\n",
        "trip_type_counts = df['trip_type'].value_counts()\n",
        "trip_type_percentage = (trip_type_counts / trip_type_counts.sum()) * 100\n",
        "\n",
        "# Create a bar chart\n",
        "plt.figure(figsize=(6, 4))\n",
        "ax = sns.barplot(x=trip_type_percentage.index, y=trip_type_percentage.values)\n",
        "plt.title('Distribution of Trip Types')\n",
        "plt.xlabel('Trip Type')\n",
        "plt.ylabel('Percentage')\n",
        "plt.xticks(rotation=45)\n",
        "\n",
        "# Annotate the bars with percentage values\n",
        "for p in ax.patches:\n",
        "    ax.annotate(f'{p.get_height():.1f}%', (p.get_x() + p.get_width() / 2., p.get_height()),\n",
        "                ha='center', va='center', fontsize=12, color='black', xytext=(0, 5),\n",
        "                textcoords='offset points')\n",
        "\n",
        "plt.show()"
      ],
      "metadata": {
        "colab": {
          "base_uri": "https://localhost:8080/",
          "height": 450
        },
        "id": "eWFfWg30mrLa",
        "outputId": "94cf6e4b-a709-43f5-9539-d62ab560b6ba"
      },
      "id": "eWFfWg30mrLa",
      "execution_count": 9,
      "outputs": [
        {
          "output_type": "display_data",
          "data": {
            "text/plain": [
              "<Figure size 600x400 with 1 Axes>"
            ],
            "image/png": "[encoded data removed]"
          },
          "metadata": {}
        }
      ]
    },
    {
      "cell_type": "markdown",
      "source": [
        "This distribution indicates that the vast majority of customers prefer booking round trips, with only a small fraction opting for one-way or circle trips."
      ],
      "metadata": {
        "id": "SJ_WRfa2rT2N"
      },
      "id": "SJ_WRfa2rT2N"
    },
    {
      "cell_type": "code",
      "source": [
        "# Create a histogram of purchase_lead\n",
        "plt.figure(figsize=(6, 4))\n",
        "sns.histplot(df['purchase_lead'], bins=30, kde=True)\n",
        "plt.title('Distribution of Purchase Lead Time')\n",
        "plt.xlabel('Purchase Lead Time (days)')\n",
        "plt.ylabel('Frequency')\n",
        "plt.show()"
      ],
      "metadata": {
        "colab": {
          "base_uri": "https://localhost:8080/",
          "height": 408
        },
        "id": "pEe3mrkJrapW",
        "outputId": "9b1d2bd1-ea92-410d-84f3-fb4cb06c96f2"
      },
      "id": "pEe3mrkJrapW",
      "execution_count": 10,
      "outputs": [
        {
          "output_type": "display_data",
          "data": {
            "text/plain": [
              "<Figure size 600x400 with 1 Axes>"
            ],
            "image/png": "[encoded data removed]"
          },
          "metadata": {}
        }
      ]
    },
    {
      "cell_type": "markdown",
      "source": [
        "This graph suggests that most customers purchase their tickets around 100 days before their flight.\n",
        "\n"
      ],
      "metadata": {
        "id": "JZloMkRH0CMZ"
      },
      "id": "JZloMkRH0CMZ"
    },
    {
      "cell_type": "code",
      "source": [
        "# Create a box plot of purchase_lead. Box plot can help visualize the distribution and identify potential outliers in purchase_lead time.\n",
        "\n",
        "\n",
        "plt.figure(figsize=(8, 6))\n",
        "sns.boxplot(x=df['purchase_lead'])\n",
        "plt.title('Box Plot of Purchase Lead Time')\n",
        "plt.xlabel('Purchase Lead Time (days)')\n",
        "plt.show()"
      ],
      "metadata": {
        "colab": {
          "base_uri": "https://localhost:8080/",
          "height": 562
        },
        "id": "lHuQwnFzragI",
        "outputId": "c32ef15b-28e7-452b-da25-7c6c18fb7096"
      },
      "id": "lHuQwnFzragI",
      "execution_count": 11,
      "outputs": [
        {
          "output_type": "display_data",
          "data": {
            "text/plain": [
              "<Figure size 800x600 with 1 Axes>"
            ],
            "image/png": "[encoded data removed]"
          },
          "metadata": {}
        }
      ]
    },
    {
      "cell_type": "markdown",
      "source": [
        "The graph shows the distribution of purchase lead time for British Airways customer bookings. The median purchase lead time is around 100 days, which means that half of the customers booked their flight within 100 days of the travel date.\n",
        "\n",
        "However, there are also many outliers in the distribution. This means that there are a significant number of customers who booked their flight much earlier than the median purchase lead time."
      ],
      "metadata": {
        "id": "eAco60AM2JEk"
      },
      "id": "eAco60AM2JEk"
    },
    {
      "cell_type": "code",
      "source": [
        "# Filter the DataFrame to remove entries with purchase_lead > 600\n",
        "df = df[df['purchase_lead'] <= 600]\n",
        "\n",
        "# Check the shape of the filtered DataFrame to verify the removal\n",
        "print(\"Shape of the filtered DataFrame:\", df.shape)"
      ],
      "metadata": {
        "colab": {
          "base_uri": "https://localhost:8080/"
        },
        "id": "RUTSY1CkraZD",
        "outputId": "58f0eb46-84c6-4fb0-be1c-da7edfb2e971"
      },
      "id": "RUTSY1CkraZD",
      "execution_count": 12,
      "outputs": [
        {
          "output_type": "stream",
          "name": "stdout",
          "text": [
            "Shape of the filtered DataFrame: (49992, 14)\n"
          ]
        }
      ]
    },
    {
      "cell_type": "code",
      "source": [
        "# Create a histogram of length_of_stay\n",
        "plt.figure(figsize=(6, 4))\n",
        "sns.histplot(df['length_of_stay'], bins=30, kde=True)\n",
        "plt.title('Distribution of Length of Stay')\n",
        "plt.xlabel('Length of Stay (days)')\n",
        "plt.ylabel('Frequency')\n",
        "plt.show()"
      ],
      "metadata": {
        "colab": {
          "base_uri": "https://localhost:8080/",
          "height": 408
        },
        "id": "urUGVOvY3-L7",
        "outputId": "f4ca532f-abad-4f4c-ab9d-933bf63e6ce2"
      },
      "id": "urUGVOvY3-L7",
      "execution_count": 13,
      "outputs": [
        {
          "output_type": "display_data",
          "data": {
            "text/plain": [
              "<Figure size 600x400 with 1 Axes>"
            ],
            "image/png": "[encoded data removed]"
          },
          "metadata": {}
        }
      ]
    },
    {
      "cell_type": "code",
      "source": [
        "# Calculate the number of successful bookings\n",
        "successful_bookings = df['booking_complete'].sum()\n",
        "\n",
        "print(\"Number of Successful Bookings:\", successful_bookings)"
      ],
      "metadata": {
        "colab": {
          "base_uri": "https://localhost:8080/"
        },
        "id": "XdMphs5MsfCk",
        "outputId": "e6a2b59d-6fbb-4944-ff60-074f15e1a04f"
      },
      "id": "XdMphs5MsfCk",
      "execution_count": 14,
      "outputs": [
        {
          "output_type": "stream",
          "name": "stdout",
          "text": [
            "Number of Successful Bookings: 7476\n"
          ]
        }
      ]
    },
    {
      "cell_type": "code",
      "source": [
        "# Calculate the total number of bookings\n",
        "total_bookings = len(df)\n",
        "\n",
        "# Calculate the number of successful bookings\n",
        "successful_bookings = df['booking_complete'].sum()\n",
        "\n",
        "# Calculate the percentage of successful bookings\n",
        "percentage_successful_bookings = (successful_bookings / total_bookings) * 100\n",
        "\n",
        "print(\"Percentage of Successful Bookings:\", percentage_successful_bookings, \"%\")"
      ],
      "metadata": {
        "colab": {
          "base_uri": "https://localhost:8080/"
        },
        "id": "H9KXbRMGse3I",
        "outputId": "fb3e96f3-d84f-40fb-d9b1-f382d2c05163"
      },
      "id": "H9KXbRMGse3I",
      "execution_count": 15,
      "outputs": [
        {
          "output_type": "stream",
          "name": "stdout",
          "text": [
            "Percentage of Successful Bookings: 14.954392702832454 %\n"
          ]
        }
      ]
    },
    {
      "cell_type": "markdown",
      "source": [
        "The dataset shows that roughly 14.95% of the bookings in the data are considered successful, while a larger percentage may have been abandoned or not completed."
      ],
      "metadata": {
        "id": "nD8viV7EuYfH"
      },
      "id": "nD8viV7EuYfH"
    },
    {
      "cell_type": "markdown",
      "source": [
        "# Feature Engineering"
      ],
      "metadata": {
        "id": "xucnfZDtxHC8"
      },
      "id": "xucnfZDtxHC8"
    },
    {
      "cell_type": "code",
      "source": [
        "# Create a new feature for the day of the week\n",
        "day_to_number = {\n",
        "    'Mon': 0,\n",
        "    'Tue': 1,\n",
        "    'Wed': 2,\n",
        "    'Thu': 3,\n",
        "    'Fri': 4,\n",
        "    'Sat': 5,\n",
        "    'Sun': 6\n",
        "}\n",
        "\n",
        "# Map the \"flight_day\" column to numbers\n",
        "df['flight_day'] = df['flight_day'].map(day_to_number)"
      ],
      "metadata": {
        "id": "xmhsEYgtxGjI"
      },
      "id": "xmhsEYgtxGjI",
      "execution_count": 16,
      "outputs": []
    },
    {
      "cell_type": "code",
      "source": [
        "# Creating a copy of the original DataFrame\n",
        "df_cleaned = df\n",
        "\n",
        "#create instance of one hot encoder\n",
        "encoder = OneHotEncoder(handle_unknown='ignore')\n",
        "\n",
        "#one hot encode sales_channel\n",
        "encoder_df = pd.DataFrame(encoder.fit_transform(df[[\"sales_channel\"]]).toarray())\n",
        "encoder_df = encoder_df.rename(columns={0:'Internet', 1:'Mobile'})\n",
        "df_final = df_cleaned.join(encoder_df)\n",
        "\n",
        "#one hot encode trip_type\n",
        "encoder_df = pd.DataFrame(encoder.fit_transform(df[[\"trip_type\"]]).toarray())\n",
        "encoder_df = encoder_df.rename(columns={0:'RoundTRip', 1:'OneWayTrip',2:'CircleTrip'})\n",
        "df_final = df_final.join(encoder_df)"
      ],
      "metadata": {
        "id": "8FMRgMfUiz-l"
      },
      "id": "8FMRgMfUiz-l",
      "execution_count": 17,
      "outputs": []
    },
    {
      "cell_type": "code",
      "source": [
        "# Drop the original categorical columns\n",
        "\n",
        "categorical_cols = ['sales_channel', 'trip_type', 'booking_origin', 'route']\n",
        "df_final.drop(categorical_cols, axis=1, inplace=True)"
      ],
      "metadata": {
        "id": "Fe-RlzJciz4V"
      },
      "id": "Fe-RlzJciz4V",
      "execution_count": 18,
      "outputs": []
    },
    {
      "cell_type": "code",
      "source": [
        "# Assigning the label for supervised learning\n",
        "label = df['booking_complete']"
      ],
      "metadata": {
        "id": "iEFbx3FWizhv"
      },
      "id": "iEFbx3FWizhv",
      "execution_count": 19,
      "outputs": []
    },
    {
      "cell_type": "code",
      "source": [
        "# Drop the label from the DataFrame for supervised learning\n",
        "\n",
        "df_final = df_final.drop('booking_complete', axis=1)"
      ],
      "metadata": {
        "id": "p4lzG4v2lEk5"
      },
      "id": "p4lzG4v2lEk5",
      "execution_count": 20,
      "outputs": []
    },
    {
      "cell_type": "code",
      "source": [
        "# Check the final dataframe\n",
        "\n",
        "df_final.head()"
      ],
      "metadata": {
        "colab": {
          "base_uri": "https://localhost:8080/",
          "height": 226
        },
        "id": "XroEQclWlQYR",
        "outputId": "70cfadd8-680e-49a2-abf3-0eb6d85d6d10"
      },
      "id": "XroEQclWlQYR",
      "execution_count": 21,
      "outputs": [
        {
          "output_type": "execute_result",
          "data": {
            "text/plain": [
              "   num_passengers  purchase_lead  length_of_stay  flight_hour  flight_day  \\\n",
              "0               2            262              19            7           5   \n",
              "1               1            112              20            3           5   \n",
              "2               2            243              22           17           2   \n",
              "3               1             96              31            4           5   \n",
              "4               2             68              22           15           2   \n",
              "\n",
              "   wants_extra_baggage  wants_preferred_seat  wants_in_flight_meals  \\\n",
              "0                    1                     0                      0   \n",
              "1                    0                     0                      0   \n",
              "2                    1                     1                      0   \n",
              "3                    0                     0                      1   \n",
              "4                    1                     0                      1   \n",
              "\n",
              "   flight_duration  Internet  Mobile  RoundTRip  OneWayTrip  CircleTrip  \n",
              "0             5.52       1.0     0.0        0.0         0.0         1.0  \n",
              "1             5.52       1.0     0.0        0.0         0.0         1.0  \n",
              "2             5.52       1.0     0.0        0.0         0.0         1.0  \n",
              "3             5.52       1.0     0.0        0.0         0.0         1.0  \n",
              "4             5.52       1.0     0.0        0.0         0.0         1.0  "
            ],
            "text/html": [
              "\n",
              "  <div id=\"df-bf02d62f-65bf-405a-89ca-e57f47b65aa5\" class=\"colab-df-container\">\n",
              "    <div>\n",
              "<style scoped>\n",
              "    .dataframe tbody tr th:only-of-type {\n",
              "        vertical-align: middle;\n",
              "    }\n",
              "\n",
              "    .dataframe tbody tr th {\n",
              "        vertical-align: top;\n",
              "    }\n",
              "\n",
              "    .dataframe thead th {\n",
              "        text-align: right;\n",
              "    }\n",
              "</style>\n",
              "<table border=\"1\" class=\"dataframe\">\n",
              "  <thead>\n",
              "    <tr style=\"text-align: right;\">\n",
              "      <th></th>\n",
              "      <th>num_passengers</th>\n",
              "      <th>purchase_lead</th>\n",
              "      <th>length_of_stay</th>\n",
              "      <th>flight_hour</th>\n",
              "      <th>flight_day</th>\n",
              "      <th>wants_extra_baggage</th>\n",
              "      <th>wants_preferred_seat</th>\n",
              "      <th>wants_in_flight_meals</th>\n",
              "      <th>flight_duration</th>\n",
              "      <th>Internet</th>\n",
              "      <th>Mobile</th>\n",
              "      <th>RoundTRip</th>\n",
              "      <th>OneWayTrip</th>\n",
              "      <th>CircleTrip</th>\n",
              "    </tr>\n",
              "  </thead>\n",
              "  <tbody>\n",
              "    <tr>\n",
              "      <th>0</th>\n",
              "      <td>2</td>\n",
              "      <td>262</td>\n",
              "      <td>19</td>\n",
              "      <td>7</td>\n",
              "      <td>5</td>\n",
              "      <td>1</td>\n",
              "      <td>0</td>\n",
              "      <td>0</td>\n",
              "      <td>5.52</td>\n",
              "      <td>1.0</td>\n",
              "      <td>0.0</td>\n",
              "      <td>0.0</td>\n",
              "      <td>0.0</td>\n",
              "      <td>1.0</td>\n",
              "    </tr>\n",
              "    <tr>\n",
              "      <th>1</th>\n",
              "      <td>1</td>\n",
              "      <td>112</td>\n",
              "      <td>20</td>\n",
              "      <td>3</td>\n",
              "      <td>5</td>\n",
              "      <td>0</td>\n",
              "      <td>0</td>\n",
              "      <td>0</td>\n",
              "      <td>5.52</td>\n",
              "      <td>1.0</td>\n",
              "      <td>0.0</td>\n",
              "      <td>0.0</td>\n",
              "      <td>0.0</td>\n",
              "      <td>1.0</td>\n",
              "    </tr>\n",
              "    <tr>\n",
              "      <th>2</th>\n",
              "      <td>2</td>\n",
              "      <td>243</td>\n",
              "      <td>22</td>\n",
              "      <td>17</td>\n",
              "      <td>2</td>\n",
              "      <td>1</td>\n",
              "      <td>1</td>\n",
              "      <td>0</td>\n",
              "      <td>5.52</td>\n",
              "      <td>1.0</td>\n",
              "      <td>0.0</td>\n",
              "      <td>0.0</td>\n",
              "      <td>0.0</td>\n",
              "      <td>1.0</td>\n",
              "    </tr>\n",
              "    <tr>\n",
              "      <th>3</th>\n",
              "      <td>1</td>\n",
              "      <td>96</td>\n",
              "      <td>31</td>\n",
              "      <td>4</td>\n",
              "      <td>5</td>\n",
              "      <td>0</td>\n",
              "      <td>0</td>\n",
              "      <td>1</td>\n",
              "      <td>5.52</td>\n",
              "      <td>1.0</td>\n",
              "      <td>0.0</td>\n",
              "      <td>0.0</td>\n",
              "      <td>0.0</td>\n",
              "      <td>1.0</td>\n",
              "    </tr>\n",
              "    <tr>\n",
              "      <th>4</th>\n",
              "      <td>2</td>\n",
              "      <td>68</td>\n",
              "      <td>22</td>\n",
              "      <td>15</td>\n",
              "      <td>2</td>\n",
              "      <td>1</td>\n",
              "      <td>0</td>\n",
              "      <td>1</td>\n",
              "      <td>5.52</td>\n",
              "      <td>1.0</td>\n",
              "      <td>0.0</td>\n",
              "      <td>0.0</td>\n",
              "      <td>0.0</td>\n",
              "      <td>1.0</td>\n",
              "    </tr>\n",
              "  </tbody>\n",
              "</table>\n",
              "</div>\n",
              "    <div class=\"colab-df-buttons\">\n",
              "\n",
              "  <div class=\"colab-df-container\">\n",
              "    <button class=\"colab-df-convert\" onclick=\"convertToInteractive('df-bf02d62f-65bf-405a-89ca-e57f47b65aa5')\"\n",
              "            title=\"Convert this dataframe to an interactive table.\"\n",
              "            style=\"display:none;\">\n",
              "\n",
              "  <svg xmlns=\"http://www.w3.org/2000/svg\" height=\"24px\" viewBox=\"0 -960 960 960\">\n",
              "    <path d=\"M120-120v-720h720v720H120Zm60-500h600v-160H180v160Zm220 220h160v-160H400v160Zm0 220h160v-160H400v160ZM180-400h160v-160H180v160Zm440 0h160v-160H620v160ZM180-180h160v-160H180v160Zm440 0h160v-160H620v160Z\"/>\n",
              "  </svg>\n",
              "    </button>\n",
              "\n",
              "  <style>\n",
              "    .colab-df-container {\n",
              "      display:flex;\n",
              "      gap: 12px;\n",
              "    }\n",
              "\n",
              "    .colab-df-convert {\n",
              "      background-color: #E8F0FE;\n",
              "      border: none;\n",
              "      border-radius: 50%;\n",
              "      cursor: pointer;\n",
              "      display: none;\n",
              "      fill: #1967D2;\n",
              "      height: 32px;\n",
              "      padding: 0 0 0 0;\n",
              "      width: 32px;\n",
              "    }\n",
              "\n",
              "    .colab-df-convert:hover {\n",
              "      background-color: #E2EBFA;\n",
              "      box-shadow: 0px 1px 2px rgba(60, 64, 67, 0.3), 0px 1px 3px 1px rgba(60, 64, 67, 0.15);\n",
              "      fill: #174EA6;\n",
              "    }\n",
              "\n",
              "    .colab-df-buttons div {\n",
              "      margin-bottom: 4px;\n",
              "    }\n",
              "\n",
              "    [theme=dark] .colab-df-convert {\n",
              "      background-color: #3B4455;\n",
              "      fill: #D2E3FC;\n",
              "    }\n",
              "\n",
              "    [theme=dark] .colab-df-convert:hover {\n",
              "      background-color: #434B5C;\n",
              "      box-shadow: 0px 1px 3px 1px rgba(0, 0, 0, 0.15);\n",
              "      filter: drop-shadow(0px 1px 2px rgba(0, 0, 0, 0.3));\n",
              "      fill: #FFFFFF;\n",
              "    }\n",
              "  </style>\n",
              "\n",
              "    <script>\n",
              "      const buttonEl =\n",
              "        document.querySelector('#df-bf02d62f-65bf-405a-89ca-e57f47b65aa5 button.colab-df-convert');\n",
              "      buttonEl.style.display =\n",
              "        google.colab.kernel.accessAllowed ? 'block' : 'none';\n",
              "\n",
              "      async function convertToInteractive(key) {\n",
              "        const element = document.querySelector('#df-bf02d62f-65bf-405a-89ca-e57f47b65aa5');\n",
              "        const dataTable =\n",
              "          await google.colab.kernel.invokeFunction('convertToInteractive',\n",
              "                                                    [key], {});\n",
              "        if (!dataTable) return;\n",
              "\n",
              "        const docLinkHtml = 'Like what you see? Visit the ' +\n",
              "          '<a target=\"_blank\" href=https://colab.research.google.com/notebooks/data_table.ipynb>data table notebook</a>'\n",
              "          + ' to learn more about interactive tables.';\n",
              "        element.innerHTML = '';\n",
              "        dataTable['output_type'] = 'display_data';\n",
              "        await google.colab.output.renderOutput(dataTable, element);\n",
              "        const docLink = document.createElement('div');\n",
              "        docLink.innerHTML = docLinkHtml;\n",
              "        element.appendChild(docLink);\n",
              "      }\n",
              "    </script>\n",
              "  </div>\n",
              "\n",
              "\n",
              "<div id=\"df-a0e6b5ee-ca9a-45d9-ae9c-6fb25981b306\">\n",
              "  <button class=\"colab-df-quickchart\" onclick=\"quickchart('df-a0e6b5ee-ca9a-45d9-ae9c-6fb25981b306')\"\n",
              "            title=\"Suggest charts.\"\n",
              "            style=\"display:none;\">\n",
              "\n",
              "<svg xmlns=\"http://www.w3.org/2000/svg\" height=\"24px\"viewBox=\"0 0 24 24\"\n",
              "     width=\"24px\">\n",
              "    <g>\n",
              "        <path d=\"M19 3H5c-1.1 0-2 .9-2 2v14c0 1.1.9 2 2 2h14c1.1 0 2-.9 2-2V5c0-1.1-.9-2-2-2zM9 17H7v-7h2v7zm4 0h-2V7h2v10zm4 0h-2v-4h2v4z\"/>\n",
              "    </g>\n",
              "</svg>\n",
              "  </button>\n",
              "\n",
              "<style>\n",
              "  .colab-df-quickchart {\n",
              "      --bg-color: #E8F0FE;\n",
              "      --fill-color: #1967D2;\n",
              "      --hover-bg-color: #E2EBFA;\n",
              "      --hover-fill-color: #174EA6;\n",
              "      --disabled-fill-color: #AAA;\n",
              "      --disabled-bg-color: #DDD;\n",
              "  }\n",
              "\n",
              "  [theme=dark] .colab-df-quickchart {\n",
              "      --bg-color: #3B4455;\n",
              "      --fill-color: #D2E3FC;\n",
              "      --hover-bg-color: #434B5C;\n",
              "      --hover-fill-color: #FFFFFF;\n",
              "      --disabled-bg-color: #3B4455;\n",
              "      --disabled-fill-color: #666;\n",
              "  }\n",
              "\n",
              "  .colab-df-quickchart {\n",
              "    background-color: var(--bg-color);\n",
              "    border: none;\n",
              "    border-radius: 50%;\n",
              "    cursor: pointer;\n",
              "    display: none;\n",
              "    fill: var(--fill-color);\n",
              "    height: 32px;\n",
              "    padding: 0;\n",
              "    width: 32px;\n",
              "  }\n",
              "\n",
              "  .colab-df-quickchart:hover {\n",
              "    background-color: var(--hover-bg-color);\n",
              "    box-shadow: 0 1px 2px rgba(60, 64, 67, 0.3), 0 1px 3px 1px rgba(60, 64, 67, 0.15);\n",
              "    fill: var(--button-hover-fill-color);\n",
              "  }\n",
              "\n",
              "  .colab-df-quickchart-complete:disabled,\n",
              "  .colab-df-quickchart-complete:disabled:hover {\n",
              "    background-color: var(--disabled-bg-color);\n",
              "    fill: var(--disabled-fill-color);\n",
              "    box-shadow: none;\n",
              "  }\n",
              "\n",
              "  .colab-df-spinner {\n",
              "    border: 2px solid var(--fill-color);\n",
              "    border-color: transparent;\n",
              "    border-bottom-color: var(--fill-color);\n",
              "    animation:\n",
              "      spin 1s steps(1) infinite;\n",
              "  }\n",
              "\n",
              "  @keyframes spin {\n",
              "    0% {\n",
              "      border-color: transparent;\n",
              "      border-bottom-color: var(--fill-color);\n",
              "      border-left-color: var(--fill-color);\n",
              "    }\n",
              "    20% {\n",
              "      border-color: transparent;\n",
              "      border-left-color: var(--fill-color);\n",
              "      border-top-color: var(--fill-color);\n",
              "    }\n",
              "    30% {\n",
              "      border-color: transparent;\n",
              "      border-left-color: var(--fill-color);\n",
              "      border-top-color: var(--fill-color);\n",
              "      border-right-color: var(--fill-color);\n",
              "    }\n",
              "    40% {\n",
              "      border-color: transparent;\n",
              "      border-right-color: var(--fill-color);\n",
              "      border-top-color: var(--fill-color);\n",
              "    }\n",
              "    60% {\n",
              "      border-color: transparent;\n",
              "      border-right-color: var(--fill-color);\n",
              "    }\n",
              "    80% {\n",
              "      border-color: transparent;\n",
              "      border-right-color: var(--fill-color);\n",
              "      border-bottom-color: var(--fill-color);\n",
              "    }\n",
              "    90% {\n",
              "      border-color: transparent;\n",
              "      border-bottom-color: var(--fill-color);\n",
              "    }\n",
              "  }\n",
              "</style>\n",
              "\n",
              "  <script>\n",
              "    async function quickchart(key) {\n",
              "      const quickchartButtonEl =\n",
              "        document.querySelector('#' + key + ' button');\n",
              "      quickchartButtonEl.disabled = true;  // To prevent multiple clicks.\n",
              "      quickchartButtonEl.classList.add('colab-df-spinner');\n",
              "      try {\n",
              "        const charts = await google.colab.kernel.invokeFunction(\n",
              "            'suggestCharts', [key], {});\n",
              "      } catch (error) {\n",
              "        console.error('Error during call to suggestCharts:', error);\n",
              "      }\n",
              "      quickchartButtonEl.classList.remove('colab-df-spinner');\n",
              "      quickchartButtonEl.classList.add('colab-df-quickchart-complete');\n",
              "    }\n",
              "    (() => {\n",
              "      let quickchartButtonEl =\n",
              "        document.querySelector('#df-a0e6b5ee-ca9a-45d9-ae9c-6fb25981b306 button');\n",
              "      quickchartButtonEl.style.display =\n",
              "        google.colab.kernel.accessAllowed ? 'block' : 'none';\n",
              "    })();\n",
              "  </script>\n",
              "</div>\n",
              "    </div>\n",
              "  </div>\n"
            ]
          },
          "metadata": {},
          "execution_count": 21
        }
      ]
    },
    {
      "cell_type": "markdown",
      "source": [
        "# `Data Preprocessing`"
      ],
      "metadata": {
        "id": "kzc4hILVYHvd"
      },
      "id": "kzc4hILVYHvd"
    },
    {
      "cell_type": "code",
      "source": [
        "# Normalizing the values\n",
        "\n",
        "# Create a standard scaler object\n",
        "scaler = StandardScaler()\n",
        "\n",
        "# Standardize the numerical features\n",
        "scaled_features = scaler.fit_transform(df_final)\n",
        "\n",
        "# Create a DataFrame of scaled features\n",
        "scaled_df = pd.DataFrame(scaled_features, columns=df_final.columns)\n",
        "\n",
        "# Add the 'label' column back to the DataFrame\n",
        "scaled_df['label'] = label\n",
        "\n",
        "scaled_df.head()"
      ],
      "metadata": {
        "colab": {
          "base_uri": "https://localhost:8080/",
          "height": 226
        },
        "id": "ZPL9wdCxmy2U",
        "outputId": "54ee3f10-0336-4c9d-b9bb-008f2a87f222"
      },
      "id": "ZPL9wdCxmy2U",
      "execution_count": 22,
      "outputs": [
        {
          "output_type": "execute_result",
          "data": {
            "text/plain": [
              "   num_passengers  purchase_lead  length_of_stay  flight_hour  flight_day  \\\n",
              "0        0.400699       1.964934       -0.119386    -0.381721    1.096773   \n",
              "1       -0.579520       0.301163       -0.089878    -1.120714    1.096773   \n",
              "2        0.400699       1.754190       -0.030863     1.465761   -0.408660   \n",
              "3       -0.579520       0.123694        0.234707    -0.935966    1.096773   \n",
              "4        0.400699      -0.186876       -0.030863     1.096264   -0.408660   \n",
              "\n",
              "   wants_extra_baggage  wants_preferred_seat  wants_in_flight_meals  \\\n",
              "0             0.703609             -0.649993              -0.863477   \n",
              "1            -1.421244             -0.649993              -0.863477   \n",
              "2             0.703609              1.538479              -0.863477   \n",
              "3            -1.421244             -0.649993               1.158109   \n",
              "4             0.703609             -0.649993               1.158109   \n",
              "\n",
              "   flight_duration  Internet    Mobile  RoundTRip  OneWayTrip  CircleTrip  \\\n",
              "0        -1.174125  0.355742 -0.355742   -0.04823   -0.088334    0.100824   \n",
              "1        -1.174125  0.355742 -0.355742   -0.04823   -0.088334    0.100824   \n",
              "2        -1.174125  0.355742 -0.355742   -0.04823   -0.088334    0.100824   \n",
              "3        -1.174125  0.355742 -0.355742   -0.04823   -0.088334    0.100824   \n",
              "4        -1.174125  0.355742 -0.355742   -0.04823   -0.088334    0.100824   \n",
              "\n",
              "   label  \n",
              "0    0.0  \n",
              "1    0.0  \n",
              "2    0.0  \n",
              "3    0.0  \n",
              "4    0.0  "
            ],
            "text/html": [
              "\n",
              "  <div id=\"df-d523c3a8-ca50-494c-b9a5-212a100a9fa4\" class=\"colab-df-container\">\n",
              "    <div>\n",
              "<style scoped>\n",
              "    .dataframe tbody tr th:only-of-type {\n",
              "        vertical-align: middle;\n",
              "    }\n",
              "\n",
              "    .dataframe tbody tr th {\n",
              "        vertical-align: top;\n",
              "    }\n",
              "\n",
              "    .dataframe thead th {\n",
              "        text-align: right;\n",
              "    }\n",
              "</style>\n",
              "<table border=\"1\" class=\"dataframe\">\n",
              "  <thead>\n",
              "    <tr style=\"text-align: right;\">\n",
              "      <th></th>\n",
              "      <th>num_passengers</th>\n",
              "      <th>purchase_lead</th>\n",
              "      <th>length_of_stay</th>\n",
              "      <th>flight_hour</th>\n",
              "      <th>flight_day</th>\n",
              "      <th>wants_extra_baggage</th>\n",
              "      <th>wants_preferred_seat</th>\n",
              "      <th>wants_in_flight_meals</th>\n",
              "      <th>flight_duration</th>\n",
              "      <th>Internet</th>\n",
              "      <th>Mobile</th>\n",
              "      <th>RoundTRip</th>\n",
              "      <th>OneWayTrip</th>\n",
              "      <th>CircleTrip</th>\n",
              "      <th>label</th>\n",
              "    </tr>\n",
              "  </thead>\n",
              "  <tbody>\n",
              "    <tr>\n",
              "      <th>0</th>\n",
              "      <td>0.400699</td>\n",
              "      <td>1.964934</td>\n",
              "      <td>-0.119386</td>\n",
              "      <td>-0.381721</td>\n",
              "      <td>1.096773</td>\n",
              "      <td>0.703609</td>\n",
              "      <td>-0.649993</td>\n",
              "      <td>-0.863477</td>\n",
              "      <td>-1.174125</td>\n",
              "      <td>0.355742</td>\n",
              "      <td>-0.355742</td>\n",
              "      <td>-0.04823</td>\n",
              "      <td>-0.088334</td>\n",
              "      <td>0.100824</td>\n",
              "      <td>0.0</td>\n",
              "    </tr>\n",
              "    <tr>\n",
              "      <th>1</th>\n",
              "      <td>-0.579520</td>\n",
              "      <td>0.301163</td>\n",
              "      <td>-0.089878</td>\n",
              "      <td>-1.120714</td>\n",
              "      <td>1.096773</td>\n",
              "      <td>-1.421244</td>\n",
              "      <td>-0.649993</td>\n",
              "      <td>-0.863477</td>\n",
              "      <td>-1.174125</td>\n",
              "      <td>0.355742</td>\n",
              "      <td>-0.355742</td>\n",
              "      <td>-0.04823</td>\n",
              "      <td>-0.088334</td>\n",
              "      <td>0.100824</td>\n",
              "      <td>0.0</td>\n",
              "    </tr>\n",
              "    <tr>\n",
              "      <th>2</th>\n",
              "      <td>0.400699</td>\n",
              "      <td>1.754190</td>\n",
              "      <td>-0.030863</td>\n",
              "      <td>1.465761</td>\n",
              "      <td>-0.408660</td>\n",
              "      <td>0.703609</td>\n",
              "      <td>1.538479</td>\n",
              "      <td>-0.863477</td>\n",
              "      <td>-1.174125</td>\n",
              "      <td>0.355742</td>\n",
              "      <td>-0.355742</td>\n",
              "      <td>-0.04823</td>\n",
              "      <td>-0.088334</td>\n",
              "      <td>0.100824</td>\n",
              "      <td>0.0</td>\n",
              "    </tr>\n",
              "    <tr>\n",
              "      <th>3</th>\n",
              "      <td>-0.579520</td>\n",
              "      <td>0.123694</td>\n",
              "      <td>0.234707</td>\n",
              "      <td>-0.935966</td>\n",
              "      <td>1.096773</td>\n",
              "      <td>-1.421244</td>\n",
              "      <td>-0.649993</td>\n",
              "      <td>1.158109</td>\n",
              "      <td>-1.174125</td>\n",
              "      <td>0.355742</td>\n",
              "      <td>-0.355742</td>\n",
              "      <td>-0.04823</td>\n",
              "      <td>-0.088334</td>\n",
              "      <td>0.100824</td>\n",
              "      <td>0.0</td>\n",
              "    </tr>\n",
              "    <tr>\n",
              "      <th>4</th>\n",
              "      <td>0.400699</td>\n",
              "      <td>-0.186876</td>\n",
              "      <td>-0.030863</td>\n",
              "      <td>1.096264</td>\n",
              "      <td>-0.408660</td>\n",
              "      <td>0.703609</td>\n",
              "      <td>-0.649993</td>\n",
              "      <td>1.158109</td>\n",
              "      <td>-1.174125</td>\n",
              "      <td>0.355742</td>\n",
              "      <td>-0.355742</td>\n",
              "      <td>-0.04823</td>\n",
              "      <td>-0.088334</td>\n",
              "      <td>0.100824</td>\n",
              "      <td>0.0</td>\n",
              "    </tr>\n",
              "  </tbody>\n",
              "</table>\n",
              "</div>\n",
              "    <div class=\"colab-df-buttons\">\n",
              "\n",
              "  <div class=\"colab-df-container\">\n",
              "    <button class=\"colab-df-convert\" onclick=\"convertToInteractive('df-d523c3a8-ca50-494c-b9a5-212a100a9fa4')\"\n",
              "            title=\"Convert this dataframe to an interactive table.\"\n",
              "            style=\"display:none;\">\n",
              "\n",
              "  <svg xmlns=\"http://www.w3.org/2000/svg\" height=\"24px\" viewBox=\"0 -960 960 960\">\n",
              "    <path d=\"M120-120v-720h720v720H120Zm60-500h600v-160H180v160Zm220 220h160v-160H400v160Zm0 220h160v-160H400v160ZM180-400h160v-160H180v160Zm440 0h160v-160H620v160ZM180-180h160v-160H180v160Zm440 0h160v-160H620v160Z\"/>\n",
              "  </svg>\n",
              "    </button>\n",
              "\n",
              "  <style>\n",
              "    .colab-df-container {\n",
              "      display:flex;\n",
              "      gap: 12px;\n",
              "    }\n",
              "\n",
              "    .colab-df-convert {\n",
              "      background-color: #E8F0FE;\n",
              "      border: none;\n",
              "      border-radius: 50%;\n",
              "      cursor: pointer;\n",
              "      display: none;\n",
              "      fill: #1967D2;\n",
              "      height: 32px;\n",
              "      padding: 0 0 0 0;\n",
              "      width: 32px;\n",
              "    }\n",
              "\n",
              "    .colab-df-convert:hover {\n",
              "      background-color: #E2EBFA;\n",
              "      box-shadow: 0px 1px 2px rgba(60, 64, 67, 0.3), 0px 1px 3px 1px rgba(60, 64, 67, 0.15);\n",
              "      fill: #174EA6;\n",
              "    }\n",
              "\n",
              "    .colab-df-buttons div {\n",
              "      margin-bottom: 4px;\n",
              "    }\n",
              "\n",
              "    [theme=dark] .colab-df-convert {\n",
              "      background-color: #3B4455;\n",
              "      fill: #D2E3FC;\n",
              "    }\n",
              "\n",
              "    [theme=dark] .colab-df-convert:hover {\n",
              "      background-color: #434B5C;\n",
              "      box-shadow: 0px 1px 3px 1px rgba(0, 0, 0, 0.15);\n",
              "      filter: drop-shadow(0px 1px 2px rgba(0, 0, 0, 0.3));\n",
              "      fill: #FFFFFF;\n",
              "    }\n",
              "  </style>\n",
              "\n",
              "    <script>\n",
              "      const buttonEl =\n",
              "        document.querySelector('#df-d523c3a8-ca50-494c-b9a5-212a100a9fa4 button.colab-df-convert');\n",
              "      buttonEl.style.display =\n",
              "        google.colab.kernel.accessAllowed ? 'block' : 'none';\n",
              "\n",
              "      async function convertToInteractive(key) {\n",
              "        const element = document.querySelector('#df-d523c3a8-ca50-494c-b9a5-212a100a9fa4');\n",
              "        const dataTable =\n",
              "          await google.colab.kernel.invokeFunction('convertToInteractive',\n",
              "                                                    [key], {});\n",
              "        if (!dataTable) return;\n",
              "\n",
              "        const docLinkHtml = 'Like what you see? Visit the ' +\n",
              "          '<a target=\"_blank\" href=https://colab.research.google.com/notebooks/data_table.ipynb>data table notebook</a>'\n",
              "          + ' to learn more about interactive tables.';\n",
              "        element.innerHTML = '';\n",
              "        dataTable['output_type'] = 'display_data';\n",
              "        await google.colab.output.renderOutput(dataTable, element);\n",
              "        const docLink = document.createElement('div');\n",
              "        docLink.innerHTML = docLinkHtml;\n",
              "        element.appendChild(docLink);\n",
              "      }\n",
              "    </script>\n",
              "  </div>\n",
              "\n",
              "\n",
              "<div id=\"df-27c9d544-ee71-4988-9e24-86e674a5e435\">\n",
              "  <button class=\"colab-df-quickchart\" onclick=\"quickchart('df-27c9d544-ee71-4988-9e24-86e674a5e435')\"\n",
              "            title=\"Suggest charts.\"\n",
              "            style=\"display:none;\">\n",
              "\n",
              "<svg xmlns=\"http://www.w3.org/2000/svg\" height=\"24px\"viewBox=\"0 0 24 24\"\n",
              "     width=\"24px\">\n",
              "    <g>\n",
              "        <path d=\"M19 3H5c-1.1 0-2 .9-2 2v14c0 1.1.9 2 2 2h14c1.1 0 2-.9 2-2V5c0-1.1-.9-2-2-2zM9 17H7v-7h2v7zm4 0h-2V7h2v10zm4 0h-2v-4h2v4z\"/>\n",
              "    </g>\n",
              "</svg>\n",
              "  </button>\n",
              "\n",
              "<style>\n",
              "  .colab-df-quickchart {\n",
              "      --bg-color: #E8F0FE;\n",
              "      --fill-color: #1967D2;\n",
              "      --hover-bg-color: #E2EBFA;\n",
              "      --hover-fill-color: #174EA6;\n",
              "      --disabled-fill-color: #AAA;\n",
              "      --disabled-bg-color: #DDD;\n",
              "  }\n",
              "\n",
              "  [theme=dark] .colab-df-quickchart {\n",
              "      --bg-color: #3B4455;\n",
              "      --fill-color: #D2E3FC;\n",
              "      --hover-bg-color: #434B5C;\n",
              "      --hover-fill-color: #FFFFFF;\n",
              "      --disabled-bg-color: #3B4455;\n",
              "      --disabled-fill-color: #666;\n",
              "  }\n",
              "\n",
              "  .colab-df-quickchart {\n",
              "    background-color: var(--bg-color);\n",
              "    border: none;\n",
              "    border-radius: 50%;\n",
              "    cursor: pointer;\n",
              "    display: none;\n",
              "    fill: var(--fill-color);\n",
              "    height: 32px;\n",
              "    padding: 0;\n",
              "    width: 32px;\n",
              "  }\n",
              "\n",
              "  .colab-df-quickchart:hover {\n",
              "    background-color: var(--hover-bg-color);\n",
              "    box-shadow: 0 1px 2px rgba(60, 64, 67, 0.3), 0 1px 3px 1px rgba(60, 64, 67, 0.15);\n",
              "    fill: var(--button-hover-fill-color);\n",
              "  }\n",
              "\n",
              "  .colab-df-quickchart-complete:disabled,\n",
              "  .colab-df-quickchart-complete:disabled:hover {\n",
              "    background-color: var(--disabled-bg-color);\n",
              "    fill: var(--disabled-fill-color);\n",
              "    box-shadow: none;\n",
              "  }\n",
              "\n",
              "  .colab-df-spinner {\n",
              "    border: 2px solid var(--fill-color);\n",
              "    border-color: transparent;\n",
              "    border-bottom-color: var(--fill-color);\n",
              "    animation:\n",
              "      spin 1s steps(1) infinite;\n",
              "  }\n",
              "\n",
              "  @keyframes spin {\n",
              "    0% {\n",
              "      border-color: transparent;\n",
              "      border-bottom-color: var(--fill-color);\n",
              "      border-left-color: var(--fill-color);\n",
              "    }\n",
              "    20% {\n",
              "      border-color: transparent;\n",
              "      border-left-color: var(--fill-color);\n",
              "      border-top-color: var(--fill-color);\n",
              "    }\n",
              "    30% {\n",
              "      border-color: transparent;\n",
              "      border-left-color: var(--fill-color);\n",
              "      border-top-color: var(--fill-color);\n",
              "      border-right-color: var(--fill-color);\n",
              "    }\n",
              "    40% {\n",
              "      border-color: transparent;\n",
              "      border-right-color: var(--fill-color);\n",
              "      border-top-color: var(--fill-color);\n",
              "    }\n",
              "    60% {\n",
              "      border-color: transparent;\n",
              "      border-right-color: var(--fill-color);\n",
              "    }\n",
              "    80% {\n",
              "      border-color: transparent;\n",
              "      border-right-color: var(--fill-color);\n",
              "      border-bottom-color: var(--fill-color);\n",
              "    }\n",
              "    90% {\n",
              "      border-color: transparent;\n",
              "      border-bottom-color: var(--fill-color);\n",
              "    }\n",
              "  }\n",
              "</style>\n",
              "\n",
              "  <script>\n",
              "    async function quickchart(key) {\n",
              "      const quickchartButtonEl =\n",
              "        document.querySelector('#' + key + ' button');\n",
              "      quickchartButtonEl.disabled = true;  // To prevent multiple clicks.\n",
              "      quickchartButtonEl.classList.add('colab-df-spinner');\n",
              "      try {\n",
              "        const charts = await google.colab.kernel.invokeFunction(\n",
              "            'suggestCharts', [key], {});\n",
              "      } catch (error) {\n",
              "        console.error('Error during call to suggestCharts:', error);\n",
              "      }\n",
              "      quickchartButtonEl.classList.remove('colab-df-spinner');\n",
              "      quickchartButtonEl.classList.add('colab-df-quickchart-complete');\n",
              "    }\n",
              "    (() => {\n",
              "      let quickchartButtonEl =\n",
              "        document.querySelector('#df-27c9d544-ee71-4988-9e24-86e674a5e435 button');\n",
              "      quickchartButtonEl.style.display =\n",
              "        google.colab.kernel.accessAllowed ? 'block' : 'none';\n",
              "    })();\n",
              "  </script>\n",
              "</div>\n",
              "    </div>\n",
              "  </div>\n"
            ]
          },
          "metadata": {},
          "execution_count": 22
        }
      ]
    },
    {
      "cell_type": "markdown",
      "source": [
        "# Correlation Matrix"
      ],
      "metadata": {
        "id": "y2OUwTmqxS4r"
      },
      "id": "y2OUwTmqxS4r"
    },
    {
      "cell_type": "code",
      "source": [
        "# Calculate the correlation matrix for the numerical features\n",
        "corr_matrix = scaled_df.corr()\n",
        "\n",
        "# Create a heatmap to visualize the correlation matrix\n",
        "plt.figure(figsize=(8, 6))\n",
        "sns.heatmap(corr_matrix, annot=True, cmap='viridis', linewidths=0.5, annot_kws={\"size\": 6})\n",
        "plt.title('Correlation Matrix')\n",
        "plt.show()"
      ],
      "metadata": {
        "colab": {
          "base_uri": "https://localhost:8080/",
          "height": 666
        },
        "id": "IvO8a8ajxSIL",
        "outputId": "07ab03b7-fea3-4508-e7ab-cef212a6b52d"
      },
      "id": "IvO8a8ajxSIL",
      "execution_count": 23,
      "outputs": [
        {
          "output_type": "display_data",
          "data": {
            "text/plain": [
              "<Figure size 800x600 with 2 Axes>"
            ],
            "image/png": "[encoded data removed]"
          },
          "metadata": {}
        }
      ]
    },
    {
      "cell_type": "markdown",
      "source": [
        "It is challenging to discern the correlation between features and the output label, as the heatmap lacks significant color variations. Nevertheless, there is a modest likelihood that passengers desiring extra baggage may also express interest in preferred seats and in-flight meals."
      ],
      "metadata": {
        "id": "kzVTPsekyx0o"
      },
      "id": "kzVTPsekyx0o"
    },
    {
      "cell_type": "markdown",
      "source": [
        "# `Data Preprocessing`"
      ],
      "metadata": {
        "id": "Z3FH9zsRxvEH"
      },
      "id": "Z3FH9zsRxvEH"
    },
    {
      "cell_type": "code",
      "source": [
        "# Check for missing values in scaled_df\n",
        "missing_values_scaled_df = scaled_df.isnull().sum()\n",
        "print(\"Missing values in scaled_df:\")\n",
        "print(missing_values_scaled_df)"
      ],
      "metadata": {
        "colab": {
          "base_uri": "https://localhost:8080/"
        },
        "id": "7PgMFXEj7rbQ",
        "outputId": "e35e0427-e4dc-4d84-b384-72649c6dd1ac"
      },
      "id": "7PgMFXEj7rbQ",
      "execution_count": 24,
      "outputs": [
        {
          "output_type": "stream",
          "name": "stdout",
          "text": [
            "Missing values in scaled_df:\n",
            "num_passengers           0\n",
            "purchase_lead            0\n",
            "length_of_stay           0\n",
            "flight_hour              0\n",
            "flight_day               0\n",
            "wants_extra_baggage      0\n",
            "wants_preferred_seat     0\n",
            "wants_in_flight_meals    0\n",
            "flight_duration          0\n",
            "Internet                 8\n",
            "Mobile                   8\n",
            "RoundTRip                8\n",
            "OneWayTrip               8\n",
            "CircleTrip               8\n",
            "label                    8\n",
            "dtype: int64\n"
          ]
        }
      ]
    },
    {
      "cell_type": "code",
      "source": [
        "# Remove rows with missing values\n",
        "scaled_df.dropna(inplace=True)"
      ],
      "metadata": {
        "id": "zYTsDyew70Vh"
      },
      "id": "zYTsDyew70Vh",
      "execution_count": 25,
      "outputs": []
    },
    {
      "cell_type": "code",
      "source": [
        "# Split the data into features and target\n",
        "\n",
        "X = scaled_df.iloc[:,:-1]\n",
        "y = scaled_df['label']\n",
        "\n",
        "# Split the data into training and testing sets\n",
        "X_train, X_test, y_train, y_test = train_test_split(X, y, test_size=0.2, random_state=42)"
      ],
      "metadata": {
        "id": "9CGXfo3PraL3"
      },
      "id": "9CGXfo3PraL3",
      "execution_count": 26,
      "outputs": []
    },
    {
      "cell_type": "code",
      "source": [
        "# Functions for fitting, predicting, and scoring the model\n",
        "def model_fit_predict(model, X, y, X_predict):\n",
        "    model.fit(X, y)\n",
        "    return model.predict(X_predict)\n",
        "\n",
        "def acc_score(y_true, y_pred):\n",
        "    return accuracy_score(y_true, y_pred)\n",
        "\n",
        "def pre_score(y_true, y_pred):\n",
        "    return precision_score(y_true, y_pred)\n",
        "\n",
        "def f_score(y_true, y_pred):\n",
        "    return f1_score(y_true, y_pred)"
      ],
      "metadata": {
        "id": "rQgPD8GD1vUJ"
      },
      "id": "rQgPD8GD1vUJ",
      "execution_count": 27,
      "outputs": []
    },
    {
      "cell_type": "markdown",
      "source": [
        "# Train a Random Forest Classifier"
      ],
      "metadata": {
        "id": "JxhosBsxzVh0"
      },
      "id": "JxhosBsxzVh0"
    },
    {
      "cell_type": "code",
      "source": [
        "# Create and train a Random Forest Classifier\n",
        "clf_rf = RandomForestClassifier(max_depth=50, min_samples_split=5, random_state=0)"
      ],
      "metadata": {
        "id": "mxBS13yOrZ18"
      },
      "id": "mxBS13yOrZ18",
      "execution_count": 28,
      "outputs": []
    },
    {
      "cell_type": "markdown",
      "source": [
        "# Checking Training accuracy"
      ],
      "metadata": {
        "id": "4UPaJoxzZ9gs"
      },
      "id": "4UPaJoxzZ9gs"
    },
    {
      "cell_type": "code",
      "source": [
        "# Checking Training accuracy\n",
        "\n",
        "y_pred_train = model_fit_predict(clf_rf, X_train, y_train, X_train)\n",
        "set(y_pred_train)\n",
        "\n",
        "#f1 score for training data\n",
        "f1 = round(f1_score(y_train, y_pred_train),2)\n",
        "\n",
        "#accuracy score for training data\n",
        "acc = round(accuracy_score(y_train, y_pred_train),2)\n",
        "\n",
        "#precision score for training data\n",
        "pre = round(precision_score(y_train, y_pred_train),2)\n",
        "\n",
        "print(f\"Accuracy, precision and f1-score for training data are {acc}, {pre} and {f1} respectively\")"
      ],
      "metadata": {
        "colab": {
          "base_uri": "https://localhost:8080/"
        },
        "id": "VFUJlAVj23JH",
        "outputId": "0eb99502-44db-4bca-c9a8-13ca12365481"
      },
      "id": "VFUJlAVj23JH",
      "execution_count": 29,
      "outputs": [
        {
          "output_type": "stream",
          "name": "stdout",
          "text": [
            "Accuracy, precision and f1-score for training data are 0.92, 1.0 and 0.64 respectively\n"
          ]
        }
      ]
    },
    {
      "cell_type": "markdown",
      "source": [
        "Accuracy: The accuracy of 0.92 indicates that the model correctly predicted the target variable in approximately 92% of the training instances. In other words, it has a high overall correct prediction rate.\n",
        "\n",
        "Precision: A precision score of 1.0 suggests that, among the positive predictions made by the model, all of them were correct. This means there were no false positives in predictions on the training data.\n",
        "\n",
        "F1-Score: The F1-score of 0.64 is the harmonic mean of precision and recall. It balances the trade-off between precision and recall. An F1-score of 0.64 suggests a reasonably good balance between precision and recall, indicating that the model performs well in terms of both identifying true positives and avoiding false positives."
      ],
      "metadata": {
        "id": "nJI9OIcmTe1e"
      },
      "id": "nJI9OIcmTe1e"
    },
    {
      "cell_type": "code",
      "source": [
        "# Create a ConfusionMatrix visualization\n",
        "cm = ConfusionMatrix(clf_rf, classes=[0, 1])\n",
        "\n",
        "# Fit the ConfusionMatrix on the training data\n",
        "cm.fit(X_train, y_train)\n",
        "\n",
        "# Score the ConfusionMatrix on the training data\n",
        "cm.score(X_train, y_train)"
      ],
      "metadata": {
        "colab": {
          "base_uri": "https://localhost:8080/",
          "height": 551
        },
        "id": "86RDWOR0TvLS",
        "outputId": "df382eda-679a-49ce-8806-7bbcfe8c51e9"
      },
      "id": "86RDWOR0TvLS",
      "execution_count": 30,
      "outputs": [
        {
          "output_type": "stream",
          "name": "stderr",
          "text": [
            "/usr/local/lib/python3.10/dist-packages/sklearn/base.py:439: UserWarning: X does not have valid feature names, but RandomForestClassifier was fitted with feature names\n",
            "  warnings.warn(\n"
          ]
        },
        {
          "output_type": "execute_result",
          "data": {
            "text/plain": [
              "0.9206853426713356"
            ]
          },
          "metadata": {},
          "execution_count": 30
        },
        {
          "output_type": "display_data",
          "data": {
            "text/plain": [
              "<Figure size 800x550 with 1 Axes>"
            ],
            "image/png": "[encoded data removed]"
          },
          "metadata": {}
        }
      ]
    },
    {
      "cell_type": "markdown",
      "source": [
        "The accuracy score, which is approximately 0.9206 (or 92.06%), represents how well the model is performing on the training data.\n",
        "\n",
        "For class 0 (which might represent \"Not Complete\" based on your label encoder):\n",
        "\n",
        "True Negatives (TN): 33978 instances were correctly classified as \"Not Complete.\"\n",
        "False Positives (FP): 6 instances were incorrectly classified as \"Complete.\"\n",
        "For class 1 (which might represent \"Complete\" based on your label encoder):\n",
        "\n",
        "False Negatives (FN): 3165 instances were incorrectly classified as \"Not Complete.\"\n",
        "True Positives (TP): 2831 instances were correctly classified as \"Complete.\""
      ],
      "metadata": {
        "id": "MwxuxmwzUdei"
      },
      "id": "MwxuxmwzUdei"
    },
    {
      "cell_type": "markdown",
      "source": [
        "# Checking Testing accuracy"
      ],
      "metadata": {
        "id": "TbL0tIn7aD93"
      },
      "id": "TbL0tIn7aD93"
    },
    {
      "cell_type": "code",
      "source": [
        "#create an instance of the classifier and fit the training data\n",
        "clf_rf = RandomForestClassifier(max_depth =50 , min_samples_split=5,random_state=0)\n",
        "\n",
        "y_pred_test = model_fit_predict(clf_rf, X_train, y_train, X_test)\n",
        "\n",
        "#f1 score for training data\n",
        "f1 = round(f1_score(y_test, y_pred_test),2)\n",
        "\n",
        "#accuracy score for training data\n",
        "acc = round(accuracy_score(y_test, y_pred_test),2)\n",
        "\n",
        "#precision score for training data\n",
        "pre = round(precision_score(y_test, y_pred_test),2)\n",
        "\n",
        "print(f\"Accuracy, precision and f1-score for training data are {acc}, {pre} and {f1} respectively\")"
      ],
      "metadata": {
        "colab": {
          "base_uri": "https://localhost:8080/"
        },
        "id": "DU1l8XnQaJSQ",
        "outputId": "95464d52-154f-4b17-de5f-bf5e0fceb090"
      },
      "id": "DU1l8XnQaJSQ",
      "execution_count": 31,
      "outputs": [
        {
          "output_type": "stream",
          "name": "stdout",
          "text": [
            "Accuracy, precision and f1-score for training data are 0.85, 0.24 and 0.01 respectively\n"
          ]
        }
      ]
    },
    {
      "cell_type": "markdown",
      "source": [
        "The accuracy score of 85% suggests that your model correctly predicted the target variable in approximately 85% of the test instances. However, it's important to note that the precision and F1-score for the positive class (\"Complete\") are relatively low, indicating that the model may have difficulty correctly identifying instances of that class."
      ],
      "metadata": {
        "id": "0MAEZ6pz2-74"
      },
      "id": "0MAEZ6pz2-74"
    },
    {
      "cell_type": "code",
      "source": [
        "# Create a ConfusionMatrix visualization\n",
        "cm = ConfusionMatrix(clf_rf, classes=[0, 1])\n",
        "\n",
        "# Fit the ConfusionMatrix on the training data\n",
        "cm.fit(X_train, y_train)\n",
        "\n",
        "# Score the ConfusionMatrix on the training data\n",
        "cm.score(X_test, y_test)"
      ],
      "metadata": {
        "colab": {
          "base_uri": "https://localhost:8080/",
          "height": 551
        },
        "id": "n9yJ_E6FaMwb",
        "outputId": "4504ccfc-f5aa-4c32-976b-627af0c68c92"
      },
      "id": "n9yJ_E6FaMwb",
      "execution_count": 32,
      "outputs": [
        {
          "output_type": "stream",
          "name": "stderr",
          "text": [
            "/usr/local/lib/python3.10/dist-packages/sklearn/base.py:439: UserWarning: X does not have valid feature names, but RandomForestClassifier was fitted with feature names\n",
            "  warnings.warn(\n"
          ]
        },
        {
          "output_type": "execute_result",
          "data": {
            "text/plain": [
              "0.8497398959583834"
            ]
          },
          "metadata": {},
          "execution_count": 32
        },
        {
          "output_type": "display_data",
          "data": {
            "text/plain": [
              "<Figure size 800x550 with 1 Axes>"
            ],
            "image/png": "[encoded data removed]"
          },
          "metadata": {}
        }
      ]
    },
    {
      "cell_type": "markdown",
      "source": [
        "For class 0:\n",
        "\n",
        "True Negatives (TN): 8,483 instances were correctly classified as \"Not Complete.\"\n",
        "False Positives (FP): 35 instances were incorrectly classified as \"Complete.\"\n",
        "For class 1:\n",
        "\n",
        "False Negatives (FN): 1,467 instances were incorrectly classified as \"Not Complete.\"\n",
        "True Positives (TP): 1 instance was correctly classified as \"Complete.\"\n",
        "\n",
        "The accuracy score obtained (approximately 84.97%) matches the calculation based on these confusion matrix values. However, the precision, recall, and F1-score for the positive class (\"Complete\") are extremely low, indicating that the model has a high number of false positives and struggles to correctly identify this class."
      ],
      "metadata": {
        "id": "7QUQBKV04Dm3"
      },
      "id": "7QUQBKV04Dm3"
    },
    {
      "cell_type": "markdown",
      "source": [
        "**One common problem that can lead to a low F1 score, especially in binary classification tasks, is an imbalanced dataset. An imbalanced dataset means that one class (e.g., class 0) has significantly more instances than the other class (e.g., class 1). In such cases, the model can become biased towards the majority class, leading to poor performance in correctly identifying the minority class. Reducing the number of instances in the majority class to be roughly equal to the number of instances in the minority class is one way to address this issue**"
      ],
      "metadata": {
        "id": "keRYJa-o45Nm"
      },
      "id": "keRYJa-o45Nm"
    },
    {
      "cell_type": "markdown",
      "source": [
        "# Feature Importance Analysis and Visualization"
      ],
      "metadata": {
        "id": "mjvuMDrR5aH6"
      },
      "id": "mjvuMDrR5aH6"
    },
    {
      "cell_type": "code",
      "source": [
        "# Calculate feature importance indices sorted in ascending order\n",
        "sorted_idx = clf_rf.feature_importances_.argsort()\n",
        "\n",
        "# Create a horizontal bar chart to visualize feature importance\n",
        "plt.figure(figsize=(10, 5))\n",
        "plt.barh(scaled_df.columns[:-1][sorted_idx], clf_rf.feature_importances_[sorted_idx])\n",
        "\n",
        "# Add labels and title\n",
        "plt.xlabel(\"Random Forest Feature Importance\")\n",
        "plt.ylabel(\"Features\")\n",
        "plt.title(\"Feature Importance Chart\")\n",
        "\n",
        "# Display the plot\n",
        "plt.show()"
      ],
      "metadata": {
        "colab": {
          "base_uri": "https://localhost:8080/",
          "height": 485
        },
        "id": "jaXAxhjb4dm5",
        "outputId": "13d95694-c72e-4c35-a4b9-a642d18a5b5a"
      },
      "id": "jaXAxhjb4dm5",
      "execution_count": 33,
      "outputs": [
        {
          "output_type": "display_data",
          "data": {
            "text/plain": [
              "<Figure size 1000x500 with 1 Axes>"
            ],
            "image/png": "[encoded data removed]"
          },
          "metadata": {}
        }
      ]
    },
    {
      "cell_type": "markdown",
      "source": [
        "# Balancing the Model"
      ],
      "metadata": {
        "id": "_hxnZEocQWi3"
      },
      "id": "_hxnZEocQWi3"
    },
    {
      "cell_type": "markdown",
      "source": [
        "In order to balance the dataset we are proceeding with undersampling.i.e.,reduce the number of samples in the majority class to match the number of samples in the minority class. This involves randomly removing instances from the majority class."
      ],
      "metadata": {
        "id": "i0g-t8O055ii"
      },
      "id": "i0g-t8O055ii"
    },
    {
      "cell_type": "code",
      "source": [
        "from imblearn.under_sampling import RandomUnderSampler\n",
        "\n",
        "# Initialize the RandomUnderSampler\n",
        "undersampler = RandomUnderSampler(random_state=42)\n",
        "\n",
        "# Perform undersampling on your training data\n",
        "X_train_resampled, y_train_resampled = undersampler.fit_resample(X_train, y_train)\n",
        "\n",
        "# Check the class distribution after undersampling\n",
        "print(\"Class distribution after undersampling:\")\n",
        "print(pd.Series(y_train_resampled).value_counts())"
      ],
      "metadata": {
        "colab": {
          "base_uri": "https://localhost:8080/"
        },
        "id": "kj-kS35TTysX",
        "outputId": "c3726d03-b583-4673-cda1-032fe2237edc"
      },
      "id": "kj-kS35TTysX",
      "execution_count": 34,
      "outputs": [
        {
          "output_type": "stream",
          "name": "stdout",
          "text": [
            "Class distribution after undersampling:\n",
            "0.0    5996\n",
            "1.0    5996\n",
            "Name: label, dtype: int64\n"
          ]
        }
      ]
    },
    {
      "cell_type": "code",
      "source": [
        "# Split the resampled data into training and testing sets\n",
        "X_train, X_test, y_train, y_test = train_test_split(X_train_resampled, y_train_resampled, test_size=0.20, random_state=42)\n",
        "\n",
        "# Create an instance of the classifier and fit the training data\n",
        "clf_rf = RandomForestClassifier(n_estimators=100, max_depth=50, min_samples_split=5, random_state=0)\n",
        "clf_rf.fit(X_train, y_train)\n",
        "\n",
        "# Predict on the test data\n",
        "y_pred_test = clf_rf.predict(X_test)\n",
        "\n",
        "# Calculate evaluation metrics\n",
        "f1 = round(f1_score(y_test, y_pred_test), 2)\n",
        "acc = round(accuracy_score(y_test, y_pred_test), 2)\n",
        "pre = round(precision_score(y_test, y_pred_test), 2)\n",
        "recall = round(recall_score(y_test, y_pred_test), 2)\n",
        "specificity = round(recall_score(y_test, y_pred_test, pos_label=0), 2)\n",
        "\n",
        "print(f\"Accuracy, precision, recall, specificity, and f1-score for training data are {acc}, {pre}, {recall}, {specificity}, and {f1} respectively\")"
      ],
      "metadata": {
        "colab": {
          "base_uri": "https://localhost:8080/"
        },
        "id": "UAW5h_kBCrOz",
        "outputId": "6197851d-65b4-44f0-8cfa-9bcb4f739f36"
      },
      "id": "UAW5h_kBCrOz",
      "execution_count": 35,
      "outputs": [
        {
          "output_type": "stream",
          "name": "stdout",
          "text": [
            "Accuracy, precision, recall, specificity, and f1-score for training data are 0.57, 0.56, 0.58, 0.55, and 0.57 respectively\n"
          ]
        }
      ]
    },
    {
      "cell_type": "markdown",
      "source": [
        "Accuracy: The proportion of correctly classified instances out of the total instances. In this case, 57% of the instances are classified correctly.\n",
        "\n",
        "Precision: The proportion of true positive predictions out of all positive predictions. In this case, 56% of positive predictions are true positives.\n",
        "\n",
        "Recall: The proportion of true positive predictions out of all actual positives. In this case, 58% of actual positives are correctly identified.\n",
        "\n",
        "Specificity: The proportion of true negative predictions out of all actual negatives. In this case, 55% of actual negatives are correctly identified.\n",
        "\n",
        "F1-score: The harmonic mean of precision and recall. It provides a balance between precision and recall. In this case, the F1-score is 0.57, indicating a reasonable balance between precision and recall."
      ],
      "metadata": {
        "id": "kQrUGrMGD2r_"
      },
      "id": "kQrUGrMGD2r_"
    },
    {
      "cell_type": "code",
      "source": [
        "cm = ConfusionMatrix(clf_rf, classes=[0, 1], warn_for=(\"log_loss\",))\n",
        "cm.fit(X_train, y_train)\n",
        "cm.score(X_test, y_test)"
      ],
      "metadata": {
        "colab": {
          "base_uri": "https://localhost:8080/",
          "height": 551
        },
        "id": "_Gk1CPCJDinA",
        "outputId": "b907a276-ad3f-4ae8-fc36-ffc7deca7f60"
      },
      "id": "_Gk1CPCJDinA",
      "execution_count": 37,
      "outputs": [
        {
          "output_type": "stream",
          "name": "stderr",
          "text": [
            "/usr/local/lib/python3.10/dist-packages/sklearn/base.py:439: UserWarning: X does not have valid feature names, but RandomForestClassifier was fitted with feature names\n",
            "  warnings.warn(\n"
          ]
        },
        {
          "output_type": "execute_result",
          "data": {
            "text/plain": [
              "0.5660691954981242"
            ]
          },
          "metadata": {},
          "execution_count": 37
        },
        {
          "output_type": "display_data",
          "data": {
            "text/plain": [
              "<Figure size 800x550 with 1 Axes>"
            ],
            "image/png": "[encoded data removed]"
          },
          "metadata": {}
        }
      ]
    },
    {
      "cell_type": "markdown",
      "source": [
        "A score of approximately 0.566 suggests that the classifier's performance is moderate."
      ],
      "metadata": {
        "id": "4_bXYnD0EhCR"
      },
      "id": "4_bXYnD0EhCR"
    },
    {
      "cell_type": "code",
      "source": [
        "plt.figure(figsize=(10,5))\n",
        "sorted_idx = clf_rf.feature_importances_.argsort()\n",
        "plt.barh(scaled_df.iloc[:,:-1].columns[sorted_idx], clf_rf.feature_importances_[sorted_idx])\n",
        "plt.xlabel(\"Random Forest Feature Importance\")"
      ],
      "metadata": {
        "colab": {
          "base_uri": "https://localhost:8080/",
          "height": 482
        },
        "id": "nTUVOK3VD6_i",
        "outputId": "e4e7478f-14c0-4ee6-a282-614434f6869b"
      },
      "id": "nTUVOK3VD6_i",
      "execution_count": 38,
      "outputs": [
        {
          "output_type": "execute_result",
          "data": {
            "text/plain": [
              "Text(0.5, 0, 'Random Forest Feature Importance')"
            ]
          },
          "metadata": {},
          "execution_count": 38
        },
        {
          "output_type": "display_data",
          "data": {
            "text/plain": [
              "<Figure size 1000x500 with 1 Axes>"
            ],
            "image/png": "[encoded data removed]"
          },
          "metadata": {}
        }
      ]
    },
    {
      "cell_type": "code",
      "source": [],
      "metadata": {
        "id": "ugGpaTcUEmM6"
      },
      "id": "ugGpaTcUEmM6",
      "execution_count": null,
      "outputs": []
    }
  ],
  "metadata": {
    "kernelspec": {
      "display_name": "Python 3 (ipykernel)",
      "language": "python",
      "name": "python3"
    },
    "language_info": {
      "codemirror_mode": {
        "name": "ipython",
        "version": 3
      },
      "file_extension": ".py",
      "mimetype": "text/x-python",
      "name": "python",
      "nbconvert_exporter": "python",
      "pygments_lexer": "ipython3",
      "version": "3.9.7"
    },
    "colab": {
      "provenance": []
    }
  },
  "nbformat": 4,
  "nbformat_minor": 5
}
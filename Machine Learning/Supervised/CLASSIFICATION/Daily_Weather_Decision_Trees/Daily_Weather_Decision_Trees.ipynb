{
  "cells": [
    {
      "cell_type": "markdown",
      "metadata": {
        "id": "kWcpyJPFgbwx"
      },
      "source": [
        "# What is a Decision Tree?\n",
        "\n",
        "<b>Decision tree </b> is a type of <b>supervised learning algorithm</b> that is mostly used in classification problems. It works for both categorical and continuous input and output variables. \n",
        "\n",
        "Example:-\n",
        "\n",
        "Let’s say we have a sample of <b>30 students </b>with three variables Gender (Boy/Girl), Class(IX/X) and Height (5 to 6 ft). 15 out of these 30 play cricket in leisure time. Now, I want to create a model to predict who will play cricket during leisure period? In this problem, we need to segregate students who play cricket in their leisure time based on highly significant input variable among all three.\n",
        "\n",
        "This is where decision tree helps, it will segregate the students based on all values of three variable and identify the variable, which creates the best homogeneous sets of students (which are heterogeneous to each other). In the snapshot below, you can see that variable Gender is able to identify best homogeneous sets compared to the other two variables.\n",
        "\n"
      ]
    },
    {
      "cell_type": "markdown",
      "metadata": {
        "id": "OYFuN3a0gbwz"
      },
      "source": [
        "# Practical Implementation"
      ]
    },
    {
      "cell_type": "markdown",
      "metadata": {
        "id": "6XE6pBTogbw0"
      },
      "source": [
        "The file **daily_weather.csv** is a comma-separated file that contains weather data.    The weather station is equipped with sensors that capture weather-related measurements such as air temperature, air pressure, and relative humidity.  Data was collected for a period of three years, from September 2011 to September 2014, to ensure that sufficient data for different seasons and weather conditions is captured.\n",
        "\n",
        "**Problem: Use morning sensor signals as features to predict whether the humidity will be high at 3pm.**\n"
      ]
    },
    {
      "cell_type": "markdown",
      "metadata": {
        "id": "qqlDjJ_Ogbwz"
      },
      "source": [
        "First we import the necessary libraries of the python for demostration of the Decision Tree Classifier."
      ]
    },
    {
      "cell_type": "code",
      "execution_count": null,
      "metadata": {
        "id": "K-jXT3B-gbwz"
      },
      "outputs": [],
      "source": [
        "import pandas as pd\n",
        "from sklearn.metrics import accuracy_score\n",
        "from sklearn.model_selection import train_test_split\n",
        "from sklearn.tree import DecisionTreeClassifier"
      ]
    },
    {
      "cell_type": "markdown",
      "metadata": {
        "id": "gsUPHEhFgbw0"
      },
      "source": [
        "Read the data of the weather from the csv file using read_csv function of pandas dataframe."
      ]
    },
    {
      "cell_type": "code",
      "execution_count": null,
      "metadata": {
        "id": "nsnC8UCcgbw0"
      },
      "outputs": [],
      "source": [
        "data = pd.read_csv('daily_weather.csv')"
      ]
    },
    {
      "cell_type": "code",
      "execution_count": null,
      "metadata": {
        "colab": {
          "base_uri": "https://localhost:8080/",
          "height": 215
        },
        "id": "Xju2tw2Sgbw1",
        "outputId": "ba9c2a44-63b1-4f78-c423-92296ee51d39"
      },
      "outputs": [
        {
          "data": {
            "text/html": [
              "<div>\n",
              "<style scoped>\n",
              "    .dataframe tbody tr th:only-of-type {\n",
              "        vertical-align: middle;\n",
              "    }\n",
              "\n",
              "    .dataframe tbody tr th {\n",
              "        vertical-align: top;\n",
              "    }\n",
              "\n",
              "    .dataframe thead th {\n",
              "        text-align: right;\n",
              "    }\n",
              "</style>\n",
              "<table border=\"1\" class=\"dataframe\">\n",
              "  <thead>\n",
              "    <tr style=\"text-align: right;\">\n",
              "      <th></th>\n",
              "      <th>air_pressure_9am</th>\n",
              "      <th>air_temp_9am</th>\n",
              "      <th>avg_wind_direction_9am</th>\n",
              "      <th>avg_wind_speed_9am</th>\n",
              "      <th>max_wind_direction_9am</th>\n",
              "      <th>max_wind_speed_9am</th>\n",
              "      <th>rain_accumulation_9am</th>\n",
              "      <th>rain_duration_9am</th>\n",
              "      <th>relative_humidity_9am</th>\n",
              "      <th>high_humidity_3pm</th>\n",
              "    </tr>\n",
              "  </thead>\n",
              "  <tbody>\n",
              "    <tr>\n",
              "      <th>0</th>\n",
              "      <td>918.060000</td>\n",
              "      <td>74.822000</td>\n",
              "      <td>271.100000</td>\n",
              "      <td>2.080354</td>\n",
              "      <td>295.400000</td>\n",
              "      <td>2.863283</td>\n",
              "      <td>0.0</td>\n",
              "      <td>0.0</td>\n",
              "      <td>42.420000</td>\n",
              "      <td>1</td>\n",
              "    </tr>\n",
              "    <tr>\n",
              "      <th>1</th>\n",
              "      <td>917.347688</td>\n",
              "      <td>71.403843</td>\n",
              "      <td>101.935179</td>\n",
              "      <td>2.443009</td>\n",
              "      <td>140.471549</td>\n",
              "      <td>3.533324</td>\n",
              "      <td>0.0</td>\n",
              "      <td>0.0</td>\n",
              "      <td>24.328697</td>\n",
              "      <td>0</td>\n",
              "    </tr>\n",
              "    <tr>\n",
              "      <th>2</th>\n",
              "      <td>923.040000</td>\n",
              "      <td>60.638000</td>\n",
              "      <td>51.000000</td>\n",
              "      <td>17.067852</td>\n",
              "      <td>63.700000</td>\n",
              "      <td>22.100967</td>\n",
              "      <td>0.0</td>\n",
              "      <td>20.0</td>\n",
              "      <td>8.900000</td>\n",
              "      <td>0</td>\n",
              "    </tr>\n",
              "    <tr>\n",
              "      <th>3</th>\n",
              "      <td>920.502751</td>\n",
              "      <td>70.138895</td>\n",
              "      <td>198.832133</td>\n",
              "      <td>4.337363</td>\n",
              "      <td>211.203341</td>\n",
              "      <td>5.190045</td>\n",
              "      <td>0.0</td>\n",
              "      <td>0.0</td>\n",
              "      <td>12.189102</td>\n",
              "      <td>0</td>\n",
              "    </tr>\n",
              "    <tr>\n",
              "      <th>4</th>\n",
              "      <td>921.160000</td>\n",
              "      <td>44.294000</td>\n",
              "      <td>277.800000</td>\n",
              "      <td>1.856660</td>\n",
              "      <td>136.500000</td>\n",
              "      <td>2.863283</td>\n",
              "      <td>8.9</td>\n",
              "      <td>14730.0</td>\n",
              "      <td>92.410000</td>\n",
              "      <td>1</td>\n",
              "    </tr>\n",
              "  </tbody>\n",
              "</table>\n",
              "</div>"
            ],
            "text/plain": [
              "   air_pressure_9am  air_temp_9am  avg_wind_direction_9am  avg_wind_speed_9am  \\\n",
              "0        918.060000     74.822000              271.100000            2.080354   \n",
              "1        917.347688     71.403843              101.935179            2.443009   \n",
              "2        923.040000     60.638000               51.000000           17.067852   \n",
              "3        920.502751     70.138895              198.832133            4.337363   \n",
              "4        921.160000     44.294000              277.800000            1.856660   \n",
              "\n",
              "   max_wind_direction_9am  max_wind_speed_9am  rain_accumulation_9am  \\\n",
              "0              295.400000            2.863283                    0.0   \n",
              "1              140.471549            3.533324                    0.0   \n",
              "2               63.700000           22.100967                    0.0   \n",
              "3              211.203341            5.190045                    0.0   \n",
              "4              136.500000            2.863283                    8.9   \n",
              "\n",
              "   rain_duration_9am  relative_humidity_9am  high_humidity_3pm  \n",
              "0                0.0              42.420000                  1  \n",
              "1                0.0              24.328697                  0  \n",
              "2               20.0               8.900000                  0  \n",
              "3                0.0              12.189102                  0  \n",
              "4            14730.0              92.410000                  1  "
            ]
          },
          "execution_count": 3,
          "metadata": {},
          "output_type": "execute_result"
        }
      ],
      "source": [
        "data.head()"
      ]
    },
    {
      "cell_type": "code",
      "execution_count": null,
      "metadata": {
        "colab": {
          "base_uri": "https://localhost:8080/"
        },
        "id": "mseYl7Ktgbw2",
        "outputId": "48e7da78-12c5-4a01-ccb8-431764731720",
        "scrolled": true
      },
      "outputs": [
        {
          "data": {
            "text/plain": [
              "Index(['air_pressure_9am', 'air_temp_9am', 'avg_wind_direction_9am',\n",
              "       'avg_wind_speed_9am', 'max_wind_direction_9am', 'max_wind_speed_9am',\n",
              "       'rain_accumulation_9am', 'rain_duration_9am', 'relative_humidity_9am',\n",
              "       'high_humidity_3pm'],\n",
              "      dtype='object')"
            ]
          },
          "execution_count": 4,
          "metadata": {},
          "output_type": "execute_result"
        }
      ],
      "source": [
        "data.columns"
      ]
    },
    {
      "cell_type": "code",
      "execution_count": null,
      "metadata": {
        "colab": {
          "base_uri": "https://localhost:8080/"
        },
        "id": "GhR0DEftgbw2",
        "outputId": "e9924c88-b829-4b12-a5c6-0ad7d17b79fa"
      },
      "outputs": [
        {
          "data": {
            "text/plain": [
              "(1095, 10)"
            ]
          },
          "execution_count": 5,
          "metadata": {},
          "output_type": "execute_result"
        }
      ],
      "source": [
        "data.shape"
      ]
    },
    {
      "cell_type": "code",
      "execution_count": null,
      "metadata": {
        "colab": {
          "base_uri": "https://localhost:8080/",
          "height": 304
        },
        "id": "OF7t88bygbw3",
        "outputId": "4c6f6691-af29-4395-d972-da0d637ad559"
      },
      "outputs": [
        {
          "data": {
            "text/html": [
              "<div>\n",
              "<style scoped>\n",
              "    .dataframe tbody tr th:only-of-type {\n",
              "        vertical-align: middle;\n",
              "    }\n",
              "\n",
              "    .dataframe tbody tr th {\n",
              "        vertical-align: top;\n",
              "    }\n",
              "\n",
              "    .dataframe thead th {\n",
              "        text-align: right;\n",
              "    }\n",
              "</style>\n",
              "<table border=\"1\" class=\"dataframe\">\n",
              "  <thead>\n",
              "    <tr style=\"text-align: right;\">\n",
              "      <th></th>\n",
              "      <th>air_pressure_9am</th>\n",
              "      <th>air_temp_9am</th>\n",
              "      <th>avg_wind_direction_9am</th>\n",
              "      <th>avg_wind_speed_9am</th>\n",
              "      <th>max_wind_direction_9am</th>\n",
              "      <th>max_wind_speed_9am</th>\n",
              "      <th>rain_accumulation_9am</th>\n",
              "      <th>rain_duration_9am</th>\n",
              "      <th>relative_humidity_9am</th>\n",
              "      <th>high_humidity_3pm</th>\n",
              "    </tr>\n",
              "  </thead>\n",
              "  <tbody>\n",
              "    <tr>\n",
              "      <th>count</th>\n",
              "      <td>1092.000000</td>\n",
              "      <td>1090.000000</td>\n",
              "      <td>1091.000000</td>\n",
              "      <td>1092.000000</td>\n",
              "      <td>1092.000000</td>\n",
              "      <td>1091.000000</td>\n",
              "      <td>1089.000000</td>\n",
              "      <td>1092.000000</td>\n",
              "      <td>1095.000000</td>\n",
              "      <td>1095.000000</td>\n",
              "    </tr>\n",
              "    <tr>\n",
              "      <th>mean</th>\n",
              "      <td>918.882551</td>\n",
              "      <td>64.933001</td>\n",
              "      <td>142.235511</td>\n",
              "      <td>5.508284</td>\n",
              "      <td>148.953518</td>\n",
              "      <td>7.019514</td>\n",
              "      <td>0.203079</td>\n",
              "      <td>294.108052</td>\n",
              "      <td>34.241402</td>\n",
              "      <td>0.499543</td>\n",
              "    </tr>\n",
              "    <tr>\n",
              "      <th>std</th>\n",
              "      <td>3.184161</td>\n",
              "      <td>11.175514</td>\n",
              "      <td>69.137859</td>\n",
              "      <td>4.552813</td>\n",
              "      <td>67.238013</td>\n",
              "      <td>5.598209</td>\n",
              "      <td>1.593952</td>\n",
              "      <td>1598.078779</td>\n",
              "      <td>25.472067</td>\n",
              "      <td>0.500228</td>\n",
              "    </tr>\n",
              "    <tr>\n",
              "      <th>min</th>\n",
              "      <td>907.990000</td>\n",
              "      <td>36.752000</td>\n",
              "      <td>15.500000</td>\n",
              "      <td>0.693451</td>\n",
              "      <td>28.900000</td>\n",
              "      <td>1.185578</td>\n",
              "      <td>0.000000</td>\n",
              "      <td>0.000000</td>\n",
              "      <td>6.090000</td>\n",
              "      <td>0.000000</td>\n",
              "    </tr>\n",
              "    <tr>\n",
              "      <th>25%</th>\n",
              "      <td>916.550000</td>\n",
              "      <td>57.281000</td>\n",
              "      <td>65.972506</td>\n",
              "      <td>2.248768</td>\n",
              "      <td>76.553003</td>\n",
              "      <td>3.067477</td>\n",
              "      <td>0.000000</td>\n",
              "      <td>0.000000</td>\n",
              "      <td>15.092243</td>\n",
              "      <td>0.000000</td>\n",
              "    </tr>\n",
              "    <tr>\n",
              "      <th>50%</th>\n",
              "      <td>918.921045</td>\n",
              "      <td>65.715479</td>\n",
              "      <td>166.000000</td>\n",
              "      <td>3.871333</td>\n",
              "      <td>177.300000</td>\n",
              "      <td>4.943637</td>\n",
              "      <td>0.000000</td>\n",
              "      <td>0.000000</td>\n",
              "      <td>23.179259</td>\n",
              "      <td>0.000000</td>\n",
              "    </tr>\n",
              "    <tr>\n",
              "      <th>75%</th>\n",
              "      <td>921.160073</td>\n",
              "      <td>73.450974</td>\n",
              "      <td>191.000000</td>\n",
              "      <td>7.337163</td>\n",
              "      <td>201.233153</td>\n",
              "      <td>8.947760</td>\n",
              "      <td>0.000000</td>\n",
              "      <td>0.000000</td>\n",
              "      <td>45.400000</td>\n",
              "      <td>1.000000</td>\n",
              "    </tr>\n",
              "    <tr>\n",
              "      <th>max</th>\n",
              "      <td>929.320000</td>\n",
              "      <td>98.906000</td>\n",
              "      <td>343.400000</td>\n",
              "      <td>23.554978</td>\n",
              "      <td>312.200000</td>\n",
              "      <td>29.840780</td>\n",
              "      <td>24.020000</td>\n",
              "      <td>17704.000000</td>\n",
              "      <td>92.620000</td>\n",
              "      <td>1.000000</td>\n",
              "    </tr>\n",
              "  </tbody>\n",
              "</table>\n",
              "</div>"
            ],
            "text/plain": [
              "       air_pressure_9am  air_temp_9am  avg_wind_direction_9am  \\\n",
              "count       1092.000000   1090.000000             1091.000000   \n",
              "mean         918.882551     64.933001              142.235511   \n",
              "std            3.184161     11.175514               69.137859   \n",
              "min          907.990000     36.752000               15.500000   \n",
              "25%          916.550000     57.281000               65.972506   \n",
              "50%          918.921045     65.715479              166.000000   \n",
              "75%          921.160073     73.450974              191.000000   \n",
              "max          929.320000     98.906000              343.400000   \n",
              "\n",
              "       avg_wind_speed_9am  max_wind_direction_9am  max_wind_speed_9am  \\\n",
              "count         1092.000000             1092.000000         1091.000000   \n",
              "mean             5.508284              148.953518            7.019514   \n",
              "std              4.552813               67.238013            5.598209   \n",
              "min              0.693451               28.900000            1.185578   \n",
              "25%              2.248768               76.553003            3.067477   \n",
              "50%              3.871333              177.300000            4.943637   \n",
              "75%              7.337163              201.233153            8.947760   \n",
              "max             23.554978              312.200000           29.840780   \n",
              "\n",
              "       rain_accumulation_9am  rain_duration_9am  relative_humidity_9am  \\\n",
              "count            1089.000000        1092.000000            1095.000000   \n",
              "mean                0.203079         294.108052              34.241402   \n",
              "std                 1.593952        1598.078779              25.472067   \n",
              "min                 0.000000           0.000000               6.090000   \n",
              "25%                 0.000000           0.000000              15.092243   \n",
              "50%                 0.000000           0.000000              23.179259   \n",
              "75%                 0.000000           0.000000              45.400000   \n",
              "max                24.020000       17704.000000              92.620000   \n",
              "\n",
              "       high_humidity_3pm  \n",
              "count        1095.000000  \n",
              "mean            0.499543  \n",
              "std             0.500228  \n",
              "min             0.000000  \n",
              "25%             0.000000  \n",
              "50%             0.000000  \n",
              "75%             1.000000  \n",
              "max             1.000000  "
            ]
          },
          "execution_count": 6,
          "metadata": {},
          "output_type": "execute_result"
        }
      ],
      "source": [
        "data.describe()"
      ]
    },
    {
      "cell_type": "code",
      "execution_count": null,
      "metadata": {
        "colab": {
          "base_uri": "https://localhost:8080/"
        },
        "id": "RVCVAw-pUEPd",
        "outputId": "934f5dff-3cdb-458d-e844-86bce412303c"
      },
      "outputs": [
        {
          "data": {
            "text/plain": [
              "0    548\n",
              "1    547\n",
              "Name: high_humidity_3pm, dtype: int64"
            ]
          },
          "execution_count": 7,
          "metadata": {},
          "output_type": "execute_result"
        }
      ],
      "source": [
        "data['high_humidity_3pm'].value_counts()"
      ]
    },
    {
      "cell_type": "markdown",
      "metadata": {
        "id": "Z8AtVBTbgbw4"
      },
      "source": [
        "Removing the rows which contains the null values"
      ]
    },
    {
      "cell_type": "code",
      "execution_count": null,
      "metadata": {
        "id": "pSFyKkkgRick",
        "outputId": "e1b05dcf-0315-44e3-939a-18d40b5bd97b"
      },
      "outputs": [
        {
          "data": {
            "text/plain": [
              "air_pressure_9am          3\n",
              "air_temp_9am              5\n",
              "avg_wind_direction_9am    4\n",
              "avg_wind_speed_9am        3\n",
              "max_wind_direction_9am    3\n",
              "max_wind_speed_9am        4\n",
              "rain_accumulation_9am     6\n",
              "rain_duration_9am         3\n",
              "relative_humidity_9am     0\n",
              "high_humidity_3pm         0\n",
              "dtype: int64"
            ]
          },
          "execution_count": 8,
          "metadata": {},
          "output_type": "execute_result"
        }
      ],
      "source": [
        "data.isnull().sum()"
      ]
    },
    {
      "cell_type": "code",
      "execution_count": null,
      "metadata": {
        "id": "G2DPSiacgbw4"
      },
      "outputs": [],
      "source": [
        "data.dropna(inplace=True)"
      ]
    },
    {
      "cell_type": "code",
      "execution_count": null,
      "metadata": {
        "colab": {
          "base_uri": "https://localhost:8080/"
        },
        "id": "b8Dx-JsUV0M8",
        "outputId": "336065c2-7e34-4ede-ad65-0635bdb7ab9f"
      },
      "outputs": [
        {
          "data": {
            "text/plain": [
              "(1064, 10)"
            ]
          },
          "execution_count": 10,
          "metadata": {},
          "output_type": "execute_result"
        }
      ],
      "source": [
        "data.shape"
      ]
    },
    {
      "cell_type": "code",
      "execution_count": null,
      "metadata": {
        "id": "GZ3uu6xYgbw6"
      },
      "outputs": [],
      "source": [
        "independent_variables = ['air_pressure_9am', 'air_temp_9am', 'avg_wind_direction_9am',\n",
        "       'avg_wind_speed_9am', 'max_wind_direction_9am', 'max_wind_speed_9am',\n",
        "       'rain_accumulation_9am', 'rain_duration_9am', 'relative_humidity_9am']"
      ]
    },
    {
      "cell_type": "code",
      "execution_count": null,
      "metadata": {
        "id": "-Nd-flCiWigJ"
      },
      "outputs": [],
      "source": [
        "dependent_variable = 'high_humidity_3pm'"
      ]
    },
    {
      "cell_type": "code",
      "execution_count": null,
      "metadata": {
        "id": "JlExSCSYgbw6"
      },
      "outputs": [],
      "source": [
        "X = data.drop(columns='high_humidity_3pm',axis=1)\n",
        "Y = data['high_humidity_3pm']"
      ]
    },
    {
      "cell_type": "markdown",
      "metadata": {
        "id": "XDawzssLgbw6"
      },
      "source": [
        "By using train_test_split we have split the data into traing dataset and testing datasets."
      ]
    },
    {
      "cell_type": "code",
      "execution_count": null,
      "metadata": {
        "id": "2ViPJna0gbw6"
      },
      "outputs": [],
      "source": [
        "X_train, X_test, Y_train, Y_test = train_test_split(X, Y, test_size=0.33, random_state=112)"
      ]
    },
    {
      "cell_type": "markdown",
      "metadata": {
        "id": "Fei-zEE4gbw7"
      },
      "source": [
        "**Fit on Train Set**"
      ]
    },
    {
      "cell_type": "code",
      "execution_count": null,
      "metadata": {
        "id": "okH4KSatRico",
        "outputId": "51bc2fc9-81c5-4144-8a65-131fcf46ca11"
      },
      "outputs": [
        {
          "data": {
            "text/html": [
              "<style>#sk-container-id-1 {color: black;background-color: white;}#sk-container-id-1 pre{padding: 0;}#sk-container-id-1 div.sk-toggleable {background-color: white;}#sk-container-id-1 label.sk-toggleable__label {cursor: pointer;display: block;width: 100%;margin-bottom: 0;padding: 0.3em;box-sizing: border-box;text-align: center;}#sk-container-id-1 label.sk-toggleable__label-arrow:before {content: \"▸\";float: left;margin-right: 0.25em;color: #696969;}#sk-container-id-1 label.sk-toggleable__label-arrow:hover:before {color: black;}#sk-container-id-1 div.sk-estimator:hover label.sk-toggleable__label-arrow:before {color: black;}#sk-container-id-1 div.sk-toggleable__content {max-height: 0;max-width: 0;overflow: hidden;text-align: left;background-color: #f0f8ff;}#sk-container-id-1 div.sk-toggleable__content pre {margin: 0.2em;color: black;border-radius: 0.25em;background-color: #f0f8ff;}#sk-container-id-1 input.sk-toggleable__control:checked~div.sk-toggleable__content {max-height: 200px;max-width: 100%;overflow: auto;}#sk-container-id-1 input.sk-toggleable__control:checked~label.sk-toggleable__label-arrow:before {content: \"▾\";}#sk-container-id-1 div.sk-estimator input.sk-toggleable__control:checked~label.sk-toggleable__label {background-color: #d4ebff;}#sk-container-id-1 div.sk-label input.sk-toggleable__control:checked~label.sk-toggleable__label {background-color: #d4ebff;}#sk-container-id-1 input.sk-hidden--visually {border: 0;clip: rect(1px 1px 1px 1px);clip: rect(1px, 1px, 1px, 1px);height: 1px;margin: -1px;overflow: hidden;padding: 0;position: absolute;width: 1px;}#sk-container-id-1 div.sk-estimator {font-family: monospace;background-color: #f0f8ff;border: 1px dotted black;border-radius: 0.25em;box-sizing: border-box;margin-bottom: 0.5em;}#sk-container-id-1 div.sk-estimator:hover {background-color: #d4ebff;}#sk-container-id-1 div.sk-parallel-item::after {content: \"\";width: 100%;border-bottom: 1px solid gray;flex-grow: 1;}#sk-container-id-1 div.sk-label:hover label.sk-toggleable__label {background-color: #d4ebff;}#sk-container-id-1 div.sk-serial::before {content: \"\";position: absolute;border-left: 1px solid gray;box-sizing: border-box;top: 0;bottom: 0;left: 50%;z-index: 0;}#sk-container-id-1 div.sk-serial {display: flex;flex-direction: column;align-items: center;background-color: white;padding-right: 0.2em;padding-left: 0.2em;position: relative;}#sk-container-id-1 div.sk-item {position: relative;z-index: 1;}#sk-container-id-1 div.sk-parallel {display: flex;align-items: stretch;justify-content: center;background-color: white;position: relative;}#sk-container-id-1 div.sk-item::before, #sk-container-id-1 div.sk-parallel-item::before {content: \"\";position: absolute;border-left: 1px solid gray;box-sizing: border-box;top: 0;bottom: 0;left: 50%;z-index: -1;}#sk-container-id-1 div.sk-parallel-item {display: flex;flex-direction: column;z-index: 1;position: relative;background-color: white;}#sk-container-id-1 div.sk-parallel-item:first-child::after {align-self: flex-end;width: 50%;}#sk-container-id-1 div.sk-parallel-item:last-child::after {align-self: flex-start;width: 50%;}#sk-container-id-1 div.sk-parallel-item:only-child::after {width: 0;}#sk-container-id-1 div.sk-dashed-wrapped {border: 1px dashed gray;margin: 0 0.4em 0.5em 0.4em;box-sizing: border-box;padding-bottom: 0.4em;background-color: white;}#sk-container-id-1 div.sk-label label {font-family: monospace;font-weight: bold;display: inline-block;line-height: 1.2em;}#sk-container-id-1 div.sk-label-container {text-align: center;}#sk-container-id-1 div.sk-container {/* jupyter's `normalize.less` sets `[hidden] { display: none; }` but bootstrap.min.css set `[hidden] { display: none !important; }` so we also need the `!important` here to be able to override the default hidden behavior on the sphinx rendered scikit-learn.org. See: https://github.com/scikit-learn/scikit-learn/issues/21755 */display: inline-block !important;position: relative;}#sk-container-id-1 div.sk-text-repr-fallback {display: none;}</style><div id=\"sk-container-id-1\" class=\"sk-top-container\"><div class=\"sk-text-repr-fallback\"><pre>DecisionTreeClassifier(max_leaf_nodes=20)</pre><b>In a Jupyter environment, please rerun this cell to show the HTML representation or trust the notebook. <br />On GitHub, the HTML representation is unable to render, please try loading this page with nbviewer.org.</b></div><div class=\"sk-container\" hidden><div class=\"sk-item\"><div class=\"sk-estimator sk-toggleable\"><input class=\"sk-toggleable__control sk-hidden--visually\" id=\"sk-estimator-id-1\" type=\"checkbox\" checked><label for=\"sk-estimator-id-1\" class=\"sk-toggleable__label sk-toggleable__label-arrow\">DecisionTreeClassifier</label><div class=\"sk-toggleable__content\"><pre>DecisionTreeClassifier(max_leaf_nodes=20)</pre></div></div></div></div></div>"
            ],
            "text/plain": [
              "DecisionTreeClassifier(max_leaf_nodes=20)"
            ]
          },
          "execution_count": 13,
          "metadata": {},
          "output_type": "execute_result"
        }
      ],
      "source": [
        "dec_classifier = DecisionTreeClassifier(criterion='gini', max_leaf_nodes=20)\n",
        "dec_classifier.fit(X_train, Y_train)"
      ]
    },
    {
      "cell_type": "code",
      "execution_count": null,
      "metadata": {
        "id": "L07iwipURico"
      },
      "outputs": [],
      "source": [
        "y_pred_train = dec_classifier.predict(X_train)"
      ]
    },
    {
      "cell_type": "code",
      "execution_count": null,
      "metadata": {
        "id": "ZzoVQq49Ricp",
        "outputId": "701c5208-738e-4e90-cbb5-d31e25db7958"
      },
      "outputs": [
        {
          "data": {
            "text/plain": [
              "0.9353932584269663"
            ]
          },
          "execution_count": 17,
          "metadata": {},
          "output_type": "execute_result"
        }
      ],
      "source": [
        "accuracy_score(Y_train,y_pred_train)"
      ]
    },
    {
      "cell_type": "markdown",
      "metadata": {
        "id": "Z-iZpTW4gbw7"
      },
      "source": [
        "**Predict on Test Set**"
      ]
    },
    {
      "cell_type": "code",
      "execution_count": null,
      "metadata": {
        "id": "ri22qTuCgbw8"
      },
      "outputs": [],
      "source": [
        "y_predicted = humidity_classifier.predict(X_test)"
      ]
    },
    {
      "cell_type": "code",
      "execution_count": null,
      "metadata": {
        "colab": {
          "base_uri": "https://localhost:8080/"
        },
        "id": "LG1S8pNjgbw8",
        "outputId": "7222223e-0f99-42a8-e746-6623a0c74fea"
      },
      "outputs": [
        {
          "data": {
            "text/plain": [
              "array([1, 1, 0, 1, 0, 0, 0, 0, 1, 0], dtype=int64)"
            ]
          },
          "execution_count": 17,
          "metadata": {},
          "output_type": "execute_result"
        }
      ],
      "source": [
        "y_predicted[:10]"
      ]
    },
    {
      "cell_type": "code",
      "execution_count": null,
      "metadata": {
        "colab": {
          "base_uri": "https://localhost:8080/"
        },
        "id": "jHl3lQz5gbw8",
        "outputId": "eed620b8-9966-47a4-8426-3ab585337f31"
      },
      "outputs": [
        {
          "data": {
            "text/plain": [
              "835    1\n",
              "910    1\n",
              "646    0\n",
              "350    1\n",
              "2      0\n",
              "797    0\n",
              "423    1\n",
              "850    0\n",
              "302    1\n",
              "284    0\n",
              "Name: high_humidity_3pm, dtype: int64"
            ]
          },
          "execution_count": 18,
          "metadata": {},
          "output_type": "execute_result"
        }
      ],
      "source": [
        "y_test[:10]"
      ]
    },
    {
      "cell_type": "markdown",
      "metadata": {
        "id": "UdgRvwUlgbw9"
      },
      "source": [
        "### Measure Accuracy of the Classifier"
      ]
    },
    {
      "cell_type": "code",
      "execution_count": null,
      "metadata": {
        "colab": {
          "base_uri": "https://localhost:8080/"
        },
        "id": "mA4cifFXgbw9",
        "outputId": "5818575d-f6a3-4229-a698-b4943441386c"
      },
      "outputs": [
        {
          "data": {
            "text/plain": [
              "88.63636363636364"
            ]
          },
          "execution_count": 19,
          "metadata": {},
          "output_type": "execute_result"
        }
      ],
      "source": [
        "accuracy_score(y_test, y_predicted) * 100"
      ]
    },
    {
      "cell_type": "markdown",
      "metadata": {
        "id": "Ph59ghC4gbw_"
      },
      "source": [
        "The conclusion is that the model has good accuracy in predicting whether the humidity will be high at 3pm using morning sensor signals as features. The accuracy on the training set is 93.54%, and the accuracy on the test set is 88.64%, which is a good indication that the model generalizes well to unseen data."
      ]
    },
    {
      "cell_type": "code",
      "source": [],
      "metadata": {
        "id": "waIPSzyaTM8j"
      },
      "execution_count": null,
      "outputs": []
    }
  ],
  "metadata": {
    "colab": {
      "provenance": []
    },
    "kernelspec": {
      "display_name": "Python 3",
      "language": "python",
      "name": "python3"
    },
    "language_info": {
      "codemirror_mode": {
        "name": "ipython",
        "version": 3
      },
      "file_extension": ".py",
      "mimetype": "text/x-python",
      "name": "python",
      "nbconvert_exporter": "python",
      "pygments_lexer": "ipython3",
      "version": "3.8.8"
    }
  },
  "nbformat": 4,
  "nbformat_minor": 0
}
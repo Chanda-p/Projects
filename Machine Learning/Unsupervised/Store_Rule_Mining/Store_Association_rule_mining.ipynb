{
  "cells": [
    {
      "cell_type": "code",
      "execution_count": 2,
      "id": "1b5ec3bd",
      "metadata": {
        "colab": {
          "base_uri": "https://localhost:8080/"
        },
        "id": "1b5ec3bd",
        "outputId": "56a43cf0-2841-49a7-a37f-b5af9fc35361"
      },
      "outputs": [
        {
          "output_type": "stream",
          "name": "stdout",
          "text": [
            "Looking in indexes: https://pypi.org/simple, https://us-python.pkg.dev/colab-wheels/public/simple/\n",
            "Collecting apyori\n",
            "  Downloading apyori-1.1.2.tar.gz (8.6 kB)\n",
            "  Preparing metadata (setup.py) ... \u001b[?25l\u001b[?25hdone\n",
            "Building wheels for collected packages: apyori\n",
            "  Building wheel for apyori (setup.py) ... \u001b[?25l\u001b[?25hdone\n",
            "  Created wheel for apyori: filename=apyori-1.1.2-py3-none-any.whl size=5976 sha256=34fbc0b359db9ab1a0121d12f3a4698789698488430fd8d0bac3639706a397bf\n",
            "  Stored in directory: /root/.cache/pip/wheels/32/2a/54/10c595515f385f3726642b10c60bf788029e8f3a1323e3913a\n",
            "Successfully built apyori\n",
            "Installing collected packages: apyori\n",
            "Successfully installed apyori-1.1.2\n"
          ]
        }
      ],
      "source": [
        "!pip install apyori"
      ]
    },
    {
      "cell_type": "code",
      "execution_count": 3,
      "id": "92a70b8e",
      "metadata": {
        "id": "92a70b8e"
      },
      "outputs": [],
      "source": [
        "import pandas as pd\n",
        "import numpy as np\n",
        "import matplotlib.pyplot as plt\n",
        "from apyori import apriori"
      ]
    },
    {
      "cell_type": "code",
      "execution_count": 4,
      "id": "b49b3a19",
      "metadata": {
        "id": "b49b3a19"
      },
      "outputs": [],
      "source": [
        "#Loading the dataset\n",
        "store_data = pd.read_csv('store_data.csv',header=None)"
      ]
    },
    {
      "cell_type": "code",
      "execution_count": 5,
      "id": "93e24190",
      "metadata": {
        "colab": {
          "base_uri": "https://localhost:8080/",
          "height": 302
        },
        "id": "93e24190",
        "outputId": "1ab57eee-8a36-4b34-c1da-29bb1bd20a80"
      },
      "outputs": [
        {
          "output_type": "execute_result",
          "data": {
            "text/plain": [
              "              0          1           2                 3             4   \\\n",
              "0         shrimp    almonds     avocado    vegetables mix  green grapes   \n",
              "1        burgers  meatballs        eggs               NaN           NaN   \n",
              "2        chutney        NaN         NaN               NaN           NaN   \n",
              "3         turkey    avocado         NaN               NaN           NaN   \n",
              "4  mineral water       milk  energy bar  whole wheat rice     green tea   \n",
              "\n",
              "                 5     6               7             8             9   \\\n",
              "0  whole weat flour  yams  cottage cheese  energy drink  tomato juice   \n",
              "1               NaN   NaN             NaN           NaN           NaN   \n",
              "2               NaN   NaN             NaN           NaN           NaN   \n",
              "3               NaN   NaN             NaN           NaN           NaN   \n",
              "4               NaN   NaN             NaN           NaN           NaN   \n",
              "\n",
              "               10         11     12     13             14      15  \\\n",
              "0  low fat yogurt  green tea  honey  salad  mineral water  salmon   \n",
              "1             NaN        NaN    NaN    NaN            NaN     NaN   \n",
              "2             NaN        NaN    NaN    NaN            NaN     NaN   \n",
              "3             NaN        NaN    NaN    NaN            NaN     NaN   \n",
              "4             NaN        NaN    NaN    NaN            NaN     NaN   \n",
              "\n",
              "                  16               17       18         19  \n",
              "0  antioxydant juice  frozen smoothie  spinach  olive oil  \n",
              "1                NaN              NaN      NaN        NaN  \n",
              "2                NaN              NaN      NaN        NaN  \n",
              "3                NaN              NaN      NaN        NaN  \n",
              "4                NaN              NaN      NaN        NaN  "
            ],
            "text/html": [
              "\n",
              "  <div id=\"df-04f2cec3-c886-494f-84e9-a5aeecd8f114\">\n",
              "    <div class=\"colab-df-container\">\n",
              "      <div>\n",
              "<style scoped>\n",
              "    .dataframe tbody tr th:only-of-type {\n",
              "        vertical-align: middle;\n",
              "    }\n",
              "\n",
              "    .dataframe tbody tr th {\n",
              "        vertical-align: top;\n",
              "    }\n",
              "\n",
              "    .dataframe thead th {\n",
              "        text-align: right;\n",
              "    }\n",
              "</style>\n",
              "<table border=\"1\" class=\"dataframe\">\n",
              "  <thead>\n",
              "    <tr style=\"text-align: right;\">\n",
              "      <th></th>\n",
              "      <th>0</th>\n",
              "      <th>1</th>\n",
              "      <th>2</th>\n",
              "      <th>3</th>\n",
              "      <th>4</th>\n",
              "      <th>5</th>\n",
              "      <th>6</th>\n",
              "      <th>7</th>\n",
              "      <th>8</th>\n",
              "      <th>9</th>\n",
              "      <th>10</th>\n",
              "      <th>11</th>\n",
              "      <th>12</th>\n",
              "      <th>13</th>\n",
              "      <th>14</th>\n",
              "      <th>15</th>\n",
              "      <th>16</th>\n",
              "      <th>17</th>\n",
              "      <th>18</th>\n",
              "      <th>19</th>\n",
              "    </tr>\n",
              "  </thead>\n",
              "  <tbody>\n",
              "    <tr>\n",
              "      <th>0</th>\n",
              "      <td>shrimp</td>\n",
              "      <td>almonds</td>\n",
              "      <td>avocado</td>\n",
              "      <td>vegetables mix</td>\n",
              "      <td>green grapes</td>\n",
              "      <td>whole weat flour</td>\n",
              "      <td>yams</td>\n",
              "      <td>cottage cheese</td>\n",
              "      <td>energy drink</td>\n",
              "      <td>tomato juice</td>\n",
              "      <td>low fat yogurt</td>\n",
              "      <td>green tea</td>\n",
              "      <td>honey</td>\n",
              "      <td>salad</td>\n",
              "      <td>mineral water</td>\n",
              "      <td>salmon</td>\n",
              "      <td>antioxydant juice</td>\n",
              "      <td>frozen smoothie</td>\n",
              "      <td>spinach</td>\n",
              "      <td>olive oil</td>\n",
              "    </tr>\n",
              "    <tr>\n",
              "      <th>1</th>\n",
              "      <td>burgers</td>\n",
              "      <td>meatballs</td>\n",
              "      <td>eggs</td>\n",
              "      <td>NaN</td>\n",
              "      <td>NaN</td>\n",
              "      <td>NaN</td>\n",
              "      <td>NaN</td>\n",
              "      <td>NaN</td>\n",
              "      <td>NaN</td>\n",
              "      <td>NaN</td>\n",
              "      <td>NaN</td>\n",
              "      <td>NaN</td>\n",
              "      <td>NaN</td>\n",
              "      <td>NaN</td>\n",
              "      <td>NaN</td>\n",
              "      <td>NaN</td>\n",
              "      <td>NaN</td>\n",
              "      <td>NaN</td>\n",
              "      <td>NaN</td>\n",
              "      <td>NaN</td>\n",
              "    </tr>\n",
              "    <tr>\n",
              "      <th>2</th>\n",
              "      <td>chutney</td>\n",
              "      <td>NaN</td>\n",
              "      <td>NaN</td>\n",
              "      <td>NaN</td>\n",
              "      <td>NaN</td>\n",
              "      <td>NaN</td>\n",
              "      <td>NaN</td>\n",
              "      <td>NaN</td>\n",
              "      <td>NaN</td>\n",
              "      <td>NaN</td>\n",
              "      <td>NaN</td>\n",
              "      <td>NaN</td>\n",
              "      <td>NaN</td>\n",
              "      <td>NaN</td>\n",
              "      <td>NaN</td>\n",
              "      <td>NaN</td>\n",
              "      <td>NaN</td>\n",
              "      <td>NaN</td>\n",
              "      <td>NaN</td>\n",
              "      <td>NaN</td>\n",
              "    </tr>\n",
              "    <tr>\n",
              "      <th>3</th>\n",
              "      <td>turkey</td>\n",
              "      <td>avocado</td>\n",
              "      <td>NaN</td>\n",
              "      <td>NaN</td>\n",
              "      <td>NaN</td>\n",
              "      <td>NaN</td>\n",
              "      <td>NaN</td>\n",
              "      <td>NaN</td>\n",
              "      <td>NaN</td>\n",
              "      <td>NaN</td>\n",
              "      <td>NaN</td>\n",
              "      <td>NaN</td>\n",
              "      <td>NaN</td>\n",
              "      <td>NaN</td>\n",
              "      <td>NaN</td>\n",
              "      <td>NaN</td>\n",
              "      <td>NaN</td>\n",
              "      <td>NaN</td>\n",
              "      <td>NaN</td>\n",
              "      <td>NaN</td>\n",
              "    </tr>\n",
              "    <tr>\n",
              "      <th>4</th>\n",
              "      <td>mineral water</td>\n",
              "      <td>milk</td>\n",
              "      <td>energy bar</td>\n",
              "      <td>whole wheat rice</td>\n",
              "      <td>green tea</td>\n",
              "      <td>NaN</td>\n",
              "      <td>NaN</td>\n",
              "      <td>NaN</td>\n",
              "      <td>NaN</td>\n",
              "      <td>NaN</td>\n",
              "      <td>NaN</td>\n",
              "      <td>NaN</td>\n",
              "      <td>NaN</td>\n",
              "      <td>NaN</td>\n",
              "      <td>NaN</td>\n",
              "      <td>NaN</td>\n",
              "      <td>NaN</td>\n",
              "      <td>NaN</td>\n",
              "      <td>NaN</td>\n",
              "      <td>NaN</td>\n",
              "    </tr>\n",
              "  </tbody>\n",
              "</table>\n",
              "</div>\n",
              "      <button class=\"colab-df-convert\" onclick=\"convertToInteractive('df-04f2cec3-c886-494f-84e9-a5aeecd8f114')\"\n",
              "              title=\"Convert this dataframe to an interactive table.\"\n",
              "              style=\"display:none;\">\n",
              "        \n",
              "  <svg xmlns=\"http://www.w3.org/2000/svg\" height=\"24px\"viewBox=\"0 0 24 24\"\n",
              "       width=\"24px\">\n",
              "    <path d=\"M0 0h24v24H0V0z\" fill=\"none\"/>\n",
              "    <path d=\"M18.56 5.44l.94 2.06.94-2.06 2.06-.94-2.06-.94-.94-2.06-.94 2.06-2.06.94zm-11 1L8.5 8.5l.94-2.06 2.06-.94-2.06-.94L8.5 2.5l-.94 2.06-2.06.94zm10 10l.94 2.06.94-2.06 2.06-.94-2.06-.94-.94-2.06-.94 2.06-2.06.94z\"/><path d=\"M17.41 7.96l-1.37-1.37c-.4-.4-.92-.59-1.43-.59-.52 0-1.04.2-1.43.59L10.3 9.45l-7.72 7.72c-.78.78-.78 2.05 0 2.83L4 21.41c.39.39.9.59 1.41.59.51 0 1.02-.2 1.41-.59l7.78-7.78 2.81-2.81c.8-.78.8-2.07 0-2.86zM5.41 20L4 18.59l7.72-7.72 1.47 1.35L5.41 20z\"/>\n",
              "  </svg>\n",
              "      </button>\n",
              "      \n",
              "  <style>\n",
              "    .colab-df-container {\n",
              "      display:flex;\n",
              "      flex-wrap:wrap;\n",
              "      gap: 12px;\n",
              "    }\n",
              "\n",
              "    .colab-df-convert {\n",
              "      background-color: #E8F0FE;\n",
              "      border: none;\n",
              "      border-radius: 50%;\n",
              "      cursor: pointer;\n",
              "      display: none;\n",
              "      fill: #1967D2;\n",
              "      height: 32px;\n",
              "      padding: 0 0 0 0;\n",
              "      width: 32px;\n",
              "    }\n",
              "\n",
              "    .colab-df-convert:hover {\n",
              "      background-color: #E2EBFA;\n",
              "      box-shadow: 0px 1px 2px rgba(60, 64, 67, 0.3), 0px 1px 3px 1px rgba(60, 64, 67, 0.15);\n",
              "      fill: #174EA6;\n",
              "    }\n",
              "\n",
              "    [theme=dark] .colab-df-convert {\n",
              "      background-color: #3B4455;\n",
              "      fill: #D2E3FC;\n",
              "    }\n",
              "\n",
              "    [theme=dark] .colab-df-convert:hover {\n",
              "      background-color: #434B5C;\n",
              "      box-shadow: 0px 1px 3px 1px rgba(0, 0, 0, 0.15);\n",
              "      filter: drop-shadow(0px 1px 2px rgba(0, 0, 0, 0.3));\n",
              "      fill: #FFFFFF;\n",
              "    }\n",
              "  </style>\n",
              "\n",
              "      <script>\n",
              "        const buttonEl =\n",
              "          document.querySelector('#df-04f2cec3-c886-494f-84e9-a5aeecd8f114 button.colab-df-convert');\n",
              "        buttonEl.style.display =\n",
              "          google.colab.kernel.accessAllowed ? 'block' : 'none';\n",
              "\n",
              "        async function convertToInteractive(key) {\n",
              "          const element = document.querySelector('#df-04f2cec3-c886-494f-84e9-a5aeecd8f114');\n",
              "          const dataTable =\n",
              "            await google.colab.kernel.invokeFunction('convertToInteractive',\n",
              "                                                     [key], {});\n",
              "          if (!dataTable) return;\n",
              "\n",
              "          const docLinkHtml = 'Like what you see? Visit the ' +\n",
              "            '<a target=\"_blank\" href=https://colab.research.google.com/notebooks/data_table.ipynb>data table notebook</a>'\n",
              "            + ' to learn more about interactive tables.';\n",
              "          element.innerHTML = '';\n",
              "          dataTable['output_type'] = 'display_data';\n",
              "          await google.colab.output.renderOutput(dataTable, element);\n",
              "          const docLink = document.createElement('div');\n",
              "          docLink.innerHTML = docLinkHtml;\n",
              "          element.appendChild(docLink);\n",
              "        }\n",
              "      </script>\n",
              "    </div>\n",
              "  </div>\n",
              "  "
            ]
          },
          "metadata": {},
          "execution_count": 5
        }
      ],
      "source": [
        "store_data.head()"
      ]
    },
    {
      "cell_type": "code",
      "execution_count": 6,
      "id": "15a60937",
      "metadata": {
        "colab": {
          "base_uri": "https://localhost:8080/"
        },
        "id": "15a60937",
        "outputId": "f91075c5-4029-47c9-f69f-39fbe2ffd0ac"
      },
      "outputs": [
        {
          "output_type": "execute_result",
          "data": {
            "text/plain": [
              "(7501, 20)"
            ]
          },
          "metadata": {},
          "execution_count": 6
        }
      ],
      "source": [
        "store_data.shape"
      ]
    },
    {
      "cell_type": "code",
      "execution_count": 7,
      "id": "9992ebe4",
      "metadata": {
        "id": "9992ebe4"
      },
      "outputs": [],
      "source": [
        "# Converting the dataset into list of lists since apriori works with list of lists only\n",
        "\n",
        "records = []\n",
        "\n",
        "for i in range(0,7501):\n",
        "    records.append([str(store_data.values[i,j]) for j in range(0,20)])"
      ]
    },
    {
      "cell_type": "code",
      "execution_count": 8,
      "id": "f0ef587b",
      "metadata": {
        "colab": {
          "base_uri": "https://localhost:8080/"
        },
        "id": "f0ef587b",
        "outputId": "ae351d65-e2f2-409c-b25f-32807b24596f"
      },
      "outputs": [
        {
          "output_type": "execute_result",
          "data": {
            "text/plain": [
              "['burgers',\n",
              " 'meatballs',\n",
              " 'eggs',\n",
              " 'nan',\n",
              " 'nan',\n",
              " 'nan',\n",
              " 'nan',\n",
              " 'nan',\n",
              " 'nan',\n",
              " 'nan',\n",
              " 'nan',\n",
              " 'nan',\n",
              " 'nan',\n",
              " 'nan',\n",
              " 'nan',\n",
              " 'nan',\n",
              " 'nan',\n",
              " 'nan',\n",
              " 'nan',\n",
              " 'nan']"
            ]
          },
          "metadata": {},
          "execution_count": 8
        }
      ],
      "source": [
        "records[1]"
      ]
    },
    {
      "cell_type": "markdown",
      "source": [
        "transaction in which the bread was purchased / total transactions"
      ],
      "metadata": {
        "id": "329Y90GtlcK1"
      },
      "id": "329Y90GtlcK1"
    },
    {
      "cell_type": "code",
      "execution_count": 11,
      "id": "260680e9",
      "metadata": {
        "id": "260680e9"
      },
      "outputs": [],
      "source": [
        "# Building the first apriori model\n",
        "association_rules = apriori(records, min_support=0.0045, min_confidence=0.2, min_lift=3, min_length=2)\n",
        "association_results = list(association_rules)"
      ]
    },
    {
      "cell_type": "code",
      "execution_count": 12,
      "id": "16077e95",
      "metadata": {
        "colab": {
          "base_uri": "https://localhost:8080/"
        },
        "id": "16077e95",
        "outputId": "f787285c-494a-4158-a951-49dc6dbfcc35"
      },
      "outputs": [
        {
          "output_type": "stream",
          "name": "stdout",
          "text": [
            "48\n"
          ]
        }
      ],
      "source": [
        "print(len(association_results))"
      ]
    },
    {
      "cell_type": "code",
      "execution_count": 13,
      "id": "f869e19c",
      "metadata": {
        "colab": {
          "base_uri": "https://localhost:8080/"
        },
        "id": "f869e19c",
        "outputId": "58c4e22b-05a0-433c-aa33-c59d3197727f"
      },
      "outputs": [
        {
          "output_type": "stream",
          "name": "stdout",
          "text": [
            "RelationRecord(items=frozenset({'chicken', 'light cream'}), support=0.004532728969470737, ordered_statistics=[OrderedStatistic(items_base=frozenset({'light cream'}), items_add=frozenset({'chicken'}), confidence=0.29059829059829057, lift=4.84395061728395)])\n"
          ]
        }
      ],
      "source": [
        "# Glance at the first rule\n",
        "print(association_results[0])"
      ]
    },
    {
      "cell_type": "markdown",
      "source": [
        "It shows that 'chicken' and 'light cream' are frequently bought together in the dataset. The rule applies to only 0.45% of the transactions and has a confidence of 0.29, meaning that when a customer buys 'light cream', there is a 29% chance that they will also buy 'chicken'. The lift of the rule is 4.84, indicating that customers who buy both 'chicken' and 'light cream' are 4.84 times more likely to buy them together than customers who buy only one of these items."
      ],
      "metadata": {
        "id": "8zrxPsj86XxN"
      },
      "id": "8zrxPsj86XxN"
    },
    {
      "cell_type": "code",
      "execution_count": 14,
      "id": "ef974934",
      "metadata": {
        "colab": {
          "base_uri": "https://localhost:8080/"
        },
        "id": "ef974934",
        "outputId": "2d07fac3-093b-4499-a032-b9c47df9c97f"
      },
      "outputs": [
        {
          "output_type": "stream",
          "name": "stdout",
          "text": [
            "RelationRecord(items=frozenset({'escalope', 'mushroom cream sauce'}), support=0.005732568990801226, ordered_statistics=[OrderedStatistic(items_base=frozenset({'mushroom cream sauce'}), items_add=frozenset({'escalope'}), confidence=0.3006993006993007, lift=3.790832696715049)])\n"
          ]
        }
      ],
      "source": [
        "print(association_results[1])"
      ]
    },
    {
      "cell_type": "markdown",
      "source": [
        "It shows that 'escalope' and 'mushroom cream sauce' are frequently bought together in the dataset. The rule applies to only 0.57% of the transactions and has a confidence of 0.30, meaning that when a customer buys 'mushroom cream sauce', there is a 30% chance that they will also buy 'escalope'. The lift of the rule is 3.79, indicating that customers who buy both 'escalope' and 'mushroom cream sauce' are 3.79 times more likely to buy them together than customers who buy only one of these items."
      ],
      "metadata": {
        "id": "eU4sjmzU6lXl"
      },
      "id": "eU4sjmzU6lXl"
    },
    {
      "cell_type": "code",
      "execution_count": 16,
      "id": "05356294",
      "metadata": {
        "id": "05356294"
      },
      "outputs": [],
      "source": [
        "# Building the second apriori model\n",
        "association_rules = apriori(records, min_support=0.010, min_confidence=0.5, min_lift=2)\n",
        "association_results = list(association_rules)"
      ]
    },
    {
      "cell_type": "code",
      "execution_count": 18,
      "id": "b6d70799",
      "metadata": {
        "colab": {
          "base_uri": "https://localhost:8080/"
        },
        "id": "b6d70799",
        "outputId": "e1dfc370-5726-44b9-e7a3-8f91e08012e2"
      },
      "outputs": [
        {
          "output_type": "stream",
          "name": "stdout",
          "text": [
            "4\n"
          ]
        }
      ],
      "source": [
        "print(len(association_results))"
      ]
    },
    {
      "cell_type": "code",
      "execution_count": 19,
      "id": "5f3cf26d",
      "metadata": {
        "colab": {
          "base_uri": "https://localhost:8080/"
        },
        "id": "5f3cf26d",
        "outputId": "dece31cf-811e-4775-cfc8-2a6708201956"
      },
      "outputs": [
        {
          "output_type": "stream",
          "name": "stdout",
          "text": [
            "RelationRecord(items=frozenset({'eggs', 'mineral water', 'ground beef'}), support=0.010131982402346354, ordered_statistics=[OrderedStatistic(items_base=frozenset({'eggs', 'ground beef'}), items_add=frozenset({'mineral water'}), confidence=0.5066666666666667, lift=2.125563012677107)])\n"
          ]
        }
      ],
      "source": [
        "print(association_results[0])"
      ]
    },
    {
      "cell_type": "markdown",
      "source": [
        "It shows that 'eggs', 'mineral water', and 'ground beef' are frequently bought together in the dataset. The rule applies to only 1.01% of the transactions and has a confidence of 0.51, meaning that when a customer buys both 'eggs' and 'ground beef', there is a 51% chance that they will also buy 'mineral water'. The lift of the rule is 2.13, indicating that customers who buy all three items together are 2.13 times more likely to buy them together than customers who buy only two of these items."
      ],
      "metadata": {
        "id": "ULq-yWNK6uFP"
      },
      "id": "ULq-yWNK6uFP"
    },
    {
      "cell_type": "code",
      "execution_count": 20,
      "id": "4eb1ac53",
      "metadata": {
        "colab": {
          "base_uri": "https://localhost:8080/"
        },
        "id": "4eb1ac53",
        "outputId": "00bec3b8-a4d1-45ab-faac-0915e1802713"
      },
      "outputs": [
        {
          "output_type": "stream",
          "name": "stdout",
          "text": [
            "RelationRecord(items=frozenset({'milk', 'mineral water', 'ground beef'}), support=0.011065191307825623, ordered_statistics=[OrderedStatistic(items_base=frozenset({'milk', 'ground beef'}), items_add=frozenset({'mineral water'}), confidence=0.503030303030303, lift=2.1103077757440176)])\n"
          ]
        }
      ],
      "source": [
        "print(association_results[1])"
      ]
    },
    {
      "cell_type": "markdown",
      "source": [
        "It shows that 'milk', 'mineral water', and 'ground beef' are frequently bought together in the dataset. The rule applies to only 1.11% of the transactions and has a confidence of 0.50, meaning that when a customer buys both 'milk' and 'ground beef', there is a 50% chance that they will also buy 'mineral water'. The lift of the rule is 2.11, indicating that customers who buy all three items together are 2.11 times more likely to buy them together than customers who buy only two of these items."
      ],
      "metadata": {
        "id": "snqCKb9V624g"
      },
      "id": "snqCKb9V624g"
    },
    {
      "cell_type": "code",
      "source": [],
      "metadata": {
        "id": "Ihtr9M-rmSPt"
      },
      "id": "Ihtr9M-rmSPt",
      "execution_count": null,
      "outputs": []
    }
  ],
  "metadata": {
    "kernelspec": {
      "display_name": "Python 3",
      "language": "python",
      "name": "python3"
    },
    "language_info": {
      "codemirror_mode": {
        "name": "ipython",
        "version": 3
      },
      "file_extension": ".py",
      "mimetype": "text/x-python",
      "name": "python",
      "nbconvert_exporter": "python",
      "pygments_lexer": "ipython3",
      "version": "3.8.8"
    },
    "colab": {
      "provenance": []
    }
  },
  "nbformat": 4,
  "nbformat_minor": 5
}
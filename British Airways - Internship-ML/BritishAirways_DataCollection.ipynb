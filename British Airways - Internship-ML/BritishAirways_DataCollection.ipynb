{
  "cells": [
    {
      "cell_type": "markdown",
      "id": "8d47a312-9fd2-44a8-b43e-aaaddaf670c4",
      "metadata": {
        "id": "8d47a312-9fd2-44a8-b43e-aaaddaf670c4"
      },
      "source": [
        "# Task 1\n",
        "\n",
        "---\n",
        "\n",
        "## Web scraping and analysis\n",
        "\n",
        "This Jupyter notebook includes code to get started with web scraping. We will use a package called `BeautifulSoup` to collect the data from the web. Once we've collected our data and saved it into a local `.csv` file we can start with our analysis.\n",
        "\n",
        "### Scraping data from Skytrax\n",
        "\n",
        "If we visit [https://www.airlinequality.com] we can see that there is a lot of data there. For this task, we are only interested in reviews related to British Airways and the Airline itself.\n",
        "\n",
        "If we navigate to this link: [https://www.airlinequality.com/airline-reviews/british-airways] we will see this data. Now, we can use `Python` and `BeautifulSoup` to collect all the links to the reviews and then to collect the text data on each of the individual review links.\n",
        "\n",
        "We will also collect data about seat ratings and lounge experience ratings from this website."
      ]
    },
    {
      "cell_type": "code",
      "execution_count": 1,
      "id": "5f43dc5f-ffc2-4ba0-8a73-3b70e9ab0fcf",
      "metadata": {
        "id": "5f43dc5f-ffc2-4ba0-8a73-3b70e9ab0fcf"
      },
      "outputs": [],
      "source": [
        "# import necessary libraries\n",
        "\n",
        "import pandas as pd\n",
        "import numpy as np\n",
        "from bs4 import BeautifulSoup\n",
        "import requests\n",
        "import re"
      ]
    },
    {
      "cell_type": "code",
      "source": [
        "reviews = []\n",
        "stars = []\n",
        "dates = []\n",
        "countries = []\n",
        "\n",
        "# Loop through 365 pages (10 reviews per page)\n",
        "for i in range(1, 366):\n",
        "    page = requests.get(f\"https://www.airlinequality.com/airline-reviews/british-airways/page/{i}/\")\n",
        "\n",
        "    soup = BeautifulSoup(page.content, \"html.parser\")\n",
        "\n",
        "    for item in soup.find_all(\"div\", class_=\"text_content\"):\n",
        "        reviews.append(item.text)\n",
        "\n",
        "    for item in soup.find_all(\"div\", class_ = \"rating-10\"):\n",
        "        try:\n",
        "            stars.append(item.span.text)\n",
        "        except:\n",
        "            print(f\"Error on page {i}\")\n",
        "            stars.append(\"None\")\n",
        "\n",
        "    # Extract date and country information\n",
        "    for item in soup.find_all(\"time\"):\n",
        "        dates.append(item.text)\n",
        "\n",
        "    for item in soup.find_all(\"h3\"):\n",
        "        country_text = item.span.next_sibling.text.strip(\" ()\")\n",
        "        countries.append(country_text)"
      ],
      "metadata": {
        "colab": {
          "base_uri": "https://localhost:8080/"
        },
        "id": "dTDyqSmJMD_O",
        "outputId": "27877881-5f26-45ac-8a52-f62c4f38e956"
      },
      "id": "dTDyqSmJMD_O",
      "execution_count": 2,
      "outputs": [
        {
          "output_type": "stream",
          "name": "stdout",
          "text": [
            "Error on page 307\n",
            "Error on page 308\n",
            "Error on page 320\n",
            "Error on page 346\n",
            "Error on page 349\n"
          ]
        }
      ]
    },
    {
      "cell_type": "code",
      "source": [
        "# Check length of the extracted columns\n",
        "print(f\"Length of reviews: {len(reviews)}\")\n",
        "print(f\"Length of countries: {len(countries)}\")\n",
        "print(f\"Length of stars: {len(stars)}\")\n",
        "print(f\"Length of dates: {len(dates)}\")"
      ],
      "metadata": {
        "colab": {
          "base_uri": "https://localhost:8080/"
        },
        "id": "8J44foQQN3Ea",
        "outputId": "24b51947-32eb-4a6b-98fa-5229dd643ac7"
      },
      "id": "8J44foQQN3Ea",
      "execution_count": 3,
      "outputs": [
        {
          "output_type": "stream",
          "name": "stdout",
          "text": [
            "Length of reviews: 3644\n",
            "Length of countries: 3644\n",
            "Length of stars: 4009\n",
            "Length of dates: 3644\n"
          ]
        }
      ]
    },
    {
      "cell_type": "code",
      "source": [
        "# Trim the stars list to match the length of the other lists\n",
        "stars = stars[:3644]"
      ],
      "metadata": {
        "id": "npNT5T_yVi98"
      },
      "id": "npNT5T_yVi98",
      "execution_count": 4,
      "outputs": []
    },
    {
      "cell_type": "code",
      "source": [
        "# #create  a dataframe from these collected lists of data. First, create a dictionary from the lists\n",
        "data = {\n",
        "    'Review': reviews,\n",
        "    'Stars': stars,\n",
        "    'countries': countries,\n",
        "    'Date': dates\n",
        "}\n",
        "\n",
        "# Create a DataFrame\n",
        "df = pd.DataFrame(data)\n",
        "\n",
        "# Print the DataFrame\n",
        "print(df)"
      ],
      "metadata": {
        "colab": {
          "base_uri": "https://localhost:8080/"
        },
        "id": "tDplWyDJH7jo",
        "outputId": "87db6ac2-61c8-48be-cd15-6107592e946e"
      },
      "id": "tDplWyDJH7jo",
      "execution_count": 5,
      "outputs": [
        {
          "output_type": "stream",
          "name": "stdout",
          "text": [
            "                                                 Review  \\\n",
            "0     ✅ Trip Verified |  4/4 flights we booked this ...   \n",
            "1     ✅ Trip Verified |  British Airways has a total...   \n",
            "2     ✅ Trip Verified | London Heathrow to Keflavik,...   \n",
            "3     ✅ Trip Verified | Mumbai to London Heathrow in...   \n",
            "4     ✅ Trip Verified |  Care and support shocking. ...   \n",
            "...                                                 ...   \n",
            "3639  This was a bmi Regional operated flight on a R...   \n",
            "3640  LHR to HAM. Purser addresses all club passenge...   \n",
            "3641  My son who had worked for British Airways urge...   \n",
            "3642  London City-New York JFK via Shannon on A318 b...   \n",
            "3643  SIN-LHR BA12 B747-436 First Class. Old aircraf...   \n",
            "\n",
            "                              Stars       countries                Date  \n",
            "0     \\n\\t\\t\\t\\t\\t\\t\\t\\t\\t\\t\\t\\t\\t5         Germany  6th September 2023  \n",
            "1                                 1  United Kingdom  4th September 2023  \n",
            "2                                 1         Iceland  4th September 2023  \n",
            "3                                 8         Iceland  4th September 2023  \n",
            "4                                 8  United Kingdom  4th September 2023  \n",
            "...                             ...             ...                 ...  \n",
            "3639                              8  United Kingdom    29th August 2012  \n",
            "3640                              2  United Kingdom    28th August 2012  \n",
            "3641  \\n\\t\\t\\t\\t\\t\\t\\t\\t\\t\\t\\t\\t\\t5  United Kingdom   12th October 2011  \n",
            "3642                              5   United States   11th October 2011  \n",
            "3643                              2  United Kingdom    9th October 2011  \n",
            "\n",
            "[3644 rows x 4 columns]\n"
          ]
        }
      ]
    },
    {
      "cell_type": "code",
      "execution_count": 6,
      "id": "c6532f95-e13b-4fb9-83f3-300c35c20cf6",
      "metadata": {
        "colab": {
          "base_uri": "https://localhost:8080/"
        },
        "id": "c6532f95-e13b-4fb9-83f3-300c35c20cf6",
        "outputId": "878c702f-4197-47d4-cbc5-d9f71b137119"
      },
      "outputs": [
        {
          "output_type": "stream",
          "name": "stdout",
          "text": [
            "First few rows of the DataFrame:\n",
            "                                              Review  \\\n",
            "0  ✅ Trip Verified |  4/4 flights we booked this ...   \n",
            "1  ✅ Trip Verified |  British Airways has a total...   \n",
            "2  ✅ Trip Verified | London Heathrow to Keflavik,...   \n",
            "3  ✅ Trip Verified | Mumbai to London Heathrow in...   \n",
            "4  ✅ Trip Verified |  Care and support shocking. ...   \n",
            "\n",
            "                           Stars       countries                Date  \n",
            "0  \\n\\t\\t\\t\\t\\t\\t\\t\\t\\t\\t\\t\\t\\t5         Germany  6th September 2023  \n",
            "1                              1  United Kingdom  4th September 2023  \n",
            "2                              1         Iceland  4th September 2023  \n",
            "3                              8         Iceland  4th September 2023  \n",
            "4                              8  United Kingdom  4th September 2023  \n"
          ]
        }
      ],
      "source": [
        "# Display the first few rows of the DataFrame (default is the first 5 rows)\n",
        "print(\"First few rows of the DataFrame:\")\n",
        "print(df.head())"
      ]
    },
    {
      "cell_type": "code",
      "execution_count": 7,
      "id": "366096e8-d1f2-4033-a831-5447e52861c2",
      "metadata": {
        "colab": {
          "base_uri": "https://localhost:8080/"
        },
        "id": "366096e8-d1f2-4033-a831-5447e52861c2",
        "outputId": "15a74886-dead-4a75-cd87-8c9c2219d032"
      },
      "outputs": [
        {
          "output_type": "stream",
          "name": "stdout",
          "text": [
            "\n",
            "Shape of the DataFrame:\n",
            "(3644, 4)\n"
          ]
        }
      ],
      "source": [
        "# Display the shape of the DataFrame (number of rows, number of columns)\n",
        "print(\"\\nShape of the DataFrame:\")\n",
        "print(df.shape)"
      ]
    },
    {
      "cell_type": "markdown",
      "id": "fc219e55-fdc8-4b10-a3e9-8dda764ee275",
      "metadata": {
        "id": "fc219e55-fdc8-4b10-a3e9-8dda764ee275"
      },
      "source": [
        "### Export the data into a csv format"
      ]
    },
    {
      "cell_type": "code",
      "execution_count": 8,
      "id": "b286e642-59a2-4da3-9120-e9db119ebea6",
      "metadata": {
        "id": "b286e642-59a2-4da3-9120-e9db119ebea6"
      },
      "outputs": [],
      "source": [
        "# Export the DataFrame to a CSV file\n",
        "df.to_csv('BA_reviews.csv', index=False)"
      ]
    }
  ],
  "metadata": {
    "kernelspec": {
      "display_name": "Python 3 (ipykernel)",
      "language": "python",
      "name": "python3"
    },
    "language_info": {
      "codemirror_mode": {
        "name": "ipython",
        "version": 3
      },
      "file_extension": ".py",
      "mimetype": "text/x-python",
      "name": "python",
      "nbconvert_exporter": "python",
      "pygments_lexer": "ipython3",
      "version": "3.9.7"
    },
    "colab": {
      "provenance": []
    }
  },
  "nbformat": 4,
  "nbformat_minor": 5
}
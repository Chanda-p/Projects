{
  "nbformat": 4,
  "nbformat_minor": 0,
  "metadata": {
    "colab": {
      "provenance": []
    },
    "kernelspec": {
      "name": "python3",
      "display_name": "Python 3"
    },
    "language_info": {
      "name": "python"
    }
  },
  "cells": [
    {
      "cell_type": "markdown",
      "source": [
        "# Task 2 - Predict customer buying behaviour"
      ],
      "metadata": {
        "id": "_prEVJqDc8yH"
      }
    },
    {
      "cell_type": "code",
      "source": [
        "%matplotlib inline\n",
        "import pandas as pd\n",
        "import numpy as np\n",
        "import matplotlib.pyplot as plt\n",
        "import seaborn as sns\n",
        "from sklearn.feature_selection import mutual_info_classif\n",
        "from sklearn.model_selection import train_test_split\n",
        "from sklearn.preprocessing import MinMaxScaler\n",
        "from sklearn.ensemble import RandomForestClassifier\n",
        "from sklearn.metrics import roc_auc_score, accuracy_score\n",
        "\n",
        "# Disable warnings\n",
        "import warnings\n",
        "warnings.filterwarnings(\"ignore\")"
      ],
      "metadata": {
        "id": "w76WjYuLCFY8"
      },
      "execution_count": 1,
      "outputs": []
    },
    {
      "cell_type": "code",
      "source": [
        "# Load data with encoding detection\n",
        "data = 'customer_booking.csv'\n",
        "import chardet\n",
        "with open(data, 'rb') as rawdata:\n",
        "    result = chardet.detect(rawdata.read(100000))\n",
        "print(result)"
      ],
      "metadata": {
        "colab": {
          "base_uri": "https://localhost:8080/"
        },
        "id": "gW7DxOe_CHEN",
        "outputId": "ea04fee6-4f58-40e8-d1bb-5f6f7f900f76"
      },
      "execution_count": 3,
      "outputs": [
        {
          "output_type": "stream",
          "name": "stdout",
          "text": [
            "{'encoding': 'ISO-8859-1', 'confidence': 0.73, 'language': ''}\n"
          ]
        }
      ]
    },
    {
      "cell_type": "code",
      "source": [
        "# Load data into DataFrame\n",
        "df = pd.read_csv(data, encoding=result['encoding'])"
      ],
      "metadata": {
        "id": "t2NUUmjcCG_2"
      },
      "execution_count": 4,
      "outputs": []
    },
    {
      "cell_type": "code",
      "source": [
        "# Exploratory Data Analysis\n",
        "# Check data types\n",
        "print(df.dtypes)"
      ],
      "metadata": {
        "colab": {
          "base_uri": "https://localhost:8080/"
        },
        "id": "0uJbK9WWCW-Y",
        "outputId": "d4a4c410-7b4c-42bd-9344-053da89c6cfa"
      },
      "execution_count": 5,
      "outputs": [
        {
          "output_type": "stream",
          "name": "stdout",
          "text": [
            "num_passengers             int64\n",
            "sales_channel             object\n",
            "trip_type                 object\n",
            "purchase_lead              int64\n",
            "length_of_stay             int64\n",
            "flight_hour                int64\n",
            "flight_day                object\n",
            "route                     object\n",
            "booking_origin            object\n",
            "wants_extra_baggage        int64\n",
            "wants_preferred_seat       int64\n",
            "wants_in_flight_meals      int64\n",
            "flight_duration          float64\n",
            "booking_complete           int64\n",
            "dtype: object\n"
          ]
        }
      ]
    },
    {
      "cell_type": "code",
      "source": [
        "# Check data shape\n",
        "print(df.shape)"
      ],
      "metadata": {
        "colab": {
          "base_uri": "https://localhost:8080/"
        },
        "id": "g_tHENCYCG72",
        "outputId": "c8b6f8a5-cd9a-417f-cc28-7b55826f68c8"
      },
      "execution_count": 6,
      "outputs": [
        {
          "output_type": "stream",
          "name": "stdout",
          "text": [
            "(50000, 14)\n"
          ]
        }
      ]
    },
    {
      "cell_type": "code",
      "source": [
        "# Check for null values\n",
        "print(df.isnull().sum())"
      ],
      "metadata": {
        "colab": {
          "base_uri": "https://localhost:8080/"
        },
        "id": "wefl6zuoCG30",
        "outputId": "50d35398-7890-44ea-c43a-6468f0dd53df"
      },
      "execution_count": 7,
      "outputs": [
        {
          "output_type": "stream",
          "name": "stdout",
          "text": [
            "num_passengers           0\n",
            "sales_channel            0\n",
            "trip_type                0\n",
            "purchase_lead            0\n",
            "length_of_stay           0\n",
            "flight_hour              0\n",
            "flight_day               0\n",
            "route                    0\n",
            "booking_origin           0\n",
            "wants_extra_baggage      0\n",
            "wants_preferred_seat     0\n",
            "wants_in_flight_meals    0\n",
            "flight_duration          0\n",
            "booking_complete         0\n",
            "dtype: int64\n"
          ]
        }
      ]
    },
    {
      "cell_type": "code",
      "source": [
        "# Count the distribution of the target variable\n",
        "print(df.booking_complete.value_counts())"
      ],
      "metadata": {
        "colab": {
          "base_uri": "https://localhost:8080/"
        },
        "id": "TFBHzBanCken",
        "outputId": "49e79c07-0182-487e-8b2c-f212d082143a"
      },
      "execution_count": 8,
      "outputs": [
        {
          "output_type": "stream",
          "name": "stdout",
          "text": [
            "0    42522\n",
            "1     7478\n",
            "Name: booking_complete, dtype: int64\n"
          ]
        }
      ]
    },
    {
      "cell_type": "code",
      "source": [
        "# Mutual Information\n",
        "X = df.drop('booking_complete', axis=1)\n",
        "y = df.booking_complete"
      ],
      "metadata": {
        "id": "iojNNzB3Ckbs"
      },
      "execution_count": 9,
      "outputs": []
    },
    {
      "cell_type": "code",
      "source": [
        "# Convert object data types to integers\n",
        "for colname in X.select_dtypes(\"object\"):\n",
        "    X[colname], _ = X[colname].factorize()"
      ],
      "metadata": {
        "id": "Tv-MgdRoCkZf"
      },
      "execution_count": 10,
      "outputs": []
    },
    {
      "cell_type": "code",
      "source": [
        "# Calculate Mutual Information scores\n",
        "mi_scores = mutual_info_classif(X, y)\n",
        "mi_scores = pd.Series(mi_scores, name=\"MI Scores\", index=X.columns)\n",
        "mi_scores = mi_scores.sort_values(ascending=False)\n",
        "print(mi_scores)"
      ],
      "metadata": {
        "colab": {
          "base_uri": "https://localhost:8080/"
        },
        "id": "v5j0wMUlCkVr",
        "outputId": "c73e5887-9996-4911-dd90-7976fa30a488"
      },
      "execution_count": 11,
      "outputs": [
        {
          "output_type": "stream",
          "name": "stdout",
          "text": [
            "route                    0.054303\n",
            "booking_origin           0.049472\n",
            "flight_duration          0.015375\n",
            "wants_extra_baggage      0.011700\n",
            "length_of_stay           0.007568\n",
            "wants_in_flight_meals    0.004045\n",
            "purchase_lead            0.003881\n",
            "num_passengers           0.002209\n",
            "wants_preferred_seat     0.001658\n",
            "flight_hour              0.001629\n",
            "flight_day               0.000067\n",
            "sales_channel            0.000000\n",
            "trip_type                0.000000\n",
            "Name: MI Scores, dtype: float64\n"
          ]
        }
      ]
    },
    {
      "cell_type": "code",
      "source": [
        "# Plot Mutual Information scores\n",
        "def plot_mi_scores(scores):\n",
        "    scores = scores.sort_values(ascending=True)\n",
        "    width = np.arange(len(scores))\n",
        "    ticks = list(scores.index)\n",
        "    plt.figure(dpi=100, figsize=(8, 5))\n",
        "    plt.barh(width, scores)\n",
        "    plt.yticks(width, ticks)\n",
        "    plt.title(\"Mutual Information Scores\")\n",
        "\n",
        "plot_mi_scores(mi_scores)"
      ],
      "metadata": {
        "colab": {
          "base_uri": "https://localhost:8080/",
          "height": 468
        },
        "id": "hbBqzxDvCkSd",
        "outputId": "b56c9f3c-258a-464c-a766-8ea5e97816a5"
      },
      "execution_count": 12,
      "outputs": [
        {
          "output_type": "display_data",
          "data": {
            "text/plain": [
              "<Figure size 800x500 with 1 Axes>"
            ],
            "image/png": "[encoded data removed]"
          },
          "metadata": {}
        }
      ]
    },
    {
      "cell_type": "code",
      "source": [
        "# Test-train split function\n",
        "def dataset(X, y):\n",
        "    train_full_X, val_X, train_full_y, val_y = train_test_split(X, y, test_size=0.2, random_state=0)\n",
        "    train_X, test_X, train_y, test_y = train_test_split(train_full_X, train_full_y, test_size=0.25, random_state=0)\n",
        "    return (train_X, val_X, train_y, val_y)"
      ],
      "metadata": {
        "id": "_jlx-pF3CGy5"
      },
      "execution_count": 13,
      "outputs": []
    },
    {
      "cell_type": "code",
      "source": [
        "# Scaling function\n",
        "def scale(X):\n",
        "    scaler = MinMaxScaler()\n",
        "    scaler.fit(X)\n",
        "    return X"
      ],
      "metadata": {
        "id": "qmk7YkIgC402"
      },
      "execution_count": 14,
      "outputs": []
    },
    {
      "cell_type": "code",
      "source": [
        "# Model 1: Random Forest Classifier with Top 6 Features\n",
        "features = ['route', 'booking_origin', 'flight_duration', 'wants_extra_baggage', 'length_of_stay', 'num_passengers']\n",
        "X = df[features]\n",
        "X = pd.get_dummies(X, columns=features)\n",
        "X = scale(X)\n",
        "y = df.booking_complete\n",
        "X_train, X_val, y_train, y_val = dataset(X, y)\n",
        "forest_model = RandomForestClassifier(random_state=1)\n",
        "forest_model.fit(X_train, y_train)\n",
        "preds = forest_model.predict(X_val)\n",
        "print('Model 1 - ACCURACY: ', accuracy_score(y_val, preds) * 100)\n",
        "print('Model 1 - AUC score: ', roc_auc_score(y_val, preds))"
      ],
      "metadata": {
        "colab": {
          "base_uri": "https://localhost:8080/"
        },
        "id": "AtPQWCFvC4yG",
        "outputId": "d35a7545-34c8-4f14-973c-5c2fd4f55754"
      },
      "execution_count": 15,
      "outputs": [
        {
          "output_type": "stream",
          "name": "stdout",
          "text": [
            "Model 1 - ACCURACY:  83.36\n",
            "Model 1 - AUC score:  0.5657818407546988\n"
          ]
        }
      ]
    },
    {
      "cell_type": "code",
      "source": [
        "# Model 2: Random Forest Classifier with All Features\n",
        "X = df.drop('booking_complete', axis=1)\n",
        "X = pd.get_dummies(X)\n",
        "X = scale(X)\n",
        "y = df.booking_complete\n",
        "X_train, X_val, y_train, y_val = dataset(X, y)\n",
        "forest_model = RandomForestClassifier(random_state=1)\n",
        "forest_model.fit(X_train, y_train)\n",
        "preds = forest_model.predict(X_val)\n",
        "print('Model 2 - ACCURACY: ', accuracy_score(y_val, preds) * 100)\n",
        "print('Model 2 - AUC score: ', roc_auc_score(y_val, preds))"
      ],
      "metadata": {
        "colab": {
          "base_uri": "https://localhost:8080/"
        },
        "id": "txqJMV-HC4k2",
        "outputId": "9cec7801-55e0-4a71-93f5-a0993e121145"
      },
      "execution_count": 16,
      "outputs": [
        {
          "output_type": "stream",
          "name": "stdout",
          "text": [
            "Model 2 - ACCURACY:  84.76\n",
            "Model 2 - AUC score:  0.5479604084813514\n"
          ]
        }
      ]
    },
    {
      "cell_type": "code",
      "source": [
        "# Model 3: XGB Classifier with Top 6 Features\n",
        "from xgboost import XGBClassifier\n",
        "\n",
        "X = df[features]\n",
        "X = pd.get_dummies(X, columns=features)\n",
        "X = scale(X)\n",
        "y = df.booking_complete\n",
        "\n",
        "X_train, X_val, y_train, y_val = dataset(X, y)\n",
        "xgb_model = XGBClassifier()\n",
        "xgb_model.fit(X_train, y_train)\n",
        "prediction_xgb = xgb_model.predict(X_val)\n",
        "\n",
        "print('Model 3 - ACCURACY: ', accuracy_score(y_val, prediction_xgb) * 100)\n",
        "print('Model 3 - AUC score: ', roc_auc_score(y_val, prediction_xgb))"
      ],
      "metadata": {
        "colab": {
          "base_uri": "https://localhost:8080/"
        },
        "id": "h8ppxvhLDBRf",
        "outputId": "fd365c79-d90b-44cd-a934-c5f28ca5db04"
      },
      "execution_count": 17,
      "outputs": [
        {
          "output_type": "stream",
          "name": "stdout",
          "text": [
            "Model 3 - ACCURACY:  84.72\n",
            "Model 3 - AUC score:  0.5189398567740671\n"
          ]
        }
      ]
    },
    {
      "cell_type": "code",
      "source": [
        "# Model 4: XGB Classifier with All Features\n",
        "X = df.drop('booking_complete', axis=1)\n",
        "X = pd.get_dummies(X)\n",
        "X = scale(X)\n",
        "y = df.booking_complete\n",
        "\n",
        "X_train, X_val, y_train, y_val = dataset(X, y)\n",
        "\n",
        "xgb_model = XGBClassifier()\n",
        "xgb_model.fit(X_train, y_train)\n",
        "prediction_xgb = xgb_model.predict(X_val)\n",
        "\n",
        "print('Model 4 - ACCURACY: ', accuracy_score(y_val, prediction_xgb) * 100)\n",
        "print('Model 4 - AUC score: ', roc_auc_score(y_val, prediction_xgb))"
      ],
      "metadata": {
        "colab": {
          "base_uri": "https://localhost:8080/"
        },
        "id": "rJEtpuv7DBNI",
        "outputId": "b0c3a9ce-c2b0-42ab-cf3c-768857dfd650"
      },
      "execution_count": 18,
      "outputs": [
        {
          "output_type": "stream",
          "name": "stdout",
          "text": [
            "Model 4 - ACCURACY:  84.98\n",
            "Model 4 - AUC score:  0.5424676175552812\n"
          ]
        }
      ]
    },
    {
      "cell_type": "code",
      "source": [
        "# Finalizing the Random Forest model with all features as the final model\n",
        "# as it has good accuracy and a higher AUC score compared to other models\n",
        "\n",
        "# Validating with the test dataset\n",
        "X = df.drop('booking_complete', axis=1)\n",
        "X = pd.get_dummies(X)\n",
        "X = scale(X)\n",
        "y = df.booking_complete\n",
        "\n",
        "train_full_X, test_X, train_full_y, test_y = train_test_split(X, y, test_size=0.2, random_state=0)\n",
        "\n",
        "forest_model = RandomForestClassifier(random_state=1)\n",
        "forest_model.fit(train_full_X, train_full_y)\n",
        "preds = forest_model.predict(test_X)\n",
        "\n",
        "print('Final Model - ACCURACY: ', accuracy_score(test_y, preds) * 100)\n",
        "print('Final Model - AUC score: ', roc_auc_score(test_y, preds))"
      ],
      "metadata": {
        "colab": {
          "base_uri": "https://localhost:8080/"
        },
        "id": "YFjPLjBCDZLW",
        "outputId": "f0b24cfb-88c4-4090-f265-e66890e8b3c8"
      },
      "execution_count": 19,
      "outputs": [
        {
          "output_type": "stream",
          "name": "stdout",
          "text": [
            "Final Model - ACCURACY:  85.09\n",
            "Final Model - AUC score:  0.5577796717361984\n"
          ]
        }
      ]
    },
    {
      "cell_type": "markdown",
      "source": [
        "Model Comparison: Four different models were evaluated: Model 1, Model 2, Model 3, and Model 4. These models include both Random Forest and XGBoost classifiers, with variations in feature selection.\n",
        "\n",
        "Accuracy Comparison: The accuracy scores for all models are in the range of 83.36% to 85.09%. The Final Model, which is a Random Forest classifier with all features, achieves the highest accuracy at 85.09%.\n",
        "\n",
        "AUC Score Comparison: The AUC (Area Under the ROC Curve) scores, which measure the model's ability to distinguish between positive and negative cases, range from 0.5189 to 0.5658. Model 1 has the highest AUC score at 0.5658, but the Final Model also has a respectable AUC score of 0.5578.\n",
        "\n",
        "Final Model Selection: Considering both accuracy and AUC scores, the Final Model, which is a Random Forest classifier with all features, is selected as the best-performing model. It exhibits a slightly higher accuracy and a competitive AUC score, indicating its effectiveness in classifying booking completions."
      ],
      "metadata": {
        "id": "jYijyuJyEAE3"
      }
    },
    {
      "cell_type": "markdown",
      "source": [
        "For the task of preparing the dataset, training a machine learning model, evaluating its performance, and presenting findings, the following conclusion can be drawn:\n",
        "\n",
        "Data Preparation:\n",
        "\n",
        "The dataset was initially loaded and assessed for data types, shape, and the presence of missing values.\n",
        "No missing values were found in the dataset, ensuring data completeness.\n",
        "Categorical variables were transformed into numerical format using one-hot encoding.\n",
        "Feature scaling was performed using Min-Max scaling to ensure features were on the same scale.\n",
        "Mutual Information analysis was conducted to identify the most important features for model training.\n",
        "Model Training:\n",
        "\n",
        "Four machine learning models were trained and evaluated: Two Random Forest classifiers and two XGBoost classifiers.\n",
        "Model 2, a Random Forest classifier with all features, achieved the highest accuracy at 84.98% and a competitive AUC score of 0.5425.\n",
        "Model Evaluation:\n",
        "\n",
        "Cross-validation was used to assess model performance, and evaluation metrics, including accuracy and AUC, were computed.\n",
        "The Final Model, a Random Forest classifier with all features, exhibited the best balance between accuracy (85.09%) and AUC score (0.5578)."
      ],
      "metadata": {
        "id": "e5Ja3JQpFXi4"
      }
    }
  ]
}
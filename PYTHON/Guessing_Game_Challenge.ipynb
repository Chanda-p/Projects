{
  "cells": [
    {
      "cell_type": "markdown",
      "metadata": {
        "id": "85Dq18furbkV"
      },
      "source": [
        "# Guessing Game Challenge - Solution\n",
        "\n",
        "Let's use `while` loops to create a guessing game.\n",
        "\n",
        "The Challenge:\n",
        "\n",
        "Write a program that picks a random integer from 1 to 100, and has players guess the number. The rules are:\n",
        "\n",
        "1. If a player's guess is less than 1 or greater than 100, say \"OUT OF BOUNDS\"\n",
        "2. On a player's first turn, if their guess is\n",
        " * within 10 of the number, return \"WARM!\"\n",
        " * further than 10 away from the number, return \"COLD!\"\n",
        "3. On all subsequent turns, if a guess is \n",
        " * closer to the number than the previous guess return \"WARMER!\"\n",
        " * farther from the number than the previous guess, return \"COLDER!\"\n",
        "4. When the player's guess equals the number, tell them they've guessed correctly *and* how many guesses it took!\n"
      ]
    },
    {
      "cell_type": "markdown",
      "metadata": {
        "id": "NEcHn7T_rbkW"
      },
      "source": [
        "#### First, pick a random integer from 1 to 100 using the random module and assign it to a variable\n",
        "\n",
        "Note: `random.randint(a,b)` returns a random integer in range `[a, b]`, including both end points."
      ]
    },
    {
      "cell_type": "code",
      "execution_count": null,
      "metadata": {
        "collapsed": true,
        "id": "qblzNj2crbkX"
      },
      "outputs": [],
      "source": [
        "import random\n",
        "\n",
        "num = random.randint(1,100)"
      ]
    },
    {
      "cell_type": "markdown",
      "metadata": {
        "id": "k52Q5EfzrbkY"
      },
      "source": [
        "#### Next, print an introduction to the game and explain the rules"
      ]
    },
    {
      "cell_type": "code",
      "execution_count": 1,
      "metadata": {
        "colab": {
          "base_uri": "https://localhost:8080/"
        },
        "id": "Fb1Y-IxurbkZ",
        "outputId": "05199836-6e01-471f-da01-6ac901839dbe"
      },
      "outputs": [
        {
          "output_type": "stream",
          "name": "stdout",
          "text": [
            "WELCOME TO GUESS ME!\n",
            "I'm thinking of a number between 1 and 100\n",
            "If your guess is within 10 of my number, I'll tell you you're WARM\n",
            "If your guess is closer than your most recent guess, I'll say you're getting WARMER\n",
            "If your guess is more than 10 away from my number, I'll tell you you're COLD\n",
            "If your guess is farther than your most recent guess, I'll say you're getting COLDER\n",
            "LET'S PLAY!\n"
          ]
        }
      ],
      "source": [
        "print(\"WELCOME TO GUESS ME!\")\n",
        "print(\"I'm thinking of a number between 1 and 100\")\n",
        "print(\"If your guess is within 10 of my number, I'll tell you you're WARM\")\n",
        "print(\"If your guess is closer than your most recent guess, I'll say you're getting WARMER\")\n",
        "print(\"If your guess is more than 10 away from my number, I'll tell you you're COLD\")\n",
        "print(\"If your guess is farther than your most recent guess, I'll say you're getting COLDER\")\n",
        "print(\"LET'S PLAY!\")"
      ]
    },
    {
      "cell_type": "markdown",
      "metadata": {
        "id": "yKBAurcMrbkd"
      },
      "source": [
        "#### Create a list to store guesses\n",
        "\n",
        "Hint: zero is a good placeholder value. It's useful because it evaluates to \"False\""
      ]
    },
    {
      "cell_type": "code",
      "execution_count": null,
      "metadata": {
        "collapsed": true,
        "id": "34ZjqPr0rbkd"
      },
      "outputs": [],
      "source": [
        "guesses = [0]"
      ]
    },
    {
      "cell_type": "markdown",
      "metadata": {
        "id": "D4eTxxOorbke"
      },
      "source": [
        "#### Write a `while` loop that asks for a valid guess. Test it a few times to make sure it works."
      ]
    },
    {
      "cell_type": "code",
      "execution_count": 3,
      "metadata": {
        "colab": {
          "base_uri": "https://localhost:8080/"
        },
        "id": "0Un5Njb-rbkg",
        "outputId": "1d0e819e-bc2d-4171-cc08-9086e8b478da"
      },
      "outputs": [
        {
          "name": "stdout",
          "output_type": "stream",
          "text": [
            "Am thinking of a number between 1 and 100.\n",
            "  What is your guess? 25\n"
          ]
        }
      ],
      "source": [
        "while True:\n",
        "    \n",
        "    guess = int(input(\"Am thinking of a number between 1 and 100.\\n  What is your guess? \"))\n",
        "    \n",
        "    if guess < 1 or guess > 100:\n",
        "        print('OUT OF BOUNDS! Please try again: ')\n",
        "        continue\n",
        "        \n",
        "    break"
      ]
    },
    {
      "cell_type": "markdown",
      "metadata": {
        "id": "dInNZe3Vrbkh"
      },
      "source": [
        "#### Write a `while` loop that compares the player's guess to our number. If the player guesses correctly, break from the loop. Otherwise, tell the player if they're warmer or colder, and continue asking for guesses.\n",
        "\n",
        "Some hints:\n",
        "* it may help to sketch out all possible combinations on paper first!\n",
        "* you can use the `abs()` function to find the positive difference between two numbers\n",
        "* if you append all new guesses to the list, then the previous guess is given as `guesses[-2]`"
      ]
    },
    {
      "cell_type": "code",
      "execution_count": null,
      "metadata": {
        "id": "cWf34jb6rbkh",
        "outputId": "4254c896-3f8b-468c-ed6b-4d02f9dd7df7"
      },
      "outputs": [
        {
          "name": "stdout",
          "output_type": "stream",
          "text": [
            "I'm thinking of a number between 1 and 100.\n",
            "  What is your guess? 50\n",
            "COLD!\n",
            "I'm thinking of a number between 1 and 100.\n",
            "  What is your guess? 75\n",
            "WARMER!\n",
            "I'm thinking of a number between 1 and 100.\n",
            "  What is your guess? 85\n",
            "WARMER!\n",
            "I'm thinking of a number between 1 and 100.\n",
            "  What is your guess? 92\n",
            "COLDER!\n",
            "I'm thinking of a number between 1 and 100.\n",
            "  What is your guess? 80\n",
            "WARMER!\n",
            "I'm thinking of a number between 1 and 100.\n",
            "  What is your guess? 78\n",
            "COLDER!\n",
            "I'm thinking of a number between 1 and 100.\n",
            "  What is your guess? 82\n",
            "WARMER!\n",
            "I'm thinking of a number between 1 and 100.\n",
            "  What is your guess? 83\n",
            "COLDER!\n",
            "I'm thinking of a number between 1 and 100.\n",
            "  What is your guess? 81\n",
            "CONGRATULATIONS, YOU GUESSED IT IN ONLY 9 GUESSES!!\n"
          ]
        }
      ],
      "source": [
        "while True:\n",
        "\n",
        "    # we can copy the code from above to take an input\n",
        "    guess = int(input(\"I'm thinking of a number between 1 and 100.\\n  What is your guess? \"))\n",
        "    \n",
        "    if guess < 1 or guess > 100:\n",
        "        print('OUT OF BOUNDS! Please try again: ')\n",
        "        continue\n",
        "    \n",
        "    # here we compare the player's guess to our number\n",
        "    if guess == num:\n",
        "        print(f'CONGRATULATIONS, YOU GUESSED IT IN ONLY {len(guesses)} GUESSES!!')\n",
        "        break\n",
        "        \n",
        "    # if guess is incorrect, add guess to the list\n",
        "    guesses.append(guess)\n",
        "    \n",
        "    # when testing the first guess, guesses[-2]==0, which evaluates to False\n",
        "    # and brings us down to the second section\n",
        "    \n",
        "    if guesses[-2]:  \n",
        "        if abs(num-guess) < abs(num-guesses[-2]):\n",
        "            print('WARMER!')\n",
        "        else:\n",
        "            print('COLDER!')\n",
        "   \n",
        "    else:\n",
        "        if abs(num-guess) <= 10:\n",
        "            print('WARM!')\n",
        "        else:\n",
        "            print('COLD!')"
      ]
    },
    {
      "cell_type": "markdown",
      "metadata": {
        "id": "97NA1IHQrbki"
      },
      "source": [
        "That's it! You've just programmed your first game!\n",
        "\n",
        "In the next section we'll learn how to turn some of these repetitive actions into *functions* that can be called whenever we need them."
      ]
    },
    {
      "cell_type": "markdown",
      "metadata": {
        "id": "Wn9332bgrbki"
      },
      "source": [
        "### Good Job!"
      ]
    }
  ],
  "metadata": {
    "kernelspec": {
      "display_name": "Python 3",
      "language": "python",
      "name": "python3"
    },
    "language_info": {
      "codemirror_mode": {
        "name": "ipython",
        "version": 3
      },
      "file_extension": ".py",
      "mimetype": "text/x-python",
      "name": "python",
      "nbconvert_exporter": "python",
      "pygments_lexer": "ipython3",
      "version": "3.6.6"
    },
    "colab": {
      "provenance": []
    }
  },
  "nbformat": 4,
  "nbformat_minor": 0
}